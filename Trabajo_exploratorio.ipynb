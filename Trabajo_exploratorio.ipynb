{
  "nbformat": 4,
  "nbformat_minor": 0,
  "metadata": {
    "colab": {
      "provenance": [],
      "authorship_tag": "ABX9TyOIRB8zxyM6ETyG6/xBd0x8",
      "include_colab_link": true
    },
    "kernelspec": {
      "name": "python3",
      "display_name": "Python 3"
    },
    "language_info": {
      "name": "python"
    }
  },
  "cells": [
    {
      "cell_type": "markdown",
      "metadata": {
        "id": "view-in-github",
        "colab_type": "text"
      },
      "source": [
        "<a href=\"https://colab.research.google.com/github/bastiansosa/data-manipulation/blob/main/Trabajo_exploratorio.ipynb\" target=\"_parent\"><img src=\"https://colab.research.google.com/assets/colab-badge.svg\" alt=\"Open In Colab\"/></a>"
      ]
    },
    {
      "cell_type": "code",
      "execution_count": null,
      "metadata": {
        "id": "_ZRadEOvfPD8"
      },
      "outputs": [],
      "source": [
        "import pandas as pd\n",
        "import matplotlib.pyplot as plt\n",
        "import numpy as np\n",
        "from sklearn.feature_selection import RFE\n",
        "from sklearn.svm import SVR\n",
        "import statsmodels.formula.api as smf"
      ]
    },
    {
      "cell_type": "markdown",
      "source": [
        "analisis exploratorio para indicar si hay alguna variable para descartar,,, si se podria hacer una regresion y con que datos y si existen datos atipicos"
      ],
      "metadata": {
        "id": "z4gqI73tt580"
      }
    },
    {
      "cell_type": "code",
      "source": [
        "data = pd.read_csv(\"HousePrices-DS22.csv\")"
      ],
      "metadata": {
        "id": "aiA10irrfazc"
      },
      "execution_count": null,
      "outputs": []
    },
    {
      "cell_type": "code",
      "source": [
        "df.info()"
      ],
      "metadata": {
        "id": "QF2d4lJAj9SY",
        "colab": {
          "base_uri": "https://localhost:8080/"
        },
        "outputId": "a4c022c9-ec8a-47ca-d39d-1404507636be"
      },
      "execution_count": null,
      "outputs": [
        {
          "output_type": "stream",
          "name": "stdout",
          "text": [
            "<class 'pandas.core.frame.DataFrame'>\n",
            "RangeIndex: 120 entries, 0 to 119\n",
            "Data columns (total 10 columns):\n",
            " #   Column               Non-Null Count  Dtype  \n",
            "---  ------               --------------  -----  \n",
            " 0   house_sqft           120 non-null    int64  \n",
            " 1   num_of_bedrooms      120 non-null    int64  \n",
            " 2   num_of_bathrooms     120 non-null    float64\n",
            " 3   year_built           120 non-null    int64  \n",
            " 4   tax_assessed_value   120 non-null    int64  \n",
            " 5   last_sold_price      120 non-null    int64  \n",
            " 6   rate_per_sqfoot      120 non-null    int64  \n",
            " 7   city                 120 non-null    object \n",
            " 8   home_type            120 non-null    object \n",
            " 9   school_rating_1to10  45 non-null     float64\n",
            "dtypes: float64(2), int64(6), object(2)\n",
            "memory usage: 9.5+ KB\n"
          ]
        }
      ]
    },
    {
      "cell_type": "code",
      "source": [
        "df.describe()"
      ],
      "metadata": {
        "id": "Oyau3x08DDxz",
        "colab": {
          "base_uri": "https://localhost:8080/",
          "height": 344
        },
        "outputId": "824ddf0d-6dbb-4726-ffed-5b94cdb1d9b0"
      },
      "execution_count": null,
      "outputs": [
        {
          "output_type": "execute_result",
          "data": {
            "text/plain": [
              "        house_sqft  num_of_bedrooms  num_of_bathrooms   year_built  \\\n",
              "count   120.000000       120.000000        120.000000   120.000000   \n",
              "mean   2373.116667         4.050000          3.020833  2001.991667   \n",
              "std     648.229796         0.591963          0.507903     8.940039   \n",
              "min    1770.000000         3.000000          2.000000  1990.000000   \n",
              "25%    1985.000000         4.000000          2.500000  1992.000000   \n",
              "50%    2090.000000         4.000000          3.000000  2002.000000   \n",
              "75%    2750.000000         4.000000          3.500000  2012.000000   \n",
              "max    3900.000000         5.000000          4.000000  2016.000000   \n",
              "\n",
              "       tax_assessed_value  last_sold_price  rate_per_sqfoot  \\\n",
              "count        1.200000e+02       120.000000       120.000000   \n",
              "mean         3.993667e+05    294614.475000       126.558333   \n",
              "std          8.890630e+05     71392.526129        22.687795   \n",
              "min          1.950000e+05    196358.000000        89.000000   \n",
              "25%          2.300000e+05    230759.750000       112.000000   \n",
              "50%          3.000000e+05    306384.500000       119.000000   \n",
              "75%          3.300000e+05    333083.250000       153.000000   \n",
              "max          9.100000e+06    450842.000000       161.000000   \n",
              "\n",
              "       school_rating_1to10  \n",
              "count            45.000000  \n",
              "mean              7.933333  \n",
              "std               1.136182  \n",
              "min               6.000000  \n",
              "25%               7.000000  \n",
              "50%               9.000000  \n",
              "75%               9.000000  \n",
              "max               9.000000  "
            ],
            "text/html": [
              "\n",
              "  <div id=\"df-eb9953fa-b600-40c3-b202-d56e266edbd3\">\n",
              "    <div class=\"colab-df-container\">\n",
              "      <div>\n",
              "<style scoped>\n",
              "    .dataframe tbody tr th:only-of-type {\n",
              "        vertical-align: middle;\n",
              "    }\n",
              "\n",
              "    .dataframe tbody tr th {\n",
              "        vertical-align: top;\n",
              "    }\n",
              "\n",
              "    .dataframe thead th {\n",
              "        text-align: right;\n",
              "    }\n",
              "</style>\n",
              "<table border=\"1\" class=\"dataframe\">\n",
              "  <thead>\n",
              "    <tr style=\"text-align: right;\">\n",
              "      <th></th>\n",
              "      <th>house_sqft</th>\n",
              "      <th>num_of_bedrooms</th>\n",
              "      <th>num_of_bathrooms</th>\n",
              "      <th>year_built</th>\n",
              "      <th>tax_assessed_value</th>\n",
              "      <th>last_sold_price</th>\n",
              "      <th>rate_per_sqfoot</th>\n",
              "      <th>school_rating_1to10</th>\n",
              "    </tr>\n",
              "  </thead>\n",
              "  <tbody>\n",
              "    <tr>\n",
              "      <th>count</th>\n",
              "      <td>120.000000</td>\n",
              "      <td>120.000000</td>\n",
              "      <td>120.000000</td>\n",
              "      <td>120.000000</td>\n",
              "      <td>1.200000e+02</td>\n",
              "      <td>120.000000</td>\n",
              "      <td>120.000000</td>\n",
              "      <td>45.000000</td>\n",
              "    </tr>\n",
              "    <tr>\n",
              "      <th>mean</th>\n",
              "      <td>2373.116667</td>\n",
              "      <td>4.050000</td>\n",
              "      <td>3.020833</td>\n",
              "      <td>2001.991667</td>\n",
              "      <td>3.993667e+05</td>\n",
              "      <td>294614.475000</td>\n",
              "      <td>126.558333</td>\n",
              "      <td>7.933333</td>\n",
              "    </tr>\n",
              "    <tr>\n",
              "      <th>std</th>\n",
              "      <td>648.229796</td>\n",
              "      <td>0.591963</td>\n",
              "      <td>0.507903</td>\n",
              "      <td>8.940039</td>\n",
              "      <td>8.890630e+05</td>\n",
              "      <td>71392.526129</td>\n",
              "      <td>22.687795</td>\n",
              "      <td>1.136182</td>\n",
              "    </tr>\n",
              "    <tr>\n",
              "      <th>min</th>\n",
              "      <td>1770.000000</td>\n",
              "      <td>3.000000</td>\n",
              "      <td>2.000000</td>\n",
              "      <td>1990.000000</td>\n",
              "      <td>1.950000e+05</td>\n",
              "      <td>196358.000000</td>\n",
              "      <td>89.000000</td>\n",
              "      <td>6.000000</td>\n",
              "    </tr>\n",
              "    <tr>\n",
              "      <th>25%</th>\n",
              "      <td>1985.000000</td>\n",
              "      <td>4.000000</td>\n",
              "      <td>2.500000</td>\n",
              "      <td>1992.000000</td>\n",
              "      <td>2.300000e+05</td>\n",
              "      <td>230759.750000</td>\n",
              "      <td>112.000000</td>\n",
              "      <td>7.000000</td>\n",
              "    </tr>\n",
              "    <tr>\n",
              "      <th>50%</th>\n",
              "      <td>2090.000000</td>\n",
              "      <td>4.000000</td>\n",
              "      <td>3.000000</td>\n",
              "      <td>2002.000000</td>\n",
              "      <td>3.000000e+05</td>\n",
              "      <td>306384.500000</td>\n",
              "      <td>119.000000</td>\n",
              "      <td>9.000000</td>\n",
              "    </tr>\n",
              "    <tr>\n",
              "      <th>75%</th>\n",
              "      <td>2750.000000</td>\n",
              "      <td>4.000000</td>\n",
              "      <td>3.500000</td>\n",
              "      <td>2012.000000</td>\n",
              "      <td>3.300000e+05</td>\n",
              "      <td>333083.250000</td>\n",
              "      <td>153.000000</td>\n",
              "      <td>9.000000</td>\n",
              "    </tr>\n",
              "    <tr>\n",
              "      <th>max</th>\n",
              "      <td>3900.000000</td>\n",
              "      <td>5.000000</td>\n",
              "      <td>4.000000</td>\n",
              "      <td>2016.000000</td>\n",
              "      <td>9.100000e+06</td>\n",
              "      <td>450842.000000</td>\n",
              "      <td>161.000000</td>\n",
              "      <td>9.000000</td>\n",
              "    </tr>\n",
              "  </tbody>\n",
              "</table>\n",
              "</div>\n",
              "      <button class=\"colab-df-convert\" onclick=\"convertToInteractive('df-eb9953fa-b600-40c3-b202-d56e266edbd3')\"\n",
              "              title=\"Convert this dataframe to an interactive table.\"\n",
              "              style=\"display:none;\">\n",
              "        \n",
              "  <svg xmlns=\"http://www.w3.org/2000/svg\" height=\"24px\"viewBox=\"0 0 24 24\"\n",
              "       width=\"24px\">\n",
              "    <path d=\"M0 0h24v24H0V0z\" fill=\"none\"/>\n",
              "    <path d=\"M18.56 5.44l.94 2.06.94-2.06 2.06-.94-2.06-.94-.94-2.06-.94 2.06-2.06.94zm-11 1L8.5 8.5l.94-2.06 2.06-.94-2.06-.94L8.5 2.5l-.94 2.06-2.06.94zm10 10l.94 2.06.94-2.06 2.06-.94-2.06-.94-.94-2.06-.94 2.06-2.06.94z\"/><path d=\"M17.41 7.96l-1.37-1.37c-.4-.4-.92-.59-1.43-.59-.52 0-1.04.2-1.43.59L10.3 9.45l-7.72 7.72c-.78.78-.78 2.05 0 2.83L4 21.41c.39.39.9.59 1.41.59.51 0 1.02-.2 1.41-.59l7.78-7.78 2.81-2.81c.8-.78.8-2.07 0-2.86zM5.41 20L4 18.59l7.72-7.72 1.47 1.35L5.41 20z\"/>\n",
              "  </svg>\n",
              "      </button>\n",
              "      \n",
              "  <style>\n",
              "    .colab-df-container {\n",
              "      display:flex;\n",
              "      flex-wrap:wrap;\n",
              "      gap: 12px;\n",
              "    }\n",
              "\n",
              "    .colab-df-convert {\n",
              "      background-color: #E8F0FE;\n",
              "      border: none;\n",
              "      border-radius: 50%;\n",
              "      cursor: pointer;\n",
              "      display: none;\n",
              "      fill: #1967D2;\n",
              "      height: 32px;\n",
              "      padding: 0 0 0 0;\n",
              "      width: 32px;\n",
              "    }\n",
              "\n",
              "    .colab-df-convert:hover {\n",
              "      background-color: #E2EBFA;\n",
              "      box-shadow: 0px 1px 2px rgba(60, 64, 67, 0.3), 0px 1px 3px 1px rgba(60, 64, 67, 0.15);\n",
              "      fill: #174EA6;\n",
              "    }\n",
              "\n",
              "    [theme=dark] .colab-df-convert {\n",
              "      background-color: #3B4455;\n",
              "      fill: #D2E3FC;\n",
              "    }\n",
              "\n",
              "    [theme=dark] .colab-df-convert:hover {\n",
              "      background-color: #434B5C;\n",
              "      box-shadow: 0px 1px 3px 1px rgba(0, 0, 0, 0.15);\n",
              "      filter: drop-shadow(0px 1px 2px rgba(0, 0, 0, 0.3));\n",
              "      fill: #FFFFFF;\n",
              "    }\n",
              "  </style>\n",
              "\n",
              "      <script>\n",
              "        const buttonEl =\n",
              "          document.querySelector('#df-eb9953fa-b600-40c3-b202-d56e266edbd3 button.colab-df-convert');\n",
              "        buttonEl.style.display =\n",
              "          google.colab.kernel.accessAllowed ? 'block' : 'none';\n",
              "\n",
              "        async function convertToInteractive(key) {\n",
              "          const element = document.querySelector('#df-eb9953fa-b600-40c3-b202-d56e266edbd3');\n",
              "          const dataTable =\n",
              "            await google.colab.kernel.invokeFunction('convertToInteractive',\n",
              "                                                     [key], {});\n",
              "          if (!dataTable) return;\n",
              "\n",
              "          const docLinkHtml = 'Like what you see? Visit the ' +\n",
              "            '<a target=\"_blank\" href=https://colab.research.google.com/notebooks/data_table.ipynb>data table notebook</a>'\n",
              "            + ' to learn more about interactive tables.';\n",
              "          element.innerHTML = '';\n",
              "          dataTable['output_type'] = 'display_data';\n",
              "          await google.colab.output.renderOutput(dataTable, element);\n",
              "          const docLink = document.createElement('div');\n",
              "          docLink.innerHTML = docLinkHtml;\n",
              "          element.appendChild(docLink);\n",
              "        }\n",
              "      </script>\n",
              "    </div>\n",
              "  </div>\n",
              "  "
            ]
          },
          "metadata": {},
          "execution_count": 5
        }
      ]
    },
    {
      "cell_type": "code",
      "source": [
        "df"
      ],
      "metadata": {
        "colab": {
          "base_uri": "https://localhost:8080/",
          "height": 487
        },
        "id": "3bYRWMxkyuiD",
        "outputId": "29a34358-17d1-47c3-9a04-0a98a804e65f"
      },
      "execution_count": null,
      "outputs": [
        {
          "output_type": "execute_result",
          "data": {
            "text/plain": [
              "     house_sqft  num_of_bedrooms  num_of_bathrooms  year_built  \\\n",
              "0          1770                3               2.0        1990   \n",
              "1          1770                3               2.0        1990   \n",
              "2          1770                3               2.0        1990   \n",
              "3          1772                3               2.0        1990   \n",
              "4          1850                3               2.5        1990   \n",
              "..          ...              ...               ...         ...   \n",
              "115        2925                5               3.0        2016   \n",
              "116        2925                5               3.0        2016   \n",
              "117        2925                5               3.0        2016   \n",
              "118        2925                5               3.0        2016   \n",
              "119        2925                5               3.0        2016   \n",
              "\n",
              "     tax_assessed_value  last_sold_price  rate_per_sqfoot     city  \\\n",
              "0                195000           196358              111  atlanta   \n",
              "1                195000           197715              112  atlanta   \n",
              "2                195000           197816              112  atlanta   \n",
              "3                200000           198011              112  atlanta   \n",
              "4                200000           200530              108  atlanta   \n",
              "..                  ...              ...              ...      ...   \n",
              "115              440000           445040              152  atlanta   \n",
              "116              445000           447022              153  atlanta   \n",
              "117              445000           448260              153  atlanta   \n",
              "118              445000           449066              154  atlanta   \n",
              "119             4450000           450842              154  atlanta   \n",
              "\n",
              "         home_type  school_rating_1to10  \n",
              "0        apartment                  6.0  \n",
              "1        apartment                  6.0  \n",
              "2        apartment                  6.0  \n",
              "3        apartment                  6.0  \n",
              "4         townhome                  7.0  \n",
              "..             ...                  ...  \n",
              "115  single_family                  NaN  \n",
              "116  single_family                  NaN  \n",
              "117  single_family                  NaN  \n",
              "118  single_family                  NaN  \n",
              "119  single_family                  NaN  \n",
              "\n",
              "[120 rows x 10 columns]"
            ],
            "text/html": [
              "\n",
              "  <div id=\"df-c942160d-e394-47fe-a1ba-4f5fd022c668\">\n",
              "    <div class=\"colab-df-container\">\n",
              "      <div>\n",
              "<style scoped>\n",
              "    .dataframe tbody tr th:only-of-type {\n",
              "        vertical-align: middle;\n",
              "    }\n",
              "\n",
              "    .dataframe tbody tr th {\n",
              "        vertical-align: top;\n",
              "    }\n",
              "\n",
              "    .dataframe thead th {\n",
              "        text-align: right;\n",
              "    }\n",
              "</style>\n",
              "<table border=\"1\" class=\"dataframe\">\n",
              "  <thead>\n",
              "    <tr style=\"text-align: right;\">\n",
              "      <th></th>\n",
              "      <th>house_sqft</th>\n",
              "      <th>num_of_bedrooms</th>\n",
              "      <th>num_of_bathrooms</th>\n",
              "      <th>year_built</th>\n",
              "      <th>tax_assessed_value</th>\n",
              "      <th>last_sold_price</th>\n",
              "      <th>rate_per_sqfoot</th>\n",
              "      <th>city</th>\n",
              "      <th>home_type</th>\n",
              "      <th>school_rating_1to10</th>\n",
              "    </tr>\n",
              "  </thead>\n",
              "  <tbody>\n",
              "    <tr>\n",
              "      <th>0</th>\n",
              "      <td>1770</td>\n",
              "      <td>3</td>\n",
              "      <td>2.0</td>\n",
              "      <td>1990</td>\n",
              "      <td>195000</td>\n",
              "      <td>196358</td>\n",
              "      <td>111</td>\n",
              "      <td>atlanta</td>\n",
              "      <td>apartment</td>\n",
              "      <td>6.0</td>\n",
              "    </tr>\n",
              "    <tr>\n",
              "      <th>1</th>\n",
              "      <td>1770</td>\n",
              "      <td>3</td>\n",
              "      <td>2.0</td>\n",
              "      <td>1990</td>\n",
              "      <td>195000</td>\n",
              "      <td>197715</td>\n",
              "      <td>112</td>\n",
              "      <td>atlanta</td>\n",
              "      <td>apartment</td>\n",
              "      <td>6.0</td>\n",
              "    </tr>\n",
              "    <tr>\n",
              "      <th>2</th>\n",
              "      <td>1770</td>\n",
              "      <td>3</td>\n",
              "      <td>2.0</td>\n",
              "      <td>1990</td>\n",
              "      <td>195000</td>\n",
              "      <td>197816</td>\n",
              "      <td>112</td>\n",
              "      <td>atlanta</td>\n",
              "      <td>apartment</td>\n",
              "      <td>6.0</td>\n",
              "    </tr>\n",
              "    <tr>\n",
              "      <th>3</th>\n",
              "      <td>1772</td>\n",
              "      <td>3</td>\n",
              "      <td>2.0</td>\n",
              "      <td>1990</td>\n",
              "      <td>200000</td>\n",
              "      <td>198011</td>\n",
              "      <td>112</td>\n",
              "      <td>atlanta</td>\n",
              "      <td>apartment</td>\n",
              "      <td>6.0</td>\n",
              "    </tr>\n",
              "    <tr>\n",
              "      <th>4</th>\n",
              "      <td>1850</td>\n",
              "      <td>3</td>\n",
              "      <td>2.5</td>\n",
              "      <td>1990</td>\n",
              "      <td>200000</td>\n",
              "      <td>200530</td>\n",
              "      <td>108</td>\n",
              "      <td>atlanta</td>\n",
              "      <td>townhome</td>\n",
              "      <td>7.0</td>\n",
              "    </tr>\n",
              "    <tr>\n",
              "      <th>...</th>\n",
              "      <td>...</td>\n",
              "      <td>...</td>\n",
              "      <td>...</td>\n",
              "      <td>...</td>\n",
              "      <td>...</td>\n",
              "      <td>...</td>\n",
              "      <td>...</td>\n",
              "      <td>...</td>\n",
              "      <td>...</td>\n",
              "      <td>...</td>\n",
              "    </tr>\n",
              "    <tr>\n",
              "      <th>115</th>\n",
              "      <td>2925</td>\n",
              "      <td>5</td>\n",
              "      <td>3.0</td>\n",
              "      <td>2016</td>\n",
              "      <td>440000</td>\n",
              "      <td>445040</td>\n",
              "      <td>152</td>\n",
              "      <td>atlanta</td>\n",
              "      <td>single_family</td>\n",
              "      <td>NaN</td>\n",
              "    </tr>\n",
              "    <tr>\n",
              "      <th>116</th>\n",
              "      <td>2925</td>\n",
              "      <td>5</td>\n",
              "      <td>3.0</td>\n",
              "      <td>2016</td>\n",
              "      <td>445000</td>\n",
              "      <td>447022</td>\n",
              "      <td>153</td>\n",
              "      <td>atlanta</td>\n",
              "      <td>single_family</td>\n",
              "      <td>NaN</td>\n",
              "    </tr>\n",
              "    <tr>\n",
              "      <th>117</th>\n",
              "      <td>2925</td>\n",
              "      <td>5</td>\n",
              "      <td>3.0</td>\n",
              "      <td>2016</td>\n",
              "      <td>445000</td>\n",
              "      <td>448260</td>\n",
              "      <td>153</td>\n",
              "      <td>atlanta</td>\n",
              "      <td>single_family</td>\n",
              "      <td>NaN</td>\n",
              "    </tr>\n",
              "    <tr>\n",
              "      <th>118</th>\n",
              "      <td>2925</td>\n",
              "      <td>5</td>\n",
              "      <td>3.0</td>\n",
              "      <td>2016</td>\n",
              "      <td>445000</td>\n",
              "      <td>449066</td>\n",
              "      <td>154</td>\n",
              "      <td>atlanta</td>\n",
              "      <td>single_family</td>\n",
              "      <td>NaN</td>\n",
              "    </tr>\n",
              "    <tr>\n",
              "      <th>119</th>\n",
              "      <td>2925</td>\n",
              "      <td>5</td>\n",
              "      <td>3.0</td>\n",
              "      <td>2016</td>\n",
              "      <td>4450000</td>\n",
              "      <td>450842</td>\n",
              "      <td>154</td>\n",
              "      <td>atlanta</td>\n",
              "      <td>single_family</td>\n",
              "      <td>NaN</td>\n",
              "    </tr>\n",
              "  </tbody>\n",
              "</table>\n",
              "<p>120 rows × 10 columns</p>\n",
              "</div>\n",
              "      <button class=\"colab-df-convert\" onclick=\"convertToInteractive('df-c942160d-e394-47fe-a1ba-4f5fd022c668')\"\n",
              "              title=\"Convert this dataframe to an interactive table.\"\n",
              "              style=\"display:none;\">\n",
              "        \n",
              "  <svg xmlns=\"http://www.w3.org/2000/svg\" height=\"24px\"viewBox=\"0 0 24 24\"\n",
              "       width=\"24px\">\n",
              "    <path d=\"M0 0h24v24H0V0z\" fill=\"none\"/>\n",
              "    <path d=\"M18.56 5.44l.94 2.06.94-2.06 2.06-.94-2.06-.94-.94-2.06-.94 2.06-2.06.94zm-11 1L8.5 8.5l.94-2.06 2.06-.94-2.06-.94L8.5 2.5l-.94 2.06-2.06.94zm10 10l.94 2.06.94-2.06 2.06-.94-2.06-.94-.94-2.06-.94 2.06-2.06.94z\"/><path d=\"M17.41 7.96l-1.37-1.37c-.4-.4-.92-.59-1.43-.59-.52 0-1.04.2-1.43.59L10.3 9.45l-7.72 7.72c-.78.78-.78 2.05 0 2.83L4 21.41c.39.39.9.59 1.41.59.51 0 1.02-.2 1.41-.59l7.78-7.78 2.81-2.81c.8-.78.8-2.07 0-2.86zM5.41 20L4 18.59l7.72-7.72 1.47 1.35L5.41 20z\"/>\n",
              "  </svg>\n",
              "      </button>\n",
              "      \n",
              "  <style>\n",
              "    .colab-df-container {\n",
              "      display:flex;\n",
              "      flex-wrap:wrap;\n",
              "      gap: 12px;\n",
              "    }\n",
              "\n",
              "    .colab-df-convert {\n",
              "      background-color: #E8F0FE;\n",
              "      border: none;\n",
              "      border-radius: 50%;\n",
              "      cursor: pointer;\n",
              "      display: none;\n",
              "      fill: #1967D2;\n",
              "      height: 32px;\n",
              "      padding: 0 0 0 0;\n",
              "      width: 32px;\n",
              "    }\n",
              "\n",
              "    .colab-df-convert:hover {\n",
              "      background-color: #E2EBFA;\n",
              "      box-shadow: 0px 1px 2px rgba(60, 64, 67, 0.3), 0px 1px 3px 1px rgba(60, 64, 67, 0.15);\n",
              "      fill: #174EA6;\n",
              "    }\n",
              "\n",
              "    [theme=dark] .colab-df-convert {\n",
              "      background-color: #3B4455;\n",
              "      fill: #D2E3FC;\n",
              "    }\n",
              "\n",
              "    [theme=dark] .colab-df-convert:hover {\n",
              "      background-color: #434B5C;\n",
              "      box-shadow: 0px 1px 3px 1px rgba(0, 0, 0, 0.15);\n",
              "      filter: drop-shadow(0px 1px 2px rgba(0, 0, 0, 0.3));\n",
              "      fill: #FFFFFF;\n",
              "    }\n",
              "  </style>\n",
              "\n",
              "      <script>\n",
              "        const buttonEl =\n",
              "          document.querySelector('#df-c942160d-e394-47fe-a1ba-4f5fd022c668 button.colab-df-convert');\n",
              "        buttonEl.style.display =\n",
              "          google.colab.kernel.accessAllowed ? 'block' : 'none';\n",
              "\n",
              "        async function convertToInteractive(key) {\n",
              "          const element = document.querySelector('#df-c942160d-e394-47fe-a1ba-4f5fd022c668');\n",
              "          const dataTable =\n",
              "            await google.colab.kernel.invokeFunction('convertToInteractive',\n",
              "                                                     [key], {});\n",
              "          if (!dataTable) return;\n",
              "\n",
              "          const docLinkHtml = 'Like what you see? Visit the ' +\n",
              "            '<a target=\"_blank\" href=https://colab.research.google.com/notebooks/data_table.ipynb>data table notebook</a>'\n",
              "            + ' to learn more about interactive tables.';\n",
              "          element.innerHTML = '';\n",
              "          dataTable['output_type'] = 'display_data';\n",
              "          await google.colab.output.renderOutput(dataTable, element);\n",
              "          const docLink = document.createElement('div');\n",
              "          docLink.innerHTML = docLinkHtml;\n",
              "          element.appendChild(docLink);\n",
              "        }\n",
              "      </script>\n",
              "    </div>\n",
              "  </div>\n",
              "  "
            ]
          },
          "metadata": {},
          "execution_count": 6
        }
      ]
    },
    {
      "cell_type": "code",
      "source": [
        "df[\"school_rating_1to10\"].isnull().sum() #75 datos nulos de la columna "
      ],
      "metadata": {
        "colab": {
          "base_uri": "https://localhost:8080/"
        },
        "id": "rJyRotbSs2mw",
        "outputId": "84b7b984-c5e5-4296-f742-9157f73796dd"
      },
      "execution_count": null,
      "outputs": [
        {
          "output_type": "execute_result",
          "data": {
            "text/plain": [
              "75"
            ]
          },
          "metadata": {},
          "execution_count": 3
        }
      ]
    },
    {
      "cell_type": "code",
      "source": [
        "df[\"city\"].unique() # todas las casas estan ubicadas en atlanta,,\n",
        "                    # por lo que tenerlas en la data no sirve de nada"
      ],
      "metadata": {
        "colab": {
          "base_uri": "https://localhost:8080/"
        },
        "id": "Lyeaqb18wETX",
        "outputId": "f53504dd-fc33-45f5-afd7-53493655900b"
      },
      "execution_count": null,
      "outputs": [
        {
          "output_type": "execute_result",
          "data": {
            "text/plain": [
              "array(['atlanta'], dtype=object)"
            ]
          },
          "metadata": {},
          "execution_count": 4
        }
      ]
    },
    {
      "cell_type": "code",
      "source": [
        "df[\"num_of_bathrooms\"].unique() # observacion: saber que hacer con esta columna"
      ],
      "metadata": {
        "colab": {
          "base_uri": "https://localhost:8080/"
        },
        "id": "xt-ezsy6wx4F",
        "outputId": "3016ca1f-eccf-4088-bc90-ba375db57bb1"
      },
      "execution_count": null,
      "outputs": [
        {
          "output_type": "execute_result",
          "data": {
            "text/plain": [
              "array([2. , 2.5, 3. , 3.5, 4. ])"
            ]
          },
          "metadata": {},
          "execution_count": 5
        }
      ]
    },
    {
      "cell_type": "code",
      "source": [
        "#df[df[\"num_of_bathrooms\"]==2.5] # son 61\n",
        "df[df[\"num_of_bathrooms\"]==3.5] # son 18\n",
        "# 79 filas con datos float "
      ],
      "metadata": {
        "id": "PkcX_wsa4K0C"
      },
      "execution_count": null,
      "outputs": []
    },
    {
      "cell_type": "code",
      "source": [
        "df[\"home_type\"] = df[\"home_type\"].replace({'apartment':1, 'townhome':2, 'single_family':3})"
      ],
      "metadata": {
        "id": "Xg7SWDJcg09a"
      },
      "execution_count": null,
      "outputs": []
    },
    {
      "cell_type": "code",
      "source": [
        "df = df.drop([\"school_rating_1to10\",\"city\"], axis=1) # elimino las columna"
      ],
      "metadata": {
        "id": "FE1spKj1tBpx"
      },
      "execution_count": null,
      "outputs": []
    },
    {
      "cell_type": "code",
      "source": [
        "plt.scatter(df[\"year_built\"], df[\"last_sold_price\"]) \n",
        "plt.xlim(1990,2020)"
      ],
      "metadata": {
        "colab": {
          "base_uri": "https://localhost:8080/",
          "height": 447
        },
        "id": "-E6kuYd8yiK-",
        "outputId": "e004a8ce-c290-4411-9c75-7e1549f3f668"
      },
      "execution_count": null,
      "outputs": [
        {
          "output_type": "execute_result",
          "data": {
            "text/plain": [
              "(1990.0, 2020.0)"
            ]
          },
          "metadata": {},
          "execution_count": 10
        },
        {
          "output_type": "display_data",
          "data": {
            "text/plain": [
              "<Figure size 640x480 with 1 Axes>"
            ],
            "image/png": "[encoded data removed]"
          },
          "metadata": {}
        }
      ]
    },
    {
      "cell_type": "code",
      "source": [
        "plt.hist(df[\"last_sold_price\"])"
      ],
      "metadata": {
        "colab": {
          "base_uri": "https://localhost:8080/",
          "height": 499
        },
        "id": "GHtjpmwzyWoe",
        "outputId": "098f1c82-a125-4e9a-9169-e83c55b9e517"
      },
      "execution_count": null,
      "outputs": [
        {
          "output_type": "execute_result",
          "data": {
            "text/plain": [
              "(array([20., 27.,  4.,  0., 31., 21.,  4.,  0.,  0., 13.]),\n",
              " array([196358. , 221806.4, 247254.8, 272703.2, 298151.6, 323600. ,\n",
              "        349048.4, 374496.8, 399945.2, 425393.6, 450842. ]),\n",
              " <BarContainer object of 10 artists>)"
            ]
          },
          "metadata": {},
          "execution_count": 11
        },
        {
          "output_type": "display_data",
          "data": {
            "text/plain": [
              "<Figure size 640x480 with 1 Axes>"
            ],
            "image/png": "[encoded data removed]"
          },
          "metadata": {}
        }
      ]
    },
    {
      "cell_type": "code",
      "source": [
        "df.corr()"
      ],
      "metadata": {
        "colab": {
          "base_uri": "https://localhost:8080/",
          "height": 395
        },
        "id": "lford6VKKhfr",
        "outputId": "ec960084-0bb0-4beb-fdca-68b26d12ad08"
      },
      "execution_count": null,
      "outputs": [
        {
          "output_type": "execute_result",
          "data": {
            "text/plain": [
              "                    house_sqft  num_of_bedrooms  num_of_bathrooms  year_built  \\\n",
              "house_sqft            1.000000         0.808505          0.699737    0.322361   \n",
              "num_of_bedrooms       0.808505         1.000000          0.653325    0.360529   \n",
              "num_of_bathrooms      0.699737         0.653325          1.000000    0.420144   \n",
              "year_built            0.322361         0.360529          0.420144    1.000000   \n",
              "tax_assessed_value    0.041543         0.099408          0.036923    0.222568   \n",
              "last_sold_price       0.646680         0.574384          0.522383    0.878272   \n",
              "rate_per_sqfoot      -0.392838        -0.263013         -0.097280    0.709274   \n",
              "home_type             0.743831         0.667123          0.439498    0.430377   \n",
              "price_pred            0.646709         0.574362          0.521910    0.878289   \n",
              "\n",
              "                    tax_assessed_value  last_sold_price  rate_per_sqfoot  \\\n",
              "house_sqft                    0.041543         0.646680        -0.392838   \n",
              "num_of_bedrooms               0.099408         0.574384        -0.263013   \n",
              "num_of_bathrooms              0.036923         0.522383        -0.097280   \n",
              "year_built                    0.222568         0.878272         0.709274   \n",
              "tax_assessed_value            1.000000         0.187594         0.184602   \n",
              "last_sold_price               0.187594         1.000000         0.430921   \n",
              "rate_per_sqfoot               0.184602         0.430921         1.000000   \n",
              "home_type                     0.040061         0.654916        -0.132617   \n",
              "price_pred                    0.188457         0.999956         0.430940   \n",
              "\n",
              "                    home_type  price_pred  \n",
              "house_sqft           0.743831    0.646709  \n",
              "num_of_bedrooms      0.667123    0.574362  \n",
              "num_of_bathrooms     0.439498    0.521910  \n",
              "year_built           0.430377    0.878289  \n",
              "tax_assessed_value   0.040061    0.188457  \n",
              "last_sold_price      0.654916    0.999956  \n",
              "rate_per_sqfoot     -0.132617    0.430940  \n",
              "home_type            1.000000    0.655188  \n",
              "price_pred           0.655188    1.000000  "
            ],
            "text/html": [
              "\n",
              "  <div id=\"df-510c34c3-da68-4729-8501-f57964a9facb\">\n",
              "    <div class=\"colab-df-container\">\n",
              "      <div>\n",
              "<style scoped>\n",
              "    .dataframe tbody tr th:only-of-type {\n",
              "        vertical-align: middle;\n",
              "    }\n",
              "\n",
              "    .dataframe tbody tr th {\n",
              "        vertical-align: top;\n",
              "    }\n",
              "\n",
              "    .dataframe thead th {\n",
              "        text-align: right;\n",
              "    }\n",
              "</style>\n",
              "<table border=\"1\" class=\"dataframe\">\n",
              "  <thead>\n",
              "    <tr style=\"text-align: right;\">\n",
              "      <th></th>\n",
              "      <th>house_sqft</th>\n",
              "      <th>num_of_bedrooms</th>\n",
              "      <th>num_of_bathrooms</th>\n",
              "      <th>year_built</th>\n",
              "      <th>tax_assessed_value</th>\n",
              "      <th>last_sold_price</th>\n",
              "      <th>rate_per_sqfoot</th>\n",
              "      <th>home_type</th>\n",
              "      <th>price_pred</th>\n",
              "    </tr>\n",
              "  </thead>\n",
              "  <tbody>\n",
              "    <tr>\n",
              "      <th>house_sqft</th>\n",
              "      <td>1.000000</td>\n",
              "      <td>0.808505</td>\n",
              "      <td>0.699737</td>\n",
              "      <td>0.322361</td>\n",
              "      <td>0.041543</td>\n",
              "      <td>0.646680</td>\n",
              "      <td>-0.392838</td>\n",
              "      <td>0.743831</td>\n",
              "      <td>0.646709</td>\n",
              "    </tr>\n",
              "    <tr>\n",
              "      <th>num_of_bedrooms</th>\n",
              "      <td>0.808505</td>\n",
              "      <td>1.000000</td>\n",
              "      <td>0.653325</td>\n",
              "      <td>0.360529</td>\n",
              "      <td>0.099408</td>\n",
              "      <td>0.574384</td>\n",
              "      <td>-0.263013</td>\n",
              "      <td>0.667123</td>\n",
              "      <td>0.574362</td>\n",
              "    </tr>\n",
              "    <tr>\n",
              "      <th>num_of_bathrooms</th>\n",
              "      <td>0.699737</td>\n",
              "      <td>0.653325</td>\n",
              "      <td>1.000000</td>\n",
              "      <td>0.420144</td>\n",
              "      <td>0.036923</td>\n",
              "      <td>0.522383</td>\n",
              "      <td>-0.097280</td>\n",
              "      <td>0.439498</td>\n",
              "      <td>0.521910</td>\n",
              "    </tr>\n",
              "    <tr>\n",
              "      <th>year_built</th>\n",
              "      <td>0.322361</td>\n",
              "      <td>0.360529</td>\n",
              "      <td>0.420144</td>\n",
              "      <td>1.000000</td>\n",
              "      <td>0.222568</td>\n",
              "      <td>0.878272</td>\n",
              "      <td>0.709274</td>\n",
              "      <td>0.430377</td>\n",
              "      <td>0.878289</td>\n",
              "    </tr>\n",
              "    <tr>\n",
              "      <th>tax_assessed_value</th>\n",
              "      <td>0.041543</td>\n",
              "      <td>0.099408</td>\n",
              "      <td>0.036923</td>\n",
              "      <td>0.222568</td>\n",
              "      <td>1.000000</td>\n",
              "      <td>0.187594</td>\n",
              "      <td>0.184602</td>\n",
              "      <td>0.040061</td>\n",
              "      <td>0.188457</td>\n",
              "    </tr>\n",
              "    <tr>\n",
              "      <th>last_sold_price</th>\n",
              "      <td>0.646680</td>\n",
              "      <td>0.574384</td>\n",
              "      <td>0.522383</td>\n",
              "      <td>0.878272</td>\n",
              "      <td>0.187594</td>\n",
              "      <td>1.000000</td>\n",
              "      <td>0.430921</td>\n",
              "      <td>0.654916</td>\n",
              "      <td>0.999956</td>\n",
              "    </tr>\n",
              "    <tr>\n",
              "      <th>rate_per_sqfoot</th>\n",
              "      <td>-0.392838</td>\n",
              "      <td>-0.263013</td>\n",
              "      <td>-0.097280</td>\n",
              "      <td>0.709274</td>\n",
              "      <td>0.184602</td>\n",
              "      <td>0.430921</td>\n",
              "      <td>1.000000</td>\n",
              "      <td>-0.132617</td>\n",
              "      <td>0.430940</td>\n",
              "    </tr>\n",
              "    <tr>\n",
              "      <th>home_type</th>\n",
              "      <td>0.743831</td>\n",
              "      <td>0.667123</td>\n",
              "      <td>0.439498</td>\n",
              "      <td>0.430377</td>\n",
              "      <td>0.040061</td>\n",
              "      <td>0.654916</td>\n",
              "      <td>-0.132617</td>\n",
              "      <td>1.000000</td>\n",
              "      <td>0.655188</td>\n",
              "    </tr>\n",
              "    <tr>\n",
              "      <th>price_pred</th>\n",
              "      <td>0.646709</td>\n",
              "      <td>0.574362</td>\n",
              "      <td>0.521910</td>\n",
              "      <td>0.878289</td>\n",
              "      <td>0.188457</td>\n",
              "      <td>0.999956</td>\n",
              "      <td>0.430940</td>\n",
              "      <td>0.655188</td>\n",
              "      <td>1.000000</td>\n",
              "    </tr>\n",
              "  </tbody>\n",
              "</table>\n",
              "</div>\n",
              "      <button class=\"colab-df-convert\" onclick=\"convertToInteractive('df-510c34c3-da68-4729-8501-f57964a9facb')\"\n",
              "              title=\"Convert this dataframe to an interactive table.\"\n",
              "              style=\"display:none;\">\n",
              "        \n",
              "  <svg xmlns=\"http://www.w3.org/2000/svg\" height=\"24px\"viewBox=\"0 0 24 24\"\n",
              "       width=\"24px\">\n",
              "    <path d=\"M0 0h24v24H0V0z\" fill=\"none\"/>\n",
              "    <path d=\"M18.56 5.44l.94 2.06.94-2.06 2.06-.94-2.06-.94-.94-2.06-.94 2.06-2.06.94zm-11 1L8.5 8.5l.94-2.06 2.06-.94-2.06-.94L8.5 2.5l-.94 2.06-2.06.94zm10 10l.94 2.06.94-2.06 2.06-.94-2.06-.94-.94-2.06-.94 2.06-2.06.94z\"/><path d=\"M17.41 7.96l-1.37-1.37c-.4-.4-.92-.59-1.43-.59-.52 0-1.04.2-1.43.59L10.3 9.45l-7.72 7.72c-.78.78-.78 2.05 0 2.83L4 21.41c.39.39.9.59 1.41.59.51 0 1.02-.2 1.41-.59l7.78-7.78 2.81-2.81c.8-.78.8-2.07 0-2.86zM5.41 20L4 18.59l7.72-7.72 1.47 1.35L5.41 20z\"/>\n",
              "  </svg>\n",
              "      </button>\n",
              "      \n",
              "  <style>\n",
              "    .colab-df-container {\n",
              "      display:flex;\n",
              "      flex-wrap:wrap;\n",
              "      gap: 12px;\n",
              "    }\n",
              "\n",
              "    .colab-df-convert {\n",
              "      background-color: #E8F0FE;\n",
              "      border: none;\n",
              "      border-radius: 50%;\n",
              "      cursor: pointer;\n",
              "      display: none;\n",
              "      fill: #1967D2;\n",
              "      height: 32px;\n",
              "      padding: 0 0 0 0;\n",
              "      width: 32px;\n",
              "    }\n",
              "\n",
              "    .colab-df-convert:hover {\n",
              "      background-color: #E2EBFA;\n",
              "      box-shadow: 0px 1px 2px rgba(60, 64, 67, 0.3), 0px 1px 3px 1px rgba(60, 64, 67, 0.15);\n",
              "      fill: #174EA6;\n",
              "    }\n",
              "\n",
              "    [theme=dark] .colab-df-convert {\n",
              "      background-color: #3B4455;\n",
              "      fill: #D2E3FC;\n",
              "    }\n",
              "\n",
              "    [theme=dark] .colab-df-convert:hover {\n",
              "      background-color: #434B5C;\n",
              "      box-shadow: 0px 1px 3px 1px rgba(0, 0, 0, 0.15);\n",
              "      filter: drop-shadow(0px 1px 2px rgba(0, 0, 0, 0.3));\n",
              "      fill: #FFFFFF;\n",
              "    }\n",
              "  </style>\n",
              "\n",
              "      <script>\n",
              "        const buttonEl =\n",
              "          document.querySelector('#df-510c34c3-da68-4729-8501-f57964a9facb button.colab-df-convert');\n",
              "        buttonEl.style.display =\n",
              "          google.colab.kernel.accessAllowed ? 'block' : 'none';\n",
              "\n",
              "        async function convertToInteractive(key) {\n",
              "          const element = document.querySelector('#df-510c34c3-da68-4729-8501-f57964a9facb');\n",
              "          const dataTable =\n",
              "            await google.colab.kernel.invokeFunction('convertToInteractive',\n",
              "                                                     [key], {});\n",
              "          if (!dataTable) return;\n",
              "\n",
              "          const docLinkHtml = 'Like what you see? Visit the ' +\n",
              "            '<a target=\"_blank\" href=https://colab.research.google.com/notebooks/data_table.ipynb>data table notebook</a>'\n",
              "            + ' to learn more about interactive tables.';\n",
              "          element.innerHTML = '';\n",
              "          dataTable['output_type'] = 'display_data';\n",
              "          await google.colab.output.renderOutput(dataTable, element);\n",
              "          const docLink = document.createElement('div');\n",
              "          docLink.innerHTML = docLinkHtml;\n",
              "          element.appendChild(docLink);\n",
              "        }\n",
              "      </script>\n",
              "    </div>\n",
              "  </div>\n",
              "  "
            ]
          },
          "metadata": {},
          "execution_count": 31
        }
      ]
    },
    {
      "cell_type": "code",
      "source": [
        "lm = smf.ols(formula=\"last_sold_price~rate_per_sqfoot*house_sqft\",data=df).fit() #Conclusion: este modelo pareciera que da buenos resultados\n",
        "                                                                                 # sin embargo, alguno de sus estadisticos dicen lo contrario\n",
        "                                                                                 # por ejemplos, sus pvalues, aunque el modelo tiene un r^2 del \n",
        "                                                                                 # 99%. Su valor de f es mucho mas grande en comparacion al otro\n",
        "                                                                                 # modelo "
      ],
      "metadata": {
        "id": "b6yE4pjrKgf2"
      },
      "execution_count": null,
      "outputs": []
    },
    {
      "cell_type": "code",
      "source": [
        "lm.pvalues"
      ],
      "metadata": {
        "colab": {
          "base_uri": "https://localhost:8080/"
        },
        "id": "3ynmjvm5yBX8",
        "outputId": "53371519-90be-4b01-fe23-af8bf3bb220b"
      },
      "execution_count": null,
      "outputs": [
        {
          "output_type": "execute_result",
          "data": {
            "text/plain": [
              "Intercept                      4.379530e-01\n",
              "rate_per_sqfoot                4.362621e-01\n",
              "house_sqft                     4.517182e-01\n",
              "rate_per_sqfoot:house_sqft    2.639942e-146\n",
              "dtype: float64"
            ]
          },
          "metadata": {},
          "execution_count": 14
        }
      ]
    },
    {
      "cell_type": "code",
      "source": [
        "lm.summary()"
      ],
      "metadata": {
        "colab": {
          "base_uri": "https://localhost:8080/",
          "height": 520
        },
        "id": "3jfcYQFdLXx9",
        "outputId": "100929b2-0bd3-4455-f9e0-bff68e83d26b"
      },
      "execution_count": null,
      "outputs": [
        {
          "output_type": "execute_result",
          "data": {
            "text/plain": [
              "<class 'statsmodels.iolib.summary.Summary'>\n",
              "\"\"\"\n",
              "                            OLS Regression Results                            \n",
              "==============================================================================\n",
              "Dep. Variable:        last_sold_price   R-squared:                       1.000\n",
              "Model:                            OLS   Adj. R-squared:                  1.000\n",
              "Method:                 Least Squares   F-statistic:                 4.427e+05\n",
              "Date:                Sun, 02 Apr 2023   Prob (F-statistic):          3.34e-235\n",
              "Time:                        22:36:27   Log-Likelihood:                -950.13\n",
              "No. Observations:                 120   AIC:                             1908.\n",
              "Df Residuals:                     116   BIC:                             1919.\n",
              "Df Model:                           3                                         \n",
              "Covariance Type:            nonrobust                                         \n",
              "==============================================================================================\n",
              "                                 coef    std err          t      P>|t|      [0.025      0.975]\n",
              "----------------------------------------------------------------------------------------------\n",
              "Intercept                  -1219.0954   1566.275     -0.778      0.438   -4321.300    1883.110\n",
              "rate_per_sqfoot               10.7368     13.744      0.781      0.436     -16.484      37.958\n",
              "house_sqft                     0.4298      0.569      0.755      0.452      -0.698       1.557\n",
              "rate_per_sqfoot:house_sqft     0.9961      0.005    189.133      0.000       0.986       1.007\n",
              "==============================================================================\n",
              "Omnibus:                        4.013   Durbin-Watson:                   1.870\n",
              "Prob(Omnibus):                  0.134   Jarque-Bera (JB):                3.126\n",
              "Skew:                          -0.270   Prob(JB):                        0.210\n",
              "Kurtosis:                       2.422   Cond. No.                     7.70e+06\n",
              "==============================================================================\n",
              "\n",
              "Notes:\n",
              "[1] Standard Errors assume that the covariance matrix of the errors is correctly specified.\n",
              "[2] The condition number is large, 7.7e+06. This might indicate that there are\n",
              "strong multicollinearity or other numerical problems.\n",
              "\"\"\""
            ],
            "text/html": [
              "<table class=\"simpletable\">\n",
              "<caption>OLS Regression Results</caption>\n",
              "<tr>\n",
              "  <th>Dep. Variable:</th>     <td>last_sold_price</td> <th>  R-squared:         </th> <td>   1.000</td> \n",
              "</tr>\n",
              "<tr>\n",
              "  <th>Model:</th>                   <td>OLS</td>       <th>  Adj. R-squared:    </th> <td>   1.000</td> \n",
              "</tr>\n",
              "<tr>\n",
              "  <th>Method:</th>             <td>Least Squares</td>  <th>  F-statistic:       </th> <td>4.427e+05</td>\n",
              "</tr>\n",
              "<tr>\n",
              "  <th>Date:</th>             <td>Sun, 02 Apr 2023</td> <th>  Prob (F-statistic):</th> <td>3.34e-235</td>\n",
              "</tr>\n",
              "<tr>\n",
              "  <th>Time:</th>                 <td>22:36:27</td>     <th>  Log-Likelihood:    </th> <td> -950.13</td> \n",
              "</tr>\n",
              "<tr>\n",
              "  <th>No. Observations:</th>      <td>   120</td>      <th>  AIC:               </th> <td>   1908.</td> \n",
              "</tr>\n",
              "<tr>\n",
              "  <th>Df Residuals:</th>          <td>   116</td>      <th>  BIC:               </th> <td>   1919.</td> \n",
              "</tr>\n",
              "<tr>\n",
              "  <th>Df Model:</th>              <td>     3</td>      <th>                     </th>     <td> </td>    \n",
              "</tr>\n",
              "<tr>\n",
              "  <th>Covariance Type:</th>      <td>nonrobust</td>    <th>                     </th>     <td> </td>    \n",
              "</tr>\n",
              "</table>\n",
              "<table class=\"simpletable\">\n",
              "<tr>\n",
              "               <td></td>                 <th>coef</th>     <th>std err</th>      <th>t</th>      <th>P>|t|</th>  <th>[0.025</th>    <th>0.975]</th>  \n",
              "</tr>\n",
              "<tr>\n",
              "  <th>Intercept</th>                  <td>-1219.0954</td> <td> 1566.275</td> <td>   -0.778</td> <td> 0.438</td> <td>-4321.300</td> <td> 1883.110</td>\n",
              "</tr>\n",
              "<tr>\n",
              "  <th>rate_per_sqfoot</th>            <td>   10.7368</td> <td>   13.744</td> <td>    0.781</td> <td> 0.436</td> <td>  -16.484</td> <td>   37.958</td>\n",
              "</tr>\n",
              "<tr>\n",
              "  <th>house_sqft</th>                 <td>    0.4298</td> <td>    0.569</td> <td>    0.755</td> <td> 0.452</td> <td>   -0.698</td> <td>    1.557</td>\n",
              "</tr>\n",
              "<tr>\n",
              "  <th>rate_per_sqfoot:house_sqft</th> <td>    0.9961</td> <td>    0.005</td> <td>  189.133</td> <td> 0.000</td> <td>    0.986</td> <td>    1.007</td>\n",
              "</tr>\n",
              "</table>\n",
              "<table class=\"simpletable\">\n",
              "<tr>\n",
              "  <th>Omnibus:</th>       <td> 4.013</td> <th>  Durbin-Watson:     </th> <td>   1.870</td>\n",
              "</tr>\n",
              "<tr>\n",
              "  <th>Prob(Omnibus):</th> <td> 0.134</td> <th>  Jarque-Bera (JB):  </th> <td>   3.126</td>\n",
              "</tr>\n",
              "<tr>\n",
              "  <th>Skew:</th>          <td>-0.270</td> <th>  Prob(JB):          </th> <td>   0.210</td>\n",
              "</tr>\n",
              "<tr>\n",
              "  <th>Kurtosis:</th>      <td> 2.422</td> <th>  Cond. No.          </th> <td>7.70e+06</td>\n",
              "</tr>\n",
              "</table><br/><br/>Notes:<br/>[1] Standard Errors assume that the covariance matrix of the errors is correctly specified.<br/>[2] The condition number is large, 7.7e+06. This might indicate that there are<br/>strong multicollinearity or other numerical problems."
            ]
          },
          "metadata": {},
          "execution_count": 15
        }
      ]
    },
    {
      "cell_type": "markdown",
      "source": [
        "last_sold_price = 10.736807 * rate_per_sqfoot + 0.429764 * house_sqft -1219.095356\n"
      ],
      "metadata": {
        "id": "Xa0X138jU6c2"
      }
    },
    {
      "cell_type": "code",
      "source": [
        "df[\"price_pred\"] = lm.predict(pd.DataFrame(df[[\"rate_per_sqfoot\",\"house_sqft\"]]))\n",
        "df.head(10)"
      ],
      "metadata": {
        "id": "lTk_ZuIRU28q",
        "colab": {
          "base_uri": "https://localhost:8080/",
          "height": 407
        },
        "outputId": "a7d07637-ed56-4371-ec5f-c215b4bccd4b"
      },
      "execution_count": null,
      "outputs": [
        {
          "output_type": "execute_result",
          "data": {
            "text/plain": [
              "   house_sqft  num_of_bedrooms  num_of_bathrooms  year_built  \\\n",
              "0        1770                3               2.0        1990   \n",
              "1        1770                3               2.0        1990   \n",
              "2        1770                3               2.0        1990   \n",
              "3        1772                3               2.0        1990   \n",
              "4        1850                3               2.5        1990   \n",
              "5        1850                3               2.5        1991   \n",
              "6        1850                3               2.5        1991   \n",
              "7        1850                3               2.5        1990   \n",
              "8        1850                3               2.5        1990   \n",
              "9        1850                3               2.5        1993   \n",
              "\n",
              "   tax_assessed_value  last_sold_price  rate_per_sqfoot  home_type  \\\n",
              "0              195000           196358              111          1   \n",
              "1              195000           197715              112          1   \n",
              "2              195000           197816              112          1   \n",
              "3              200000           198011              112          1   \n",
              "4              200000           200530              108          2   \n",
              "5              200000           201805              109          2   \n",
              "6              205000           206175              111          2   \n",
              "7              205000           207027              112          2   \n",
              "8              205000           207121              112          2   \n",
              "9              205000           210519              114          2   \n",
              "\n",
              "      price_pred  \n",
              "0  196434.092214  \n",
              "1  198207.898571  \n",
              "2  198207.898571  \n",
              "3  198431.881024  \n",
              "4  199753.224256  \n",
              "5  201606.717372  \n",
              "6  205313.703603  \n",
              "7  207167.196719  \n",
              "8  207167.196719  \n",
              "9  210874.182950  "
            ],
            "text/html": [
              "\n",
              "  <div id=\"df-ce4c0d36-79ba-48e5-92f3-aa069a6877fa\">\n",
              "    <div class=\"colab-df-container\">\n",
              "      <div>\n",
              "<style scoped>\n",
              "    .dataframe tbody tr th:only-of-type {\n",
              "        vertical-align: middle;\n",
              "    }\n",
              "\n",
              "    .dataframe tbody tr th {\n",
              "        vertical-align: top;\n",
              "    }\n",
              "\n",
              "    .dataframe thead th {\n",
              "        text-align: right;\n",
              "    }\n",
              "</style>\n",
              "<table border=\"1\" class=\"dataframe\">\n",
              "  <thead>\n",
              "    <tr style=\"text-align: right;\">\n",
              "      <th></th>\n",
              "      <th>house_sqft</th>\n",
              "      <th>num_of_bedrooms</th>\n",
              "      <th>num_of_bathrooms</th>\n",
              "      <th>year_built</th>\n",
              "      <th>tax_assessed_value</th>\n",
              "      <th>last_sold_price</th>\n",
              "      <th>rate_per_sqfoot</th>\n",
              "      <th>home_type</th>\n",
              "      <th>price_pred</th>\n",
              "    </tr>\n",
              "  </thead>\n",
              "  <tbody>\n",
              "    <tr>\n",
              "      <th>0</th>\n",
              "      <td>1770</td>\n",
              "      <td>3</td>\n",
              "      <td>2.0</td>\n",
              "      <td>1990</td>\n",
              "      <td>195000</td>\n",
              "      <td>196358</td>\n",
              "      <td>111</td>\n",
              "      <td>1</td>\n",
              "      <td>196434.092214</td>\n",
              "    </tr>\n",
              "    <tr>\n",
              "      <th>1</th>\n",
              "      <td>1770</td>\n",
              "      <td>3</td>\n",
              "      <td>2.0</td>\n",
              "      <td>1990</td>\n",
              "      <td>195000</td>\n",
              "      <td>197715</td>\n",
              "      <td>112</td>\n",
              "      <td>1</td>\n",
              "      <td>198207.898571</td>\n",
              "    </tr>\n",
              "    <tr>\n",
              "      <th>2</th>\n",
              "      <td>1770</td>\n",
              "      <td>3</td>\n",
              "      <td>2.0</td>\n",
              "      <td>1990</td>\n",
              "      <td>195000</td>\n",
              "      <td>197816</td>\n",
              "      <td>112</td>\n",
              "      <td>1</td>\n",
              "      <td>198207.898571</td>\n",
              "    </tr>\n",
              "    <tr>\n",
              "      <th>3</th>\n",
              "      <td>1772</td>\n",
              "      <td>3</td>\n",
              "      <td>2.0</td>\n",
              "      <td>1990</td>\n",
              "      <td>200000</td>\n",
              "      <td>198011</td>\n",
              "      <td>112</td>\n",
              "      <td>1</td>\n",
              "      <td>198431.881024</td>\n",
              "    </tr>\n",
              "    <tr>\n",
              "      <th>4</th>\n",
              "      <td>1850</td>\n",
              "      <td>3</td>\n",
              "      <td>2.5</td>\n",
              "      <td>1990</td>\n",
              "      <td>200000</td>\n",
              "      <td>200530</td>\n",
              "      <td>108</td>\n",
              "      <td>2</td>\n",
              "      <td>199753.224256</td>\n",
              "    </tr>\n",
              "    <tr>\n",
              "      <th>5</th>\n",
              "      <td>1850</td>\n",
              "      <td>3</td>\n",
              "      <td>2.5</td>\n",
              "      <td>1991</td>\n",
              "      <td>200000</td>\n",
              "      <td>201805</td>\n",
              "      <td>109</td>\n",
              "      <td>2</td>\n",
              "      <td>201606.717372</td>\n",
              "    </tr>\n",
              "    <tr>\n",
              "      <th>6</th>\n",
              "      <td>1850</td>\n",
              "      <td>3</td>\n",
              "      <td>2.5</td>\n",
              "      <td>1991</td>\n",
              "      <td>205000</td>\n",
              "      <td>206175</td>\n",
              "      <td>111</td>\n",
              "      <td>2</td>\n",
              "      <td>205313.703603</td>\n",
              "    </tr>\n",
              "    <tr>\n",
              "      <th>7</th>\n",
              "      <td>1850</td>\n",
              "      <td>3</td>\n",
              "      <td>2.5</td>\n",
              "      <td>1990</td>\n",
              "      <td>205000</td>\n",
              "      <td>207027</td>\n",
              "      <td>112</td>\n",
              "      <td>2</td>\n",
              "      <td>207167.196719</td>\n",
              "    </tr>\n",
              "    <tr>\n",
              "      <th>8</th>\n",
              "      <td>1850</td>\n",
              "      <td>3</td>\n",
              "      <td>2.5</td>\n",
              "      <td>1990</td>\n",
              "      <td>205000</td>\n",
              "      <td>207121</td>\n",
              "      <td>112</td>\n",
              "      <td>2</td>\n",
              "      <td>207167.196719</td>\n",
              "    </tr>\n",
              "    <tr>\n",
              "      <th>9</th>\n",
              "      <td>1850</td>\n",
              "      <td>3</td>\n",
              "      <td>2.5</td>\n",
              "      <td>1993</td>\n",
              "      <td>205000</td>\n",
              "      <td>210519</td>\n",
              "      <td>114</td>\n",
              "      <td>2</td>\n",
              "      <td>210874.182950</td>\n",
              "    </tr>\n",
              "  </tbody>\n",
              "</table>\n",
              "</div>\n",
              "      <button class=\"colab-df-convert\" onclick=\"convertToInteractive('df-ce4c0d36-79ba-48e5-92f3-aa069a6877fa')\"\n",
              "              title=\"Convert this dataframe to an interactive table.\"\n",
              "              style=\"display:none;\">\n",
              "        \n",
              "  <svg xmlns=\"http://www.w3.org/2000/svg\" height=\"24px\"viewBox=\"0 0 24 24\"\n",
              "       width=\"24px\">\n",
              "    <path d=\"M0 0h24v24H0V0z\" fill=\"none\"/>\n",
              "    <path d=\"M18.56 5.44l.94 2.06.94-2.06 2.06-.94-2.06-.94-.94-2.06-.94 2.06-2.06.94zm-11 1L8.5 8.5l.94-2.06 2.06-.94-2.06-.94L8.5 2.5l-.94 2.06-2.06.94zm10 10l.94 2.06.94-2.06 2.06-.94-2.06-.94-.94-2.06-.94 2.06-2.06.94z\"/><path d=\"M17.41 7.96l-1.37-1.37c-.4-.4-.92-.59-1.43-.59-.52 0-1.04.2-1.43.59L10.3 9.45l-7.72 7.72c-.78.78-.78 2.05 0 2.83L4 21.41c.39.39.9.59 1.41.59.51 0 1.02-.2 1.41-.59l7.78-7.78 2.81-2.81c.8-.78.8-2.07 0-2.86zM5.41 20L4 18.59l7.72-7.72 1.47 1.35L5.41 20z\"/>\n",
              "  </svg>\n",
              "      </button>\n",
              "      \n",
              "  <style>\n",
              "    .colab-df-container {\n",
              "      display:flex;\n",
              "      flex-wrap:wrap;\n",
              "      gap: 12px;\n",
              "    }\n",
              "\n",
              "    .colab-df-convert {\n",
              "      background-color: #E8F0FE;\n",
              "      border: none;\n",
              "      border-radius: 50%;\n",
              "      cursor: pointer;\n",
              "      display: none;\n",
              "      fill: #1967D2;\n",
              "      height: 32px;\n",
              "      padding: 0 0 0 0;\n",
              "      width: 32px;\n",
              "    }\n",
              "\n",
              "    .colab-df-convert:hover {\n",
              "      background-color: #E2EBFA;\n",
              "      box-shadow: 0px 1px 2px rgba(60, 64, 67, 0.3), 0px 1px 3px 1px rgba(60, 64, 67, 0.15);\n",
              "      fill: #174EA6;\n",
              "    }\n",
              "\n",
              "    [theme=dark] .colab-df-convert {\n",
              "      background-color: #3B4455;\n",
              "      fill: #D2E3FC;\n",
              "    }\n",
              "\n",
              "    [theme=dark] .colab-df-convert:hover {\n",
              "      background-color: #434B5C;\n",
              "      box-shadow: 0px 1px 3px 1px rgba(0, 0, 0, 0.15);\n",
              "      filter: drop-shadow(0px 1px 2px rgba(0, 0, 0, 0.3));\n",
              "      fill: #FFFFFF;\n",
              "    }\n",
              "  </style>\n",
              "\n",
              "      <script>\n",
              "        const buttonEl =\n",
              "          document.querySelector('#df-ce4c0d36-79ba-48e5-92f3-aa069a6877fa button.colab-df-convert');\n",
              "        buttonEl.style.display =\n",
              "          google.colab.kernel.accessAllowed ? 'block' : 'none';\n",
              "\n",
              "        async function convertToInteractive(key) {\n",
              "          const element = document.querySelector('#df-ce4c0d36-79ba-48e5-92f3-aa069a6877fa');\n",
              "          const dataTable =\n",
              "            await google.colab.kernel.invokeFunction('convertToInteractive',\n",
              "                                                     [key], {});\n",
              "          if (!dataTable) return;\n",
              "\n",
              "          const docLinkHtml = 'Like what you see? Visit the ' +\n",
              "            '<a target=\"_blank\" href=https://colab.research.google.com/notebooks/data_table.ipynb>data table notebook</a>'\n",
              "            + ' to learn more about interactive tables.';\n",
              "          element.innerHTML = '';\n",
              "          dataTable['output_type'] = 'display_data';\n",
              "          await google.colab.output.renderOutput(dataTable, element);\n",
              "          const docLink = document.createElement('div');\n",
              "          docLink.innerHTML = docLinkHtml;\n",
              "          element.appendChild(docLink);\n",
              "        }\n",
              "      </script>\n",
              "    </div>\n",
              "  </div>\n",
              "  "
            ]
          },
          "metadata": {},
          "execution_count": 16
        }
      ]
    },
    {
      "cell_type": "code",
      "source": [
        "SSD = sum((df[\"last_sold_price\"]-df[\"price_pred\"])**2)\n",
        "RSE = np.sqrt(SSD/(len(df)-2-1))\n",
        "sales_m = np.mean(df[\"last_sold_price\"])\n",
        "error = RSE / sales_m\n",
        "RSE"
      ],
      "metadata": {
        "id": "qb9Bgl5pVwFj",
        "colab": {
          "base_uri": "https://localhost:8080/"
        },
        "outputId": "87c65c62-d57c-4235-c018-f8b87f31d9b3"
      },
      "execution_count": null,
      "outputs": [
        {
          "output_type": "execute_result",
          "data": {
            "text/plain": [
              "672.8279505236269"
            ]
          },
          "metadata": {},
          "execution_count": 32
        }
      ]
    },
    {
      "cell_type": "code",
      "source": [
        "lm2 = smf.ols(formula=\"last_sold_price~year_built*house_sqft\",data=df).fit() #Conclusiones: A pesar que este modelo tenga un r^2 alto\n",
        "lm2.rsquared,lm.pvalues                                                      # hay otros estadisticos que indican que no es tan buen modelo.\n",
        "                                                                             # El valor de RSE(Error estandar residual) es muy elevado en \n",
        "                                                                             # comparacion al primer modelo. De la misma manera para los\n",
        "                                                                             # pvalues, en este caso sus valores son muy grandes. Tiene un\n",
        "                                                                             # error de 4%. Ademas, los graficos indican que los valores que \n",
        "                                                                             # predice en comparacion a los originales son bastante dispersos \n",
        "                                                                             # juzgue ud mismo los valores predecidos "
      ],
      "metadata": {
        "id": "SUdBdldzYQ5N",
        "colab": {
          "base_uri": "https://localhost:8080/",
          "height": 520
        },
        "outputId": "e964bc42-9b90-41b9-c3de-c7a1dcca13b5"
      },
      "execution_count": null,
      "outputs": [
        {
          "output_type": "execute_result",
          "data": {
            "text/plain": [
              "<class 'statsmodels.iolib.summary.Summary'>\n",
              "\"\"\"\n",
              "                            OLS Regression Results                            \n",
              "==============================================================================\n",
              "Dep. Variable:        last_sold_price   R-squared:                       0.974\n",
              "Model:                            OLS   Adj. R-squared:                  0.974\n",
              "Method:                 Least Squares   F-statistic:                     1468.\n",
              "Date:                Thu, 30 Mar 2023   Prob (F-statistic):           4.70e-92\n",
              "Time:                        23:47:41   Log-Likelihood:                -1291.1\n",
              "No. Observations:                 120   AIC:                             2590.\n",
              "Df Residuals:                     116   BIC:                             2601.\n",
              "Df Model:                           3                                         \n",
              "Covariance Type:            nonrobust                                         \n",
              "=========================================================================================\n",
              "                            coef    std err          t      P>|t|      [0.025      0.975]\n",
              "-----------------------------------------------------------------------------------------\n",
              "Intercept              1.165e+07    1.5e+06      7.768      0.000    8.68e+06    1.46e+07\n",
              "year_built            -5726.7094    749.225     -7.644      0.000   -7210.644   -4242.775\n",
              "house_sqft            -1.057e+04    670.340    -15.768      0.000   -1.19e+04   -9241.954\n",
              "year_built:house_sqft     5.3014      0.335     15.834      0.000       4.638       5.964\n",
              "==============================================================================\n",
              "Omnibus:                       56.589   Durbin-Watson:                   0.610\n",
              "Prob(Omnibus):                  0.000   Jarque-Bera (JB):              168.125\n",
              "Skew:                           1.791   Prob(JB):                     3.11e-37\n",
              "Kurtosis:                       7.560   Cond. No.                     6.99e+09\n",
              "==============================================================================\n",
              "\n",
              "Notes:\n",
              "[1] Standard Errors assume that the covariance matrix of the errors is correctly specified.\n",
              "[2] The condition number is large, 6.99e+09. This might indicate that there are\n",
              "strong multicollinearity or other numerical problems.\n",
              "\"\"\""
            ],
            "text/html": [
              "<table class=\"simpletable\">\n",
              "<caption>OLS Regression Results</caption>\n",
              "<tr>\n",
              "  <th>Dep. Variable:</th>     <td>last_sold_price</td> <th>  R-squared:         </th> <td>   0.974</td>\n",
              "</tr>\n",
              "<tr>\n",
              "  <th>Model:</th>                   <td>OLS</td>       <th>  Adj. R-squared:    </th> <td>   0.974</td>\n",
              "</tr>\n",
              "<tr>\n",
              "  <th>Method:</th>             <td>Least Squares</td>  <th>  F-statistic:       </th> <td>   1468.</td>\n",
              "</tr>\n",
              "<tr>\n",
              "  <th>Date:</th>             <td>Thu, 30 Mar 2023</td> <th>  Prob (F-statistic):</th> <td>4.70e-92</td>\n",
              "</tr>\n",
              "<tr>\n",
              "  <th>Time:</th>                 <td>23:47:41</td>     <th>  Log-Likelihood:    </th> <td> -1291.1</td>\n",
              "</tr>\n",
              "<tr>\n",
              "  <th>No. Observations:</th>      <td>   120</td>      <th>  AIC:               </th> <td>   2590.</td>\n",
              "</tr>\n",
              "<tr>\n",
              "  <th>Df Residuals:</th>          <td>   116</td>      <th>  BIC:               </th> <td>   2601.</td>\n",
              "</tr>\n",
              "<tr>\n",
              "  <th>Df Model:</th>              <td>     3</td>      <th>                     </th>     <td> </td>   \n",
              "</tr>\n",
              "<tr>\n",
              "  <th>Covariance Type:</th>      <td>nonrobust</td>    <th>                     </th>     <td> </td>   \n",
              "</tr>\n",
              "</table>\n",
              "<table class=\"simpletable\">\n",
              "<tr>\n",
              "            <td></td>               <th>coef</th>     <th>std err</th>      <th>t</th>      <th>P>|t|</th>  <th>[0.025</th>    <th>0.975]</th>  \n",
              "</tr>\n",
              "<tr>\n",
              "  <th>Intercept</th>             <td> 1.165e+07</td> <td>  1.5e+06</td> <td>    7.768</td> <td> 0.000</td> <td> 8.68e+06</td> <td> 1.46e+07</td>\n",
              "</tr>\n",
              "<tr>\n",
              "  <th>year_built</th>            <td>-5726.7094</td> <td>  749.225</td> <td>   -7.644</td> <td> 0.000</td> <td>-7210.644</td> <td>-4242.775</td>\n",
              "</tr>\n",
              "<tr>\n",
              "  <th>house_sqft</th>            <td>-1.057e+04</td> <td>  670.340</td> <td>  -15.768</td> <td> 0.000</td> <td>-1.19e+04</td> <td>-9241.954</td>\n",
              "</tr>\n",
              "<tr>\n",
              "  <th>year_built:house_sqft</th> <td>    5.3014</td> <td>    0.335</td> <td>   15.834</td> <td> 0.000</td> <td>    4.638</td> <td>    5.964</td>\n",
              "</tr>\n",
              "</table>\n",
              "<table class=\"simpletable\">\n",
              "<tr>\n",
              "  <th>Omnibus:</th>       <td>56.589</td> <th>  Durbin-Watson:     </th> <td>   0.610</td>\n",
              "</tr>\n",
              "<tr>\n",
              "  <th>Prob(Omnibus):</th> <td> 0.000</td> <th>  Jarque-Bera (JB):  </th> <td> 168.125</td>\n",
              "</tr>\n",
              "<tr>\n",
              "  <th>Skew:</th>          <td> 1.791</td> <th>  Prob(JB):          </th> <td>3.11e-37</td>\n",
              "</tr>\n",
              "<tr>\n",
              "  <th>Kurtosis:</th>      <td> 7.560</td> <th>  Cond. No.          </th> <td>6.99e+09</td>\n",
              "</tr>\n",
              "</table><br/><br/>Notes:<br/>[1] Standard Errors assume that the covariance matrix of the errors is correctly specified.<br/>[2] The condition number is large, 6.99e+09. This might indicate that there are<br/>strong multicollinearity or other numerical problems."
            ]
          },
          "metadata": {},
          "execution_count": 52
        }
      ]
    },
    {
      "cell_type": "code",
      "source": [
        "pred2 = lm2.predict(pd.DataFrame(df[[\"year_built\",\"house_sqft\"]]))\n",
        "df[\"pred2\"] = pred2\n",
        "df"
      ],
      "metadata": {
        "id": "0cJP1SNfaQnd",
        "colab": {
          "base_uri": "https://localhost:8080/",
          "height": 487
        },
        "outputId": "8b414b7c-1ab6-4cc9-a38f-ac6d08c602e2"
      },
      "execution_count": null,
      "outputs": [
        {
          "output_type": "execute_result",
          "data": {
            "text/plain": [
              "     house_sqft  num_of_bedrooms  num_of_bathrooms  year_built  \\\n",
              "0          1770                3               2.0        1990   \n",
              "1          1770                3               2.0        1990   \n",
              "2          1770                3               2.0        1990   \n",
              "3          1772                3               2.0        1990   \n",
              "4          1850                3               2.5        1990   \n",
              "..          ...              ...               ...         ...   \n",
              "115        2925                5               3.0        2016   \n",
              "116        2925                5               3.0        2016   \n",
              "117        2925                5               3.0        2016   \n",
              "118        2925                5               3.0        2016   \n",
              "119        2925                5               3.0        2016   \n",
              "\n",
              "     tax_assessed_value  last_sold_price  rate_per_sqfoot  home_type  \\\n",
              "0                195000           196358              111          1   \n",
              "1                195000           197715              112          1   \n",
              "2                195000           197816              112          1   \n",
              "3                200000           198011              112          1   \n",
              "4                200000           200530              108          2   \n",
              "..                  ...              ...              ...        ...   \n",
              "115              440000           445040              152          3   \n",
              "116              445000           447022              153          3   \n",
              "117              445000           448260              153          3   \n",
              "118              445000           449066              154          3   \n",
              "119             4450000           450842              154          3   \n",
              "\n",
              "        price_pred          pred2  \n",
              "0    196434.092214  214606.577310  \n",
              "1    198207.898571  214606.577310  \n",
              "2    198207.898571  214606.577310  \n",
              "3    198431.881024  214566.767016  \n",
              "4    199753.224256  213014.165538  \n",
              "..             ...            ...  \n",
              "115  444529.123328  445891.451000  \n",
              "116  447453.407271  445891.451000  \n",
              "117  447453.407271  445891.451000  \n",
              "118  450377.691215  445891.451000  \n",
              "119  450377.691215  445891.451000  \n",
              "\n",
              "[120 rows x 10 columns]"
            ],
            "text/html": [
              "\n",
              "  <div id=\"df-fc3f46c2-c4c9-432f-b99a-d25fe618e3b6\">\n",
              "    <div class=\"colab-df-container\">\n",
              "      <div>\n",
              "<style scoped>\n",
              "    .dataframe tbody tr th:only-of-type {\n",
              "        vertical-align: middle;\n",
              "    }\n",
              "\n",
              "    .dataframe tbody tr th {\n",
              "        vertical-align: top;\n",
              "    }\n",
              "\n",
              "    .dataframe thead th {\n",
              "        text-align: right;\n",
              "    }\n",
              "</style>\n",
              "<table border=\"1\" class=\"dataframe\">\n",
              "  <thead>\n",
              "    <tr style=\"text-align: right;\">\n",
              "      <th></th>\n",
              "      <th>house_sqft</th>\n",
              "      <th>num_of_bedrooms</th>\n",
              "      <th>num_of_bathrooms</th>\n",
              "      <th>year_built</th>\n",
              "      <th>tax_assessed_value</th>\n",
              "      <th>last_sold_price</th>\n",
              "      <th>rate_per_sqfoot</th>\n",
              "      <th>home_type</th>\n",
              "      <th>price_pred</th>\n",
              "      <th>pred2</th>\n",
              "    </tr>\n",
              "  </thead>\n",
              "  <tbody>\n",
              "    <tr>\n",
              "      <th>0</th>\n",
              "      <td>1770</td>\n",
              "      <td>3</td>\n",
              "      <td>2.0</td>\n",
              "      <td>1990</td>\n",
              "      <td>195000</td>\n",
              "      <td>196358</td>\n",
              "      <td>111</td>\n",
              "      <td>1</td>\n",
              "      <td>196434.092214</td>\n",
              "      <td>214606.577310</td>\n",
              "    </tr>\n",
              "    <tr>\n",
              "      <th>1</th>\n",
              "      <td>1770</td>\n",
              "      <td>3</td>\n",
              "      <td>2.0</td>\n",
              "      <td>1990</td>\n",
              "      <td>195000</td>\n",
              "      <td>197715</td>\n",
              "      <td>112</td>\n",
              "      <td>1</td>\n",
              "      <td>198207.898571</td>\n",
              "      <td>214606.577310</td>\n",
              "    </tr>\n",
              "    <tr>\n",
              "      <th>2</th>\n",
              "      <td>1770</td>\n",
              "      <td>3</td>\n",
              "      <td>2.0</td>\n",
              "      <td>1990</td>\n",
              "      <td>195000</td>\n",
              "      <td>197816</td>\n",
              "      <td>112</td>\n",
              "      <td>1</td>\n",
              "      <td>198207.898571</td>\n",
              "      <td>214606.577310</td>\n",
              "    </tr>\n",
              "    <tr>\n",
              "      <th>3</th>\n",
              "      <td>1772</td>\n",
              "      <td>3</td>\n",
              "      <td>2.0</td>\n",
              "      <td>1990</td>\n",
              "      <td>200000</td>\n",
              "      <td>198011</td>\n",
              "      <td>112</td>\n",
              "      <td>1</td>\n",
              "      <td>198431.881024</td>\n",
              "      <td>214566.767016</td>\n",
              "    </tr>\n",
              "    <tr>\n",
              "      <th>4</th>\n",
              "      <td>1850</td>\n",
              "      <td>3</td>\n",
              "      <td>2.5</td>\n",
              "      <td>1990</td>\n",
              "      <td>200000</td>\n",
              "      <td>200530</td>\n",
              "      <td>108</td>\n",
              "      <td>2</td>\n",
              "      <td>199753.224256</td>\n",
              "      <td>213014.165538</td>\n",
              "    </tr>\n",
              "    <tr>\n",
              "      <th>...</th>\n",
              "      <td>...</td>\n",
              "      <td>...</td>\n",
              "      <td>...</td>\n",
              "      <td>...</td>\n",
              "      <td>...</td>\n",
              "      <td>...</td>\n",
              "      <td>...</td>\n",
              "      <td>...</td>\n",
              "      <td>...</td>\n",
              "      <td>...</td>\n",
              "    </tr>\n",
              "    <tr>\n",
              "      <th>115</th>\n",
              "      <td>2925</td>\n",
              "      <td>5</td>\n",
              "      <td>3.0</td>\n",
              "      <td>2016</td>\n",
              "      <td>440000</td>\n",
              "      <td>445040</td>\n",
              "      <td>152</td>\n",
              "      <td>3</td>\n",
              "      <td>444529.123328</td>\n",
              "      <td>445891.451000</td>\n",
              "    </tr>\n",
              "    <tr>\n",
              "      <th>116</th>\n",
              "      <td>2925</td>\n",
              "      <td>5</td>\n",
              "      <td>3.0</td>\n",
              "      <td>2016</td>\n",
              "      <td>445000</td>\n",
              "      <td>447022</td>\n",
              "      <td>153</td>\n",
              "      <td>3</td>\n",
              "      <td>447453.407271</td>\n",
              "      <td>445891.451000</td>\n",
              "    </tr>\n",
              "    <tr>\n",
              "      <th>117</th>\n",
              "      <td>2925</td>\n",
              "      <td>5</td>\n",
              "      <td>3.0</td>\n",
              "      <td>2016</td>\n",
              "      <td>445000</td>\n",
              "      <td>448260</td>\n",
              "      <td>153</td>\n",
              "      <td>3</td>\n",
              "      <td>447453.407271</td>\n",
              "      <td>445891.451000</td>\n",
              "    </tr>\n",
              "    <tr>\n",
              "      <th>118</th>\n",
              "      <td>2925</td>\n",
              "      <td>5</td>\n",
              "      <td>3.0</td>\n",
              "      <td>2016</td>\n",
              "      <td>445000</td>\n",
              "      <td>449066</td>\n",
              "      <td>154</td>\n",
              "      <td>3</td>\n",
              "      <td>450377.691215</td>\n",
              "      <td>445891.451000</td>\n",
              "    </tr>\n",
              "    <tr>\n",
              "      <th>119</th>\n",
              "      <td>2925</td>\n",
              "      <td>5</td>\n",
              "      <td>3.0</td>\n",
              "      <td>2016</td>\n",
              "      <td>4450000</td>\n",
              "      <td>450842</td>\n",
              "      <td>154</td>\n",
              "      <td>3</td>\n",
              "      <td>450377.691215</td>\n",
              "      <td>445891.451000</td>\n",
              "    </tr>\n",
              "  </tbody>\n",
              "</table>\n",
              "<p>120 rows × 10 columns</p>\n",
              "</div>\n",
              "      <button class=\"colab-df-convert\" onclick=\"convertToInteractive('df-fc3f46c2-c4c9-432f-b99a-d25fe618e3b6')\"\n",
              "              title=\"Convert this dataframe to an interactive table.\"\n",
              "              style=\"display:none;\">\n",
              "        \n",
              "  <svg xmlns=\"http://www.w3.org/2000/svg\" height=\"24px\"viewBox=\"0 0 24 24\"\n",
              "       width=\"24px\">\n",
              "    <path d=\"M0 0h24v24H0V0z\" fill=\"none\"/>\n",
              "    <path d=\"M18.56 5.44l.94 2.06.94-2.06 2.06-.94-2.06-.94-.94-2.06-.94 2.06-2.06.94zm-11 1L8.5 8.5l.94-2.06 2.06-.94-2.06-.94L8.5 2.5l-.94 2.06-2.06.94zm10 10l.94 2.06.94-2.06 2.06-.94-2.06-.94-.94-2.06-.94 2.06-2.06.94z\"/><path d=\"M17.41 7.96l-1.37-1.37c-.4-.4-.92-.59-1.43-.59-.52 0-1.04.2-1.43.59L10.3 9.45l-7.72 7.72c-.78.78-.78 2.05 0 2.83L4 21.41c.39.39.9.59 1.41.59.51 0 1.02-.2 1.41-.59l7.78-7.78 2.81-2.81c.8-.78.8-2.07 0-2.86zM5.41 20L4 18.59l7.72-7.72 1.47 1.35L5.41 20z\"/>\n",
              "  </svg>\n",
              "      </button>\n",
              "      \n",
              "  <style>\n",
              "    .colab-df-container {\n",
              "      display:flex;\n",
              "      flex-wrap:wrap;\n",
              "      gap: 12px;\n",
              "    }\n",
              "\n",
              "    .colab-df-convert {\n",
              "      background-color: #E8F0FE;\n",
              "      border: none;\n",
              "      border-radius: 50%;\n",
              "      cursor: pointer;\n",
              "      display: none;\n",
              "      fill: #1967D2;\n",
              "      height: 32px;\n",
              "      padding: 0 0 0 0;\n",
              "      width: 32px;\n",
              "    }\n",
              "\n",
              "    .colab-df-convert:hover {\n",
              "      background-color: #E2EBFA;\n",
              "      box-shadow: 0px 1px 2px rgba(60, 64, 67, 0.3), 0px 1px 3px 1px rgba(60, 64, 67, 0.15);\n",
              "      fill: #174EA6;\n",
              "    }\n",
              "\n",
              "    [theme=dark] .colab-df-convert {\n",
              "      background-color: #3B4455;\n",
              "      fill: #D2E3FC;\n",
              "    }\n",
              "\n",
              "    [theme=dark] .colab-df-convert:hover {\n",
              "      background-color: #434B5C;\n",
              "      box-shadow: 0px 1px 3px 1px rgba(0, 0, 0, 0.15);\n",
              "      filter: drop-shadow(0px 1px 2px rgba(0, 0, 0, 0.3));\n",
              "      fill: #FFFFFF;\n",
              "    }\n",
              "  </style>\n",
              "\n",
              "      <script>\n",
              "        const buttonEl =\n",
              "          document.querySelector('#df-fc3f46c2-c4c9-432f-b99a-d25fe618e3b6 button.colab-df-convert');\n",
              "        buttonEl.style.display =\n",
              "          google.colab.kernel.accessAllowed ? 'block' : 'none';\n",
              "\n",
              "        async function convertToInteractive(key) {\n",
              "          const element = document.querySelector('#df-fc3f46c2-c4c9-432f-b99a-d25fe618e3b6');\n",
              "          const dataTable =\n",
              "            await google.colab.kernel.invokeFunction('convertToInteractive',\n",
              "                                                     [key], {});\n",
              "          if (!dataTable) return;\n",
              "\n",
              "          const docLinkHtml = 'Like what you see? Visit the ' +\n",
              "            '<a target=\"_blank\" href=https://colab.research.google.com/notebooks/data_table.ipynb>data table notebook</a>'\n",
              "            + ' to learn more about interactive tables.';\n",
              "          element.innerHTML = '';\n",
              "          dataTable['output_type'] = 'display_data';\n",
              "          await google.colab.output.renderOutput(dataTable, element);\n",
              "          const docLink = document.createElement('div');\n",
              "          docLink.innerHTML = docLinkHtml;\n",
              "          element.appendChild(docLink);\n",
              "        }\n",
              "      </script>\n",
              "    </div>\n",
              "  </div>\n",
              "  "
            ]
          },
          "metadata": {},
          "execution_count": 53
        }
      ]
    },
    {
      "cell_type": "code",
      "source": [
        "SSD = sum((df[\"last_sold_price\"]-pred2)**2)\n",
        "RSE = np.sqrt(SSD/(len(df)-2-1))\n",
        "sales_m = np.mean(df[\"last_sold_price\"])\n",
        "error = RSE / sales_m*100\n",
        "error"
      ],
      "metadata": {
        "colab": {
          "base_uri": "https://localhost:8080/"
        },
        "id": "yQvIIf05epxE",
        "outputId": "6404d6f4-278f-48e3-cc9c-a971a2a43495"
      },
      "execution_count": null,
      "outputs": [
        {
          "output_type": "execute_result",
          "data": {
            "text/plain": [
              "3.9150774326510507"
            ]
          },
          "metadata": {},
          "execution_count": 22
        }
      ]
    },
    {
      "cell_type": "code",
      "source": [
        "%matplotlib inline\n",
        "plt.scatter(df[\"rate_per_sqfoot\"]\t,df[\"last_sold_price\"], label=\"valores real\")\n",
        "plt.scatter(df[\"rate_per_sqfoot\"],df[\"price_pred\"], color=\"g\", label=\"valor predecido1\")\n",
        "#plt.scatter(df[\"rate_per_sqfoot\"],df[\"pred2\"], label=\"valor predecido2\")\n",
        "plt.legend()"
      ],
      "metadata": {
        "id": "piBhTKEFf6t0",
        "colab": {
          "base_uri": "https://localhost:8080/",
          "height": 447
        },
        "outputId": "db8ea217-1413-40c3-90ed-80e6eeee13bb"
      },
      "execution_count": null,
      "outputs": [
        {
          "output_type": "execute_result",
          "data": {
            "text/plain": [
              "<matplotlib.legend.Legend at 0x7f2122257b50>"
            ]
          },
          "metadata": {},
          "execution_count": 51
        },
        {
          "output_type": "display_data",
          "data": {
            "text/plain": [
              "<Figure size 640x480 with 1 Axes>"
            ],
            "image/png": "[encoded data removed]"
          },
          "metadata": {}
        }
      ]
    },
    {
      "cell_type": "code",
      "source": [
        "plt.boxplot(df[\"last_sold_price\"])"
      ],
      "metadata": {
        "colab": {
          "base_uri": "https://localhost:8080/",
          "height": 569
        },
        "id": "1UZ7n8C1ZwrZ",
        "outputId": "4fc20790-15f9-4802-b2f9-dbd5ef3da084"
      },
      "execution_count": null,
      "outputs": [
        {
          "output_type": "execute_result",
          "data": {
            "text/plain": [
              "{'whiskers': [<matplotlib.lines.Line2D at 0x7f21221775e0>,\n",
              "  <matplotlib.lines.Line2D at 0x7f2122177d30>],\n",
              " 'caps': [<matplotlib.lines.Line2D at 0x7f2122552b20>,\n",
              "  <matplotlib.lines.Line2D at 0x7f2122552fa0>],\n",
              " 'boxes': [<matplotlib.lines.Line2D at 0x7f21222a2340>],\n",
              " 'medians': [<matplotlib.lines.Line2D at 0x7f21220aeac0>],\n",
              " 'fliers': [<matplotlib.lines.Line2D at 0x7f21220ae700>],\n",
              " 'means': []}"
            ]
          },
          "metadata": {},
          "execution_count": 52
        },
        {
          "output_type": "display_data",
          "data": {
            "text/plain": [
              "<Figure size 640x480 with 1 Axes>"
            ],
            "image/png": "[encoded data removed]"
          },
          "metadata": {}
        }
      ]
    },
    {
      "cell_type": "code",
      "source": [
        "plt.boxplot(df[\"price_pred\"])"
      ],
      "metadata": {
        "colab": {
          "base_uri": "https://localhost:8080/",
          "height": 569
        },
        "id": "R3Qn6NSmc4r2",
        "outputId": "4723ca1c-11da-491d-f121-303d074e8879"
      },
      "execution_count": null,
      "outputs": [
        {
          "output_type": "execute_result",
          "data": {
            "text/plain": [
              "{'whiskers': [<matplotlib.lines.Line2D at 0x7f21222fb760>,\n",
              "  <matplotlib.lines.Line2D at 0x7f21222fb580>],\n",
              " 'caps': [<matplotlib.lines.Line2D at 0x7f21224b2550>,\n",
              "  <matplotlib.lines.Line2D at 0x7f2122211f40>],\n",
              " 'boxes': [<matplotlib.lines.Line2D at 0x7f21224216d0>],\n",
              " 'medians': [<matplotlib.lines.Line2D at 0x7f21222119d0>],\n",
              " 'fliers': [<matplotlib.lines.Line2D at 0x7f212218a190>],\n",
              " 'means': []}"
            ]
          },
          "metadata": {},
          "execution_count": 54
        },
        {
          "output_type": "display_data",
          "data": {
            "text/plain": [
              "<Figure size 640x480 with 1 Axes>"
            ],
            "image/png": "[encoded data removed]"
          },
          "metadata": {}
        }
      ]
    },
    {
      "cell_type": "code",
      "source": [
        "df.groupby(\"last_sold_price\").mean().head(50)"
      ],
      "metadata": {
        "id": "qYXlW1Lqc8Tn"
      },
      "execution_count": null,
      "outputs": []
    },
    {
      "cell_type": "markdown",
      "source": [
        "Hare que la libreria RFE me indique que variable utilizar para el modelo y vere que tal."
      ],
      "metadata": {
        "id": "q4SZoEfSJrIO"
      }
    },
    {
      "cell_type": "code",
      "source": [
        "feature_cols = [\"rate_per_sqfoot\", \"house_sqft\", \"year_built\",\"home_type\"] #columnas para la prediccion"
      ],
      "metadata": {
        "id": "nRlB1OP03Zwm"
      },
      "execution_count": null,
      "outputs": []
    },
    {
      "cell_type": "code",
      "source": [
        "x = df[feature_cols]\n",
        "y = df[\"last_sold_price\"] #variable a hacer predecida"
      ],
      "metadata": {
        "id": "TNiJcXBJIolM"
      },
      "execution_count": null,
      "outputs": []
    },
    {
      "cell_type": "code",
      "source": [
        "estimator = SVR(kernel=\"linear\")\n",
        "selector = RFE(estimator,n_features_to_select=2,step=1) # 2->porque quiero dos variables para mi modelo \n",
        "selector = selector.fit(x,y) "
      ],
      "metadata": {
        "id": "C0E_gO9HIuHP"
      },
      "execution_count": null,
      "outputs": []
    },
    {
      "cell_type": "code",
      "source": [
        "selector.support_"
      ],
      "metadata": {
        "colab": {
          "base_uri": "https://localhost:8080/"
        },
        "id": "GeQLl5wtI02p",
        "outputId": "07b7dae0-a3cf-4d08-c903-60ad4d4d3af5"
      },
      "execution_count": null,
      "outputs": [
        {
          "output_type": "execute_result",
          "data": {
            "text/plain": [
              "array([ True, False,  True, False])"
            ]
          },
          "metadata": {},
          "execution_count": 25
        }
      ]
    },
    {
      "cell_type": "code",
      "source": [
        "df.corr()"
      ],
      "metadata": {
        "id": "TdAPh2qAI3HT"
      },
      "execution_count": null,
      "outputs": []
    },
    {
      "cell_type": "code",
      "source": [
        "lm3 = smf.ols(formula=\"last_sold_price~rate_per_sqfoot*year_built\",data=df).fit()"
      ],
      "metadata": {
        "id": "eERgdQdPJCal"
      },
      "execution_count": null,
      "outputs": []
    },
    {
      "cell_type": "code",
      "source": [
        "lm3.summary()"
      ],
      "metadata": {
        "colab": {
          "base_uri": "https://localhost:8080/",
          "height": 520
        },
        "id": "_FQnDA01JUQW",
        "outputId": "b49b440c-7bab-4351-cd67-a56b40fd7695"
      },
      "execution_count": null,
      "outputs": [
        {
          "output_type": "execute_result",
          "data": {
            "text/plain": [
              "<class 'statsmodels.iolib.summary.Summary'>\n",
              "\"\"\"\n",
              "                            OLS Regression Results                            \n",
              "==============================================================================\n",
              "Dep. Variable:        last_sold_price   R-squared:                       0.847\n",
              "Model:                            OLS   Adj. R-squared:                  0.843\n",
              "Method:                 Least Squares   F-statistic:                     214.2\n",
              "Date:                Sun, 02 Apr 2023   Prob (F-statistic):           4.00e-47\n",
              "Time:                        22:45:14   Log-Likelihood:                -1398.2\n",
              "No. Observations:                 120   AIC:                             2804.\n",
              "Df Residuals:                     116   BIC:                             2816.\n",
              "Df Model:                           3                                         \n",
              "Covariance Type:            nonrobust                                         \n",
              "==============================================================================================\n",
              "                                 coef    std err          t      P>|t|      [0.025      0.975]\n",
              "----------------------------------------------------------------------------------------------\n",
              "Intercept                  -1.043e+07   7.08e+06     -1.472      0.144   -2.45e+07     3.6e+06\n",
              "rate_per_sqfoot            -5.968e+04   5.45e+04     -1.095      0.276   -1.68e+05    4.83e+04\n",
              "year_built                  5436.0191   3534.791      1.538      0.127   -1565.081    1.24e+04\n",
              "rate_per_sqfoot:year_built    29.1520     27.175      1.073      0.286     -24.671      82.976\n",
              "==============================================================================\n",
              "Omnibus:                        5.866   Durbin-Watson:                   0.287\n",
              "Prob(Omnibus):                  0.053   Jarque-Bera (JB):                6.039\n",
              "Skew:                           0.536   Prob(JB):                       0.0488\n",
              "Kurtosis:                       2.761   Cond. No.                     7.07e+08\n",
              "==============================================================================\n",
              "\n",
              "Notes:\n",
              "[1] Standard Errors assume that the covariance matrix of the errors is correctly specified.\n",
              "[2] The condition number is large, 7.07e+08. This might indicate that there are\n",
              "strong multicollinearity or other numerical problems.\n",
              "\"\"\""
            ],
            "text/html": [
              "<table class=\"simpletable\">\n",
              "<caption>OLS Regression Results</caption>\n",
              "<tr>\n",
              "  <th>Dep. Variable:</th>     <td>last_sold_price</td> <th>  R-squared:         </th> <td>   0.847</td>\n",
              "</tr>\n",
              "<tr>\n",
              "  <th>Model:</th>                   <td>OLS</td>       <th>  Adj. R-squared:    </th> <td>   0.843</td>\n",
              "</tr>\n",
              "<tr>\n",
              "  <th>Method:</th>             <td>Least Squares</td>  <th>  F-statistic:       </th> <td>   214.2</td>\n",
              "</tr>\n",
              "<tr>\n",
              "  <th>Date:</th>             <td>Sun, 02 Apr 2023</td> <th>  Prob (F-statistic):</th> <td>4.00e-47</td>\n",
              "</tr>\n",
              "<tr>\n",
              "  <th>Time:</th>                 <td>22:45:14</td>     <th>  Log-Likelihood:    </th> <td> -1398.2</td>\n",
              "</tr>\n",
              "<tr>\n",
              "  <th>No. Observations:</th>      <td>   120</td>      <th>  AIC:               </th> <td>   2804.</td>\n",
              "</tr>\n",
              "<tr>\n",
              "  <th>Df Residuals:</th>          <td>   116</td>      <th>  BIC:               </th> <td>   2816.</td>\n",
              "</tr>\n",
              "<tr>\n",
              "  <th>Df Model:</th>              <td>     3</td>      <th>                     </th>     <td> </td>   \n",
              "</tr>\n",
              "<tr>\n",
              "  <th>Covariance Type:</th>      <td>nonrobust</td>    <th>                     </th>     <td> </td>   \n",
              "</tr>\n",
              "</table>\n",
              "<table class=\"simpletable\">\n",
              "<tr>\n",
              "               <td></td>                 <th>coef</th>     <th>std err</th>      <th>t</th>      <th>P>|t|</th>  <th>[0.025</th>    <th>0.975]</th>  \n",
              "</tr>\n",
              "<tr>\n",
              "  <th>Intercept</th>                  <td>-1.043e+07</td> <td> 7.08e+06</td> <td>   -1.472</td> <td> 0.144</td> <td>-2.45e+07</td> <td>  3.6e+06</td>\n",
              "</tr>\n",
              "<tr>\n",
              "  <th>rate_per_sqfoot</th>            <td>-5.968e+04</td> <td> 5.45e+04</td> <td>   -1.095</td> <td> 0.276</td> <td>-1.68e+05</td> <td> 4.83e+04</td>\n",
              "</tr>\n",
              "<tr>\n",
              "  <th>year_built</th>                 <td> 5436.0191</td> <td> 3534.791</td> <td>    1.538</td> <td> 0.127</td> <td>-1565.081</td> <td> 1.24e+04</td>\n",
              "</tr>\n",
              "<tr>\n",
              "  <th>rate_per_sqfoot:year_built</th> <td>   29.1520</td> <td>   27.175</td> <td>    1.073</td> <td> 0.286</td> <td>  -24.671</td> <td>   82.976</td>\n",
              "</tr>\n",
              "</table>\n",
              "<table class=\"simpletable\">\n",
              "<tr>\n",
              "  <th>Omnibus:</th>       <td> 5.866</td> <th>  Durbin-Watson:     </th> <td>   0.287</td>\n",
              "</tr>\n",
              "<tr>\n",
              "  <th>Prob(Omnibus):</th> <td> 0.053</td> <th>  Jarque-Bera (JB):  </th> <td>   6.039</td>\n",
              "</tr>\n",
              "<tr>\n",
              "  <th>Skew:</th>          <td> 0.536</td> <th>  Prob(JB):          </th> <td>  0.0488</td>\n",
              "</tr>\n",
              "<tr>\n",
              "  <th>Kurtosis:</th>      <td> 2.761</td> <th>  Cond. No.          </th> <td>7.07e+08</td>\n",
              "</tr>\n",
              "</table><br/><br/>Notes:<br/>[1] Standard Errors assume that the covariance matrix of the errors is correctly specified.<br/>[2] The condition number is large, 7.07e+08. This might indicate that there are<br/>strong multicollinearity or other numerical problems."
            ]
          },
          "metadata": {},
          "execution_count": 29
        }
      ]
    },
    {
      "cell_type": "code",
      "source": [
        "prediccion = lm3.predict(pd.DataFrame(df[[\"rate_per_sqfoot\",\"year_built\"]]))\n",
        "prediccion # la prediccion no es tan buena o precisa como el primer modelo"
      ],
      "metadata": {
        "colab": {
          "base_uri": "https://localhost:8080/"
        },
        "id": "kNgjnUBSJVjd",
        "outputId": "562e117e-dbe0-4444-e5e9-c81852ba8759"
      },
      "execution_count": null,
      "outputs": [
        {
          "output_type": "execute_result",
          "data": {
            "text/plain": [
              "0      206994.079296\n",
              "1      205325.013281\n",
              "2      205325.013281\n",
              "3      205325.013281\n",
              "4      212001.277340\n",
              "           ...      \n",
              "115    395107.677042\n",
              "116    394196.563716\n",
              "117    394196.563716\n",
              "118    393285.450390\n",
              "119    393285.450390\n",
              "Length: 120, dtype: float64"
            ]
          },
          "metadata": {},
          "execution_count": 30
        }
      ]
    },
    {
      "cell_type": "markdown",
      "source": [
        "En conclusion, el modelo que mejor predice los valores de las casas es el primero, sin embargo, estadisticos como los pvalues asociados al modelo son muy grandes, por lo q, los datos son probables con una hipotesis nula verdadera, es decir, que los valores acompañados a los coef de la ecuacion es muy probable que sean 0. Es muy interesante este modelo porque a pesar que tenga p valores alto su r^2 tambien lo es y es capaz de predecir valores muy cerca de los originales con un error muy minimo segun lo que nos dice el modelo. El valor de los errores estandar residual que tiene este modelo es el menor en comparacion a los otros  "
      ],
      "metadata": {
        "id": "UHJop0G4LIvH"
      }
    },
    {
      "cell_type": "code",
      "source": [
        "n = data.shape[0] # Número de datos\n",
        "input_variable_name = ['year_built']\n",
        "output_variable_name = ['last_sold_price']\n",
        "X = data[input_variable_name].values\n",
        "Y = data[output_variable_name].values\n"
      ],
      "metadata": {
        "id": "7zZNz-UGMRub"
      },
      "execution_count": null,
      "outputs": []
    },
    {
      "cell_type": "code",
      "source": [
        "Xc = np.c_[np.ones(shape=(n,1)), data[input_variable_name].values]\n",
        "theta_theoretical = np.linalg.inv(Xc.T@Xc) @ (Xc.T@Y)"
      ],
      "metadata": {
        "id": "cT5HvgtJNcCQ"
      },
      "execution_count": null,
      "outputs": []
    },
    {
      "cell_type": "code",
      "source": [
        "from sklearn.linear_model import LinearRegression\n",
        "\n",
        "model = LinearRegression().fit(X, Y)\n",
        "\n",
        "theta_sklearn  = np.array([model.intercept_] + [temp for temp in model.coef_]).reshape(-1,1)\n",
        "theta_sklearn"
      ],
      "metadata": {
        "colab": {
          "base_uri": "https://localhost:8080/"
        },
        "id": "3op_Iy37Ms-P",
        "outputId": "d659977a-abe1-4bcd-8f74-a98bb50394fc"
      },
      "execution_count": null,
      "outputs": [
        {
          "output_type": "execute_result",
          "data": {
            "text/plain": [
              "array([[-1.37465973e+07],\n",
              "       [ 7.01362148e+03]])"
            ]
          },
          "metadata": {},
          "execution_count": 40
        }
      ]
    },
    {
      "cell_type": "code",
      "source": [
        "text1 = 'La ecuación final de regresión usando sklearn es:'\n",
        "text2 = 'y_{%s} = %2.3f'%(output_variable_name[0], theta_sklearn[0])\n",
        "for i in range(1,len(theta_theoretical)):\n",
        "  text2 += ' + %2.3f X_{%s}'%(theta_sklearn[i],input_variable_name[i-1])\n",
        "print(text1,'\\n',text2)"
      ],
      "metadata": {
        "colab": {
          "base_uri": "https://localhost:8080/"
        },
        "id": "_8YL468xM50l",
        "outputId": "061558a1-6a6e-4089-fc37-74dae4324841"
      },
      "execution_count": null,
      "outputs": [
        {
          "output_type": "stream",
          "name": "stdout",
          "text": [
            "La ecuación final de regresión usando sklearn es: \n",
            " y_{last_sold_price} = -13746597.286 + 7013.621 X_{year_built}\n"
          ]
        }
      ]
    },
    {
      "cell_type": "code",
      "source": [
        "Xtest = np.linspace(Xc[:,1].min(), Xc[:,1].max(), 1001).reshape(-1,1)\n",
        "Xtest = np.concatenate((np.ones(shape=(Xtest.shape[0],1)), Xtest),axis=1)"
      ],
      "metadata": {
        "id": "KofLafg6NCgW"
      },
      "execution_count": null,
      "outputs": []
    },
    {
      "cell_type": "code",
      "source": [
        "Ytest = Xtest @ theta_theoretical\n",
        "Ytest"
      ],
      "metadata": {
        "colab": {
          "base_uri": "https://localhost:8080/"
        },
        "id": "CM6YEhZdN-p5",
        "outputId": "20973dd1-6fe0-4e47-83a1-2619f232892b"
      },
      "execution_count": null,
      "outputs": [
        {
          "output_type": "execute_result",
          "data": {
            "text/plain": [
              "array([[210509.46405195],\n",
              "       [210691.8182105 ],\n",
              "       [210874.17236905],\n",
              "       ...,\n",
              "       [392498.91428549],\n",
              "       [392681.26844404],\n",
              "       [392863.62260259]])"
            ]
          },
          "metadata": {},
          "execution_count": 43
        }
      ]
    },
    {
      "cell_type": "code",
      "source": [
        "import plotly.graph_objects as go\n",
        "text_title = '$ \\text{' + text1 + ' } \\\\' + text2 + '$'\n",
        "fig = go.Figure()\n",
        "fig.add_trace(go.Scatter(y=Y[:,0], x=Xc[:,1],mode='markers', name='Datos originales'))\n",
        "fig.add_trace(go.Scatter(y=Ytest[:,0], x=Xtest[:,1],mode='lines', name=r'Tendencia del modelo.<br>Datos test'))\n",
        "fig.update_layout(title=f\"{text_title!r}\", xaxis_title=input_variable_name[0], yaxis_title=output_variable_name[0])"
      ],
      "metadata": {
        "colab": {
          "base_uri": "https://localhost:8080/",
          "height": 542
        },
        "id": "D3tk1XY_OIDR",
        "outputId": "608b5c45-09b4-4e77-bf90-4eb5019d96a6"
      },
      "execution_count": null,
      "outputs": [
        {
          "output_type": "display_data",
          "data": {
            "text/html": [
              "<html>\n",
              "<head><meta charset=\"utf-8\" /></head>\n",
              "<body>\n",
              "    <div>            <script src=\"https://cdnjs.cloudflare.com/ajax/libs/mathjax/2.7.5/MathJax.js?config=TeX-AMS-MML_SVG\"></script><script type=\"text/javascript\">if (window.MathJax && window.MathJax.Hub && window.MathJax.Hub.Config) {window.MathJax.Hub.Config({SVG: {font: \"STIX-Web\"}});}</script>                <script type=\"text/javascript\">window.PlotlyConfig = {MathJaxConfig: 'local'};</script>\n",
              "        <script src=\"https://cdn.plot.ly/plotly-2.18.2.min.js\"></script>                <div id=\"3dc4d413-12f8-46df-89f2-a2c343b01f08\" class=\"plotly-graph-div\" style=\"height:525px; width:100%;\"></div>            <script type=\"text/javascript\">                                    window.PLOTLYENV=window.PLOTLYENV || {};                                    if (document.getElementById(\"3dc4d413-12f8-46df-89f2-a2c343b01f08\")) {                    Plotly.newPlot(                        \"3dc4d413-12f8-46df-89f2-a2c343b01f08\",                        [{\"mode\":\"markers\",\"name\":\"Datos originales\",\"x\":[1990.0,1990.0,1990.0,1990.0,1990.0,1991.0,1991.0,1990.0,1990.0,1993.0,1990.0,1993.0,1993.0,1992.0,1990.0,1993.0,1990.0,1993.0,1990.0,1990.0,1992.0,1992.0,1992.0,1992.0,1992.0,1992.0,1992.0,1992.0,1992.0,1992.0,1992.0,1992.0,1992.0,1992.0,1992.0,1992.0,1996.0,1996.0,1996.0,1996.0,1996.0,1998.0,1998.0,1998.0,1998.0,1998.0,1998.0,1998.0,1998.0,1998.0,2001.0,2001.0,2001.0,2000.0,2002.0,2000.0,2006.0,2006.0,2005.0,2005.0,2005.0,2005.0,2006.0,2005.0,2007.0,2005.0,2013.0,2013.0,2013.0,2013.0,2013.0,2013.0,2012.0,2012.0,2012.0,2012.0,2012.0,2012.0,2012.0,2012.0,2012.0,2012.0,2012.0,2012.0,2012.0,2012.0,2012.0,2012.0,2012.0,2002.0,2002.0,2002.0,2002.0,2002.0,2002.0,2002.0,2002.0,2002.0,2002.0,2002.0,2002.0,2002.0,2002.0,2002.0,2002.0,2002.0,2002.0,2016.0,2016.0,2016.0,2016.0,2016.0,2016.0,2016.0,2016.0,2016.0,2016.0,2016.0,2016.0,2016.0],\"y\":[196358,197715,197816,198011,200530,201805,206175,207027,207121,210519,211099,211274,211414,211740,212560,214814,215921,216623,216971,218007,222423,222695,222714,223143,224194,224249,225504,229480,229695,230654,230795,231101,232421,232955,233065,235223,236792,238087,238383,238582,239713,241453,241837,241882,242863,244635,246374,248234,248516,248578,251326,301189,301417,302186,303918,304146,304213,304620,305047,306040,306729,307472,308672,308945,309476,309798,312793,313764,314040,314441,314658,315606,316104,317252,317317,319410,319915,320467,320592,320693,321339,322249,325744,326331,328999,329071,329959,330712,330994,333035,333228,333677,333738,336535,339344,340052,341943,342580,343695,343851,346258,346307,347003,353150,353383,356913,356966,433084,433582,434381,437899,438230,441080,442118,444091,445040,447022,448260,449066,450842],\"type\":\"scatter\"},{\"mode\":\"lines\",\"name\":\"Tendencia del modelo.<br>Datos test\",\"x\":[1990.0,1990.026,1990.052,1990.078,1990.104,1990.13,1990.156,1990.182,1990.208,1990.234,1990.26,1990.286,1990.312,1990.338,1990.364,1990.39,1990.416,1990.442,1990.468,1990.494,1990.52,1990.546,1990.572,1990.598,1990.624,1990.65,1990.676,1990.702,1990.728,1990.754,1990.78,1990.806,1990.832,1990.858,1990.884,1990.91,1990.936,1990.962,1990.988,1991.014,1991.04,1991.066,1991.092,1991.118,1991.144,1991.17,1991.196,1991.222,1991.248,1991.274,1991.3,1991.326,1991.352,1991.378,1991.404,1991.43,1991.456,1991.482,1991.508,1991.534,1991.56,1991.586,1991.612,1991.638,1991.664,1991.69,1991.716,1991.742,1991.768,1991.794,1991.82,1991.846,1991.872,1991.898,1991.924,1991.95,1991.976,1992.002,1992.028,1992.054,1992.08,1992.106,1992.132,1992.158,1992.184,1992.21,1992.236,1992.262,1992.288,1992.314,1992.34,1992.366,1992.392,1992.418,1992.444,1992.47,1992.496,1992.522,1992.548,1992.574,1992.6,1992.626,1992.652,1992.678,1992.704,1992.73,1992.756,1992.782,1992.808,1992.834,1992.86,1992.886,1992.912,1992.938,1992.964,1992.99,1993.016,1993.042,1993.068,1993.094,1993.12,1993.146,1993.172,1993.198,1993.224,1993.25,1993.276,1993.302,1993.328,1993.354,1993.38,1993.406,1993.432,1993.458,1993.484,1993.51,1993.536,1993.562,1993.588,1993.614,1993.64,1993.666,1993.692,1993.718,1993.744,1993.77,1993.796,1993.822,1993.848,1993.874,1993.9,1993.926,1993.952,1993.978,1994.004,1994.03,1994.056,1994.082,1994.108,1994.134,1994.16,1994.186,1994.212,1994.238,1994.264,1994.29,1994.316,1994.342,1994.368,1994.394,1994.42,1994.446,1994.472,1994.498,1994.524,1994.55,1994.576,1994.602,1994.628,1994.654,1994.68,1994.706,1994.732,1994.758,1994.784,1994.81,1994.836,1994.862,1994.888,1994.914,1994.94,1994.966,1994.992,1995.018,1995.044,1995.07,1995.096,1995.122,1995.148,1995.174,1995.2,1995.226,1995.252,1995.278,1995.304,1995.33,1995.356,1995.382,1995.408,1995.434,1995.46,1995.486,1995.512,1995.538,1995.564,1995.59,1995.616,1995.642,1995.668,1995.694,1995.72,1995.746,1995.772,1995.798,1995.824,1995.85,1995.876,1995.902,1995.928,1995.954,1995.98,1996.006,1996.032,1996.058,1996.084,1996.11,1996.136,1996.162,1996.188,1996.214,1996.24,1996.266,1996.292,1996.318,1996.344,1996.37,1996.396,1996.422,1996.448,1996.474,1996.5,1996.526,1996.552,1996.578,1996.604,1996.63,1996.656,1996.682,1996.708,1996.734,1996.76,1996.786,1996.812,1996.838,1996.864,1996.89,1996.916,1996.942,1996.968,1996.994,1997.02,1997.046,1997.072,1997.098,1997.124,1997.15,1997.176,1997.202,1997.228,1997.254,1997.28,1997.306,1997.332,1997.358,1997.384,1997.41,1997.436,1997.462,1997.488,1997.514,1997.54,1997.566,1997.592,1997.618,1997.644,1997.67,1997.696,1997.722,1997.748,1997.774,1997.8,1997.826,1997.852,1997.878,1997.904,1997.93,1997.956,1997.982,1998.008,1998.034,1998.06,1998.086,1998.112,1998.138,1998.164,1998.19,1998.216,1998.242,1998.268,1998.294,1998.32,1998.346,1998.372,1998.398,1998.424,1998.45,1998.476,1998.502,1998.528,1998.554,1998.58,1998.606,1998.632,1998.658,1998.684,1998.71,1998.736,1998.762,1998.788,1998.814,1998.84,1998.866,1998.892,1998.918,1998.944,1998.97,1998.996,1999.022,1999.048,1999.074,1999.1,1999.126,1999.152,1999.178,1999.204,1999.23,1999.256,1999.282,1999.308,1999.334,1999.36,1999.386,1999.412,1999.438,1999.464,1999.49,1999.516,1999.542,1999.568,1999.594,1999.62,1999.646,1999.672,1999.698,1999.724,1999.75,1999.776,1999.802,1999.828,1999.854,1999.88,1999.906,1999.932,1999.958,1999.984,2000.01,2000.036,2000.062,2000.088,2000.114,2000.14,2000.166,2000.192,2000.218,2000.244,2000.27,2000.296,2000.322,2000.348,2000.374,2000.4,2000.426,2000.452,2000.478,2000.504,2000.53,2000.556,2000.582,2000.608,2000.634,2000.66,2000.686,2000.712,2000.738,2000.764,2000.79,2000.816,2000.842,2000.868,2000.894,2000.92,2000.946,2000.972,2000.998,2001.024,2001.05,2001.076,2001.102,2001.128,2001.154,2001.18,2001.206,2001.232,2001.258,2001.284,2001.31,2001.336,2001.362,2001.388,2001.414,2001.44,2001.466,2001.492,2001.518,2001.544,2001.57,2001.596,2001.622,2001.648,2001.674,2001.7,2001.726,2001.752,2001.778,2001.804,2001.83,2001.856,2001.882,2001.908,2001.934,2001.96,2001.986,2002.012,2002.038,2002.064,2002.09,2002.116,2002.142,2002.168,2002.194,2002.22,2002.246,2002.272,2002.298,2002.324,2002.35,2002.376,2002.402,2002.428,2002.454,2002.48,2002.506,2002.532,2002.558,2002.584,2002.61,2002.636,2002.662,2002.688,2002.714,2002.74,2002.766,2002.792,2002.818,2002.844,2002.87,2002.896,2002.922,2002.948,2002.974,2003.0,2003.026,2003.052,2003.078,2003.104,2003.13,2003.156,2003.182,2003.208,2003.234,2003.26,2003.286,2003.312,2003.338,2003.364,2003.39,2003.416,2003.442,2003.468,2003.494,2003.52,2003.546,2003.572,2003.598,2003.624,2003.65,2003.676,2003.702,2003.728,2003.754,2003.78,2003.806,2003.832,2003.858,2003.884,2003.91,2003.936,2003.962,2003.988,2004.014,2004.04,2004.066,2004.092,2004.118,2004.144,2004.17,2004.196,2004.222,2004.248,2004.274,2004.3,2004.326,2004.352,2004.378,2004.404,2004.43,2004.456,2004.482,2004.508,2004.534,2004.56,2004.586,2004.612,2004.638,2004.664,2004.69,2004.716,2004.742,2004.768,2004.794,2004.82,2004.846,2004.872,2004.898,2004.924,2004.95,2004.976,2005.002,2005.028,2005.054,2005.08,2005.106,2005.132,2005.158,2005.184,2005.21,2005.236,2005.262,2005.288,2005.314,2005.34,2005.366,2005.392,2005.418,2005.444,2005.47,2005.496,2005.522,2005.548,2005.574,2005.6,2005.626,2005.652,2005.678,2005.704,2005.73,2005.756,2005.782,2005.808,2005.834,2005.86,2005.886,2005.912,2005.938,2005.964,2005.99,2006.016,2006.042,2006.068,2006.094,2006.12,2006.146,2006.172,2006.198,2006.224,2006.25,2006.276,2006.302,2006.328,2006.354,2006.38,2006.406,2006.432,2006.458,2006.484,2006.51,2006.536,2006.562,2006.588,2006.614,2006.64,2006.666,2006.692,2006.718,2006.744,2006.77,2006.796,2006.822,2006.848,2006.874,2006.9,2006.926,2006.952,2006.978,2007.004,2007.03,2007.056,2007.082,2007.108,2007.134,2007.16,2007.186,2007.212,2007.238,2007.264,2007.29,2007.316,2007.342,2007.368,2007.394,2007.42,2007.446,2007.472,2007.498,2007.524,2007.55,2007.576,2007.602,2007.628,2007.654,2007.68,2007.706,2007.732,2007.758,2007.784,2007.81,2007.836,2007.862,2007.888,2007.914,2007.94,2007.966,2007.992,2008.018,2008.044,2008.07,2008.096,2008.122,2008.148,2008.174,2008.2,2008.226,2008.252,2008.278,2008.304,2008.33,2008.356,2008.382,2008.408,2008.434,2008.46,2008.486,2008.512,2008.538,2008.564,2008.59,2008.616,2008.642,2008.668,2008.694,2008.72,2008.746,2008.772,2008.798,2008.824,2008.85,2008.876,2008.902,2008.928,2008.954,2008.98,2009.006,2009.032,2009.058,2009.084,2009.11,2009.136,2009.162,2009.188,2009.214,2009.24,2009.266,2009.292,2009.318,2009.344,2009.37,2009.396,2009.422,2009.448,2009.474,2009.5,2009.526,2009.552,2009.578,2009.604,2009.63,2009.656,2009.682,2009.708,2009.734,2009.76,2009.786,2009.812,2009.838,2009.864,2009.89,2009.916,2009.942,2009.968,2009.994,2010.02,2010.046,2010.072,2010.098,2010.124,2010.15,2010.176,2010.202,2010.228,2010.254,2010.28,2010.306,2010.332,2010.358,2010.384,2010.41,2010.436,2010.462,2010.488,2010.514,2010.54,2010.566,2010.592,2010.618,2010.644,2010.67,2010.696,2010.722,2010.748,2010.774,2010.8,2010.826,2010.852,2010.878,2010.904,2010.93,2010.956,2010.982,2011.008,2011.034,2011.06,2011.086,2011.112,2011.138,2011.164,2011.19,2011.216,2011.242,2011.268,2011.294,2011.32,2011.346,2011.372,2011.398,2011.424,2011.45,2011.476,2011.502,2011.528,2011.554,2011.58,2011.606,2011.632,2011.658,2011.684,2011.71,2011.736,2011.762,2011.788,2011.814,2011.84,2011.866,2011.892,2011.918,2011.944,2011.97,2011.996,2012.022,2012.048,2012.074,2012.1,2012.126,2012.152,2012.1779999999999,2012.204,2012.23,2012.256,2012.282,2012.308,2012.334,2012.36,2012.386,2012.412,2012.438,2012.464,2012.49,2012.516,2012.542,2012.568,2012.594,2012.62,2012.646,2012.672,2012.698,2012.724,2012.75,2012.776,2012.802,2012.828,2012.854,2012.88,2012.906,2012.932,2012.958,2012.984,2013.01,2013.036,2013.062,2013.088,2013.114,2013.14,2013.166,2013.192,2013.218,2013.244,2013.27,2013.296,2013.322,2013.348,2013.374,2013.4,2013.426,2013.452,2013.478,2013.504,2013.53,2013.556,2013.582,2013.608,2013.634,2013.66,2013.686,2013.712,2013.738,2013.764,2013.79,2013.816,2013.842,2013.868,2013.894,2013.92,2013.946,2013.972,2013.998,2014.024,2014.05,2014.076,2014.102,2014.128,2014.154,2014.18,2014.206,2014.232,2014.258,2014.284,2014.31,2014.336,2014.362,2014.388,2014.414,2014.44,2014.466,2014.492,2014.518,2014.544,2014.57,2014.596,2014.622,2014.648,2014.674,2014.7,2014.726,2014.752,2014.778,2014.804,2014.83,2014.856,2014.882,2014.908,2014.934,2014.96,2014.986,2015.012,2015.038,2015.064,2015.09,2015.116,2015.142,2015.168,2015.194,2015.22,2015.246,2015.272,2015.298,2015.324,2015.35,2015.376,2015.402,2015.4279999999999,2015.454,2015.48,2015.506,2015.532,2015.558,2015.584,2015.61,2015.636,2015.662,2015.688,2015.714,2015.74,2015.766,2015.792,2015.818,2015.844,2015.87,2015.896,2015.922,2015.948,2015.974,2016.0],\"y\":[210509.4640519526,210691.8182105031,210874.17236905172,211056.5265276041,211238.8806861546,211421.2348447051,211603.5890032556,211785.9431618061,211968.2973203566,212150.6514789071,212333.0056374576,212515.35979600996,212697.7139545586,212880.0681131091,213062.42227166146,213244.77643021196,213427.1305887606,213609.48474731296,213791.83890586346,213974.19306441396,214156.54722296447,214338.90138151497,214521.25554006547,214703.60969861597,214885.96385716647,215068.31801571883,215250.67217426747,215433.02633281797,215615.38049137034,215797.73464991897,215980.08880847134,216162.44296702184,216344.79712557234,216527.15128412284,216709.50544267334,216891.85960122384,217074.21375977434,217256.56791832484,217438.9220768772,217621.27623542584,217803.63039397635,217985.9845525287,218168.3387110792,218350.69286962785,218533.0470281802,218715.4011867307,218897.7553452812,219080.1095038317,219262.46366238222,219444.81782093272,219627.17197948322,219809.52613803372,219991.88029658608,220174.23445513472,220356.58861368522,220538.94277223758,220721.29693078622,220903.6510893386,221086.0052478891,221268.3594064396,221450.7135649901,221633.0677235406,221815.4218820911,221997.7760406416,222180.1301991921,222362.4843577426,222544.8385162931,222727.1926748436,222909.54683339596,223091.90099194646,223274.2551504951,223456.60930904746,223638.96346759796,223821.3176261466,224003.67178469896,224186.02594324946,224368.38010179996,224550.73426035047,224733.08841890097,224915.44257745333,225097.79673600197,225280.15089455247,225462.50505310483,225644.85921165347,225827.21337020583,226009.56752875634,226191.92168730684,226374.27584585734,226556.63000440784,226738.98416295834,226921.33832150884,227103.69248005934,227286.04663860984,227468.40079716034,227650.75495571084,227833.1091142632,228015.4632728137,228197.81743136235,228380.1715899147,228562.5257484652,228744.87990701385,228927.2340655662,229109.5882241167,229291.9423826672,229474.2965412177,229656.65069976822,229839.00485832058,230021.35901686922,230203.71317541972,230386.06733397208,230568.42149252072,230750.77565107122,230933.12980962358,231115.48396817409,231297.8381267246,231480.1922852751,231662.5464438256,231844.9006023761,232027.2547609266,232209.6089194771,232391.9630780276,232574.3172365781,232756.6713951286,232939.02555368096,233121.3797122296,233303.73387078196,233486.08802933246,233668.4421878811,233850.79634643346,234033.15050498396,234215.50466353446,234397.85882208496,234580.21298063546,234762.56713918597,234944.92129773647,235127.27545628697,235309.62961483933,235491.98377338797,235674.33793193847,235856.69209049083,236039.04624904133,236221.40040759183,236403.75456614234,236586.10872469284,236768.46288324334,236950.81704179384,237133.17120034434,237315.52535889484,237497.87951744534,237680.23367599584,237862.5878345482,238044.94199309684,238227.2961516492,238409.6503101997,238592.00446874835,238774.3586273007,238956.7127858512,239139.0669444017,239321.4211029522,239503.7752615027,239686.1294200532,239868.48357860371,240050.83773715422,240233.19189570658,240415.54605425522,240597.90021280572,240780.25437135808,240962.60852990858,241144.96268845722,241327.31684700958,241509.67100556009,241692.0251641106,241874.3793226611,242056.7334812116,242239.0876397621,242421.4417983126,242603.7959568631,242786.15011541545,242968.5042739641,243150.8584325146,243333.21259106696,243515.5667496156,243697.92090816796,243880.27506671846,244062.62922526896,244244.98338381946,244427.33754236996,244609.69170092046,244792.04585947096,244974.40001802146,245156.75417657383,245339.10833512247,245521.46249367297,245703.81665222533,245886.17081077583,246068.52496932447,246250.87912787683,246433.23328642733,246615.58744497783,246797.94160352834,246980.29576207884,247162.6499206312,247345.00407917984,247527.35823773034,247709.7123962827,247892.06655483134,248074.42071338184,248256.7748719342,248439.12903048284,248621.4831890352,248803.8373475857,248986.1915061362,249168.5456646867,249350.8998232372,249533.2539817877,249715.6081403382,249897.9622988887,250080.3164574392,250262.67061598971,250445.02477454022,250627.37893309258,250809.73309164308,250992.08725019172,251174.44140874408,251356.79556729458,251539.14972584322,251721.50388439558,251903.85804294609,252086.2122014966,252268.5663600471,252450.9205185976,252633.27467714995,252815.6288356986,252997.9829942491,253180.33715280145,253362.6913113501,253545.04546990246,253727.39962845296,253909.75378700346,254092.10794555396,254274.46210410446,254456.81626265496,254639.17042120546,254821.52457975596,255003.87873830646,255186.23289685696,255368.58705540746,255550.94121395983,255733.29537251033,255915.64953105897,256098.00368961133,256280.35784816183,256462.71200671047,256645.06616526283,256827.42032381333,257009.77448236383,257192.12864091434,257374.48279946484,257556.8369580172,257739.19111656584,257921.54527511634,258103.8994336687,258286.25359221734,258468.60775076784,258650.9619093202,258833.3160678707,259015.6702264212,259198.0243849717,259380.3785435222,259562.7327020727,259745.0868606232,259927.4410191737,260109.7951777242,260292.1493362747,260474.5034948252,260656.85765337758,260839.21181192622,261021.56597047858,261203.92012902908,261386.27428757772,261568.62844613008,261750.98260468058,261933.33676323108,262115.69092178158,262298.0450803321,262480.3992388826,262662.7533974331,262845.1075559836,263027.46171453595,263209.8158730846,263392.1700316351,263574.52419018745,263756.87834873796,263939.23250728846,264121.58666583896,264303.94082438946,264486.29498293996,264668.64914149046,264851.00330004096,265033.35745859146,265215.71161714196,265398.06577569246,265580.4199342448,265762.77409279346,265945.1282513458,266127.4824098963,266309.83656844497,266492.19072699733,266674.54488554783,266856.89904409833,267039.25320264883,267221.60736119933,267403.96151974984,267586.31567830034,267768.66983685084,267951.0239954032,268133.37815395184,268315.73231250234,268498.0864710547,268680.4406296052,268862.79478815384,269045.1489467062,269227.5031052567,269409.8572638072,269592.2114223577,269774.5655809082,269956.9197394606,270139.2738980092,270321.6280565597,270503.9822151121,270686.3363736607,270868.6905322112,271051.0446907636,271233.3988493122,271415.7530078646,271598.1071664151,271780.4613249656,271962.8154835161,272145.1696420666,272327.5238006171,272509.8779591676,272692.2321177181,272874.58627627045,273056.9404348191,273239.2945933696,273421.64875192195,273604.00291047245,273786.3570690211,273968.71122757345,274151.06538612396,274333.41954467446,274515.77370322496,274698.12786177546,274880.4820203278,275062.83617887646,275245.19033742696,275427.5444959793,275609.89865452796,275792.25281307846,275974.6069716308,276156.96113017946,276339.3152887318,276521.66944728233,276704.02360583283,276886.37776438333,277068.73192293383,277251.08608148433,277433.44024003483,277615.79439858533,277798.14855713584,277980.50271568634,278162.85687423684,278345.2110327892,278527.5651913397,278709.91934988834,278892.2735084407,279074.6276669912,279256.98182553984,279439.3359840922,279621.6901426427,279804.0443011932,279986.3984597437,280168.7526182942,280351.1067768466,280533.4609353952,280715.8150939457,280898.1692524981,281080.5234110467,281262.8775695991,281445.2317281496,281627.5858867001,281809.9400452506,281992.2942038011,282174.6483623516,282357.0025209021,282539.3566794526,282721.7108380031,282904.0649965536,283086.4191551041,283268.77331365645,283451.12747220695,283633.4816307556,283815.83578930795,283998.18994785845,284180.5441064071,284362.89826495945,284545.25242350996,284727.60658206046,284909.96074061096,285092.31489916146,285274.6690577138,285457.02321626246,285639.37737481296,285821.7315333653,286004.08569191396,286186.43985046446,286368.7940090168,286551.1481675673,286733.5023261178,286915.85648466833,287098.21064321883,287280.56480176933,287462.91896031983,287645.27311887033,287827.62727742083,288009.98143597133,288192.33559452184,288374.6897530742,288557.04391162284,288739.3980701752,288921.7522287257,289104.10638727434,289286.4605458267,289468.8147043772,289651.1688629277,289833.5230214782,290015.8771800287,290198.2313385792,290380.5854971297,290562.9396556802,290745.2938142326,290927.6479727812,291110.0021313317,291292.3562898841,291474.7104484346,291657.0646069851,291839.4187655356,292021.7729240861,292204.1270826366,292386.4812411871,292568.8353997376,292751.18955828995,292933.5437168386,293115.8978753891,293298.25203394145,293480.6061924901,293662.96035104245,293845.31450959295,294027.6686681416,294210.02282669395,294392.37698524445,294574.73114379495,294757.08530234545,294939.43946089596,295121.79361944646,295304.14777799696,295486.50193654746,295668.8560950998,295851.21025364846,296033.56441219896,296215.9185707513,296398.2727293018,296580.62688785046,296762.9810464028,296945.3352049533,297127.6893635038,297310.04352205433,297492.39768060483,297674.7518391572,297857.10599770583,298039.46015625633,298221.8143148087,298404.16847335733,298586.52263190784,298768.8767904602,298951.23094900884,299133.5851075612,299315.9392661117,299498.2934246622,299680.6475832127,299863.0017417632,300045.3559003137,300227.7100588642,300410.0642174147,300592.41837596707,300774.7725345157,300957.1266930662,301139.4808516186,301321.8350101691,301504.1891687177,301686.5433272701,301868.8974858206,302051.2516443711,302233.6058029216,302415.9599614721,302598.31412002444,302780.6682785731,302963.0224371236,303145.37659567595,303327.7307542246,303510.0849127751,303692.43907132745,303874.7932298761,304057.14738842845,304239.50154697895,304421.85570552945,304604.20986407995,304786.56402263045,304968.91818118095,305151.27233973145,305333.62649828196,305515.98065683246,305698.33481538296,305880.68897393346,306063.0431324858,306245.3972910363,306427.75144958496,306610.1056081373,306792.4597666878,306974.81392523646,307157.1680837888,307339.5222423393,307521.8764008898,307704.23055944033,307886.58471799083,308068.9388765432,308251.29303509183,308433.64719364233,308616.0013521947,308798.35551074333,308980.7096692957,309163.0638278462,309345.4179863967,309527.7721449472,309710.1263034977,309892.4804620482,310074.8346205987,310257.1887791492,310439.5429376997,310621.8970962502,310804.2512548007,310986.60541335307,311168.9595719036,311351.3137304522,311533.6678890046,311716.0220475551,311898.3762061037,312080.7303646561,312263.0845232066,312445.4386817571,312627.7928403076,312810.1469988581,312992.50115741044,313174.8553159591,313357.2094745096,313539.56363306195,313721.9177916106,313904.2719501611,314086.62610871345,314268.98026726395,314451.33442581445,314633.68858436495,314816.04274291545,314998.39690146595,315180.75106001645,315363.10521856695,315545.4593771193,315727.81353566796,315910.16769421846,316092.5218527708,316274.87601131946,316457.2301698718,316639.5843284223,316821.93848697096,317004.2926455233,317186.6468040738,317369.0009626243,317551.3551211748,317733.7092797253,317916.0634382758,318098.41759682633,318280.77175537683,318463.1259139292,318645.48007247783,318827.83423102833,319010.1883895807,319192.5425481312,319374.8967066817,319557.2508652322,319739.6050237827,319921.9591823332,320104.3133408837,320286.6674994342,320469.02165798657,320651.3758165352,320833.7299750857,321016.08413363807,321198.4382921867,321380.79245073907,321563.1466092896,321745.5007678382,321927.8549263906,322110.2090849411,322292.5632434916,322474.9174020421,322657.2715605926,322839.6257191431,323021.9798776936,323204.3340362441,323386.68819479644,323569.0423533451,323751.3965118956,323933.75067044795,324116.10482899845,324298.4589875471,324480.81314609945,324663.16730464995,324845.52146320045,325027.87562175095,325210.22978030145,325392.5839388538,325574.93809740245,325757.29225595295,325939.6464145053,326122.00057305396,326304.35473160446,326486.7088901568,326669.06304870546,326851.4172072578,327033.7713658083,327216.1255243588,327398.4796829093,327580.8338414598,327763.1880000103,327945.5421585608,328127.8963171113,328310.2504756637,328492.60463421233,328674.95879276283,328857.3129513152,329039.6671098657,329222.02126841433,329404.3754269667,329586.7295855172,329769.0837440677,329951.4379026182,330133.7920611687,330316.14621972106,330498.5003782697,330680.8545368202,330863.20869537257,331045.5628539212,331227.9170124717,331410.27117102407,331592.6253295727,331774.9794881251,331957.3336466756,332139.6878052261,332322.0419637766,332504.3961223271,332686.7502808776,332869.1044394281,333051.4585979786,333233.8127565291,333416.1669150796,333598.5210736301,333780.87523218244,333963.22939073294,334145.5835492816,334327.93770783395,334510.29186638445,334692.6460249331,334875.00018348545,335057.35434203595,335239.70850058645,335422.06265913695,335604.41681768745,335786.7709762398,335969.12513478845,336151.47929333895,336333.8334518913,336516.18761043996,336698.5417689923,336880.8959275428,337063.2500860933,337245.6042446438,337427.9584031943,337610.3125617448,337792.6667202953,337975.0208788458,338157.3750373963,338339.7291959487,338522.0833544973,338704.4375130497,338886.7916716002,339069.14583014883,339251.4999887012,339433.8541472517,339616.20830580033,339798.5624643527,339980.9166229032,340163.2707814537,340345.6249400042,340527.9790985547,340710.33325710706,340892.6874156557,341075.0415742062,341257.39573275857,341439.7498913072,341622.1040498577,341804.45820841007,341986.81236696057,342169.1665255111,342351.5206840616,342533.8748426121,342716.2290011626,342898.5831597131,343080.9373182636,343263.29147681594,343445.6456353646,343627.9997939151,343810.35395246744,343992.7081110161,344175.06226956844,344357.41642811894,344539.7705866676,344722.12474521995,344904.47890377045,345086.83306232095,345269.18722087145,345451.54137942195,345633.89553797245,345816.24969652295,345998.60385507345,346180.9580136258,346363.31217217445,346545.66633072495,346728.0204892773,346910.3746478278,347092.7288063783,347275.0829649288,347457.4371234793,347639.7912820298,347822.1454405803,348004.4995991308,348186.8537576832,348369.2079162318,348551.5620747823,348733.9162333347,348916.2703918833,349098.6245504357,349280.9787089862,349463.33286753483,349645.6870260872,349828.0411846377,350010.3953431882,350192.7495017387,350375.1036602892,350557.4578188397,350739.8119773902,350922.1661359407,351104.52029449306,351286.8744530417,351469.2286115922,351651.58277014457,351833.93692869507,352016.2910872437,352198.64524579607,352380.99940434657,352563.3535628971,352745.7077214476,352928.0618799981,353110.41603855044,353292.7701970991,353475.1243556496,353657.47851420194,353839.8326727506,354022.1868313011,354204.54098985344,354386.8951484021,354569.24930695444,354751.60346550494,354933.95762405545,355116.31178260595,355298.66594115645,355481.02009970695,355663.37425825745,355845.72841680795,356028.0825753603,356210.43673390895,356392.79089245945,356575.1450510118,356757.4992095623,356939.85336811095,357122.2075266633,357304.5616852138,357486.9158437643,357669.2700023148,357851.6241608653,358033.9783194177,358216.3324779663,358398.6866365168,358581.0407950692,358763.3949536178,358945.7491121683,359128.1032707207,359310.4574292693,359492.8115878217,359675.1657463722,359857.5199049227,360039.8740634732,360222.2282220237,360404.5823805742,360586.9365391247,360769.2906976752,360951.6448562257,361133.99901477806,361316.3531733267,361498.70733187906,361681.06149042957,361863.4156489782,362045.76980753057,362228.12396608107,362410.4781246297,362592.83228318207,362775.18644173257,362957.5406002831,363139.8947588336,363322.2489173841,363504.60307593644,363686.9572344851,363869.3113930356,364051.66555158794,364234.0197101366,364416.37386868894,364598.72802723944,364781.08218578994,364963.43634434044,365145.79050289094,365328.14466144145,365510.49881999195,365692.85297854245,365875.20713709295,366057.56129564345,366239.91545419395,366422.2696127463,366604.6237712968,366786.97792984545,366969.3320883978,367151.6862469483,367334.04040549695,367516.3945640493,367698.7487225998,367881.1028811503,368063.4570397008,368245.8111982513,368428.1653568037,368610.5195153523,368792.8736739028,368975.2278324552,369157.5819910038,369339.9361495543,369522.2903081067,369704.6444666572,369886.9986252077,370069.3527837582,370251.7069423087,370434.0611008592,370616.4152594097,370798.7694179602,370981.12357651256,371163.4777350612,371345.8318936117,371528.18605216406,371710.5402107127,371892.89436926506,372075.24852781557,372257.6026863642,372439.95684491657,372622.31100346707,372804.66516201757,372987.01932056807,373169.37347911857,373351.7276376691,373534.0817962196,373716.4359547701,373898.79011332244,374081.1442718711,374263.4984304216,374445.85258897394,374628.20674752444,374810.56090607494,374992.91506462544,375175.26922317594,375357.62338172644,375539.97754027694,375722.33169882745,375904.6858573798,376087.04001592845,376269.39417447895,376451.7483330313,376634.10249157995,376816.4566501323,376998.8108086828,377181.16496723145,377363.5191257838,377545.8732843343,377728.2274428848,377910.5816014353,378092.9357599858,378275.2899185363,378457.6440770868,378639.9982356373,378822.3523941897,379004.7065527383,379187.0607112888,379369.4148698412,379551.7690283917,379734.1231869403,379916.4773454927,380098.8315040432,380281.1856625937,380463.5398211442,380645.8939796947,380828.24813824706,381010.6022967957,381192.9564553462,381375.31061389856,381557.6647724472,381740.0189309977,381922.37308955006,382104.7272480987,382287.08140665106,382469.43556520157,382651.78972375207,382834.14388230257,383016.49804085307,383198.85219940357,383381.20635795407,383563.56051650457,383745.91467505693,383928.26883360744,384110.6229921561,384292.97715070844,384475.33130925894,384657.6854678076,384840.03962635994,385022.39378491044,385204.74794346094,385387.10210201144,385569.45626056194,385751.8104191143,385934.16457766294,386116.51873621345,386298.8728947658,386481.22705331445,386663.58121186495,386845.9353704173,387028.28952896595,387210.6436875183,387392.9978460688,387575.3520046193,387757.7061631698,387940.0603217203,388122.4144802708,388304.7686388213,388487.1227973718,388669.4769559223,388851.8311144728,389034.1852730233,389216.5394315757,389398.8935901262,389581.2477486748,389763.6019072272,389945.9560657777,390128.3102243263,390310.6643828787,390493.0185414292,390675.3726999797,390857.7268585302,391040.0810170807,391222.43517563306,391404.7893341817,391587.1434927322,391769.49765128456,391951.8518098332,392134.20596838556,392316.56012693606,392498.91428548656,392681.26844403706,392863.62260258757],\"type\":\"scatter\"}],                        {\"template\":{\"data\":{\"histogram2dcontour\":[{\"type\":\"histogram2dcontour\",\"colorbar\":{\"outlinewidth\":0,\"ticks\":\"\"},\"colorscale\":[[0.0,\"#0d0887\"],[0.1111111111111111,\"#46039f\"],[0.2222222222222222,\"#7201a8\"],[0.3333333333333333,\"#9c179e\"],[0.4444444444444444,\"#bd3786\"],[0.5555555555555556,\"#d8576b\"],[0.6666666666666666,\"#ed7953\"],[0.7777777777777778,\"#fb9f3a\"],[0.8888888888888888,\"#fdca26\"],[1.0,\"#f0f921\"]]}],\"choropleth\":[{\"type\":\"choropleth\",\"colorbar\":{\"outlinewidth\":0,\"ticks\":\"\"}}],\"histogram2d\":[{\"type\":\"histogram2d\",\"colorbar\":{\"outlinewidth\":0,\"ticks\":\"\"},\"colorscale\":[[0.0,\"#0d0887\"],[0.1111111111111111,\"#46039f\"],[0.2222222222222222,\"#7201a8\"],[0.3333333333333333,\"#9c179e\"],[0.4444444444444444,\"#bd3786\"],[0.5555555555555556,\"#d8576b\"],[0.6666666666666666,\"#ed7953\"],[0.7777777777777778,\"#fb9f3a\"],[0.8888888888888888,\"#fdca26\"],[1.0,\"#f0f921\"]]}],\"heatmap\":[{\"type\":\"heatmap\",\"colorbar\":{\"outlinewidth\":0,\"ticks\":\"\"},\"colorscale\":[[0.0,\"#0d0887\"],[0.1111111111111111,\"#46039f\"],[0.2222222222222222,\"#7201a8\"],[0.3333333333333333,\"#9c179e\"],[0.4444444444444444,\"#bd3786\"],[0.5555555555555556,\"#d8576b\"],[0.6666666666666666,\"#ed7953\"],[0.7777777777777778,\"#fb9f3a\"],[0.8888888888888888,\"#fdca26\"],[1.0,\"#f0f921\"]]}],\"heatmapgl\":[{\"type\":\"heatmapgl\",\"colorbar\":{\"outlinewidth\":0,\"ticks\":\"\"},\"colorscale\":[[0.0,\"#0d0887\"],[0.1111111111111111,\"#46039f\"],[0.2222222222222222,\"#7201a8\"],[0.3333333333333333,\"#9c179e\"],[0.4444444444444444,\"#bd3786\"],[0.5555555555555556,\"#d8576b\"],[0.6666666666666666,\"#ed7953\"],[0.7777777777777778,\"#fb9f3a\"],[0.8888888888888888,\"#fdca26\"],[1.0,\"#f0f921\"]]}],\"contourcarpet\":[{\"type\":\"contourcarpet\",\"colorbar\":{\"outlinewidth\":0,\"ticks\":\"\"}}],\"contour\":[{\"type\":\"contour\",\"colorbar\":{\"outlinewidth\":0,\"ticks\":\"\"},\"colorscale\":[[0.0,\"#0d0887\"],[0.1111111111111111,\"#46039f\"],[0.2222222222222222,\"#7201a8\"],[0.3333333333333333,\"#9c179e\"],[0.4444444444444444,\"#bd3786\"],[0.5555555555555556,\"#d8576b\"],[0.6666666666666666,\"#ed7953\"],[0.7777777777777778,\"#fb9f3a\"],[0.8888888888888888,\"#fdca26\"],[1.0,\"#f0f921\"]]}],\"surface\":[{\"type\":\"surface\",\"colorbar\":{\"outlinewidth\":0,\"ticks\":\"\"},\"colorscale\":[[0.0,\"#0d0887\"],[0.1111111111111111,\"#46039f\"],[0.2222222222222222,\"#7201a8\"],[0.3333333333333333,\"#9c179e\"],[0.4444444444444444,\"#bd3786\"],[0.5555555555555556,\"#d8576b\"],[0.6666666666666666,\"#ed7953\"],[0.7777777777777778,\"#fb9f3a\"],[0.8888888888888888,\"#fdca26\"],[1.0,\"#f0f921\"]]}],\"mesh3d\":[{\"type\":\"mesh3d\",\"colorbar\":{\"outlinewidth\":0,\"ticks\":\"\"}}],\"scatter\":[{\"fillpattern\":{\"fillmode\":\"overlay\",\"size\":10,\"solidity\":0.2},\"type\":\"scatter\"}],\"parcoords\":[{\"type\":\"parcoords\",\"line\":{\"colorbar\":{\"outlinewidth\":0,\"ticks\":\"\"}}}],\"scatterpolargl\":[{\"type\":\"scatterpolargl\",\"marker\":{\"colorbar\":{\"outlinewidth\":0,\"ticks\":\"\"}}}],\"bar\":[{\"error_x\":{\"color\":\"#2a3f5f\"},\"error_y\":{\"color\":\"#2a3f5f\"},\"marker\":{\"line\":{\"color\":\"#E5ECF6\",\"width\":0.5},\"pattern\":{\"fillmode\":\"overlay\",\"size\":10,\"solidity\":0.2}},\"type\":\"bar\"}],\"scattergeo\":[{\"type\":\"scattergeo\",\"marker\":{\"colorbar\":{\"outlinewidth\":0,\"ticks\":\"\"}}}],\"scatterpolar\":[{\"type\":\"scatterpolar\",\"marker\":{\"colorbar\":{\"outlinewidth\":0,\"ticks\":\"\"}}}],\"histogram\":[{\"marker\":{\"pattern\":{\"fillmode\":\"overlay\",\"size\":10,\"solidity\":0.2}},\"type\":\"histogram\"}],\"scattergl\":[{\"type\":\"scattergl\",\"marker\":{\"colorbar\":{\"outlinewidth\":0,\"ticks\":\"\"}}}],\"scatter3d\":[{\"type\":\"scatter3d\",\"line\":{\"colorbar\":{\"outlinewidth\":0,\"ticks\":\"\"}},\"marker\":{\"colorbar\":{\"outlinewidth\":0,\"ticks\":\"\"}}}],\"scattermapbox\":[{\"type\":\"scattermapbox\",\"marker\":{\"colorbar\":{\"outlinewidth\":0,\"ticks\":\"\"}}}],\"scatterternary\":[{\"type\":\"scatterternary\",\"marker\":{\"colorbar\":{\"outlinewidth\":0,\"ticks\":\"\"}}}],\"scattercarpet\":[{\"type\":\"scattercarpet\",\"marker\":{\"colorbar\":{\"outlinewidth\":0,\"ticks\":\"\"}}}],\"carpet\":[{\"aaxis\":{\"endlinecolor\":\"#2a3f5f\",\"gridcolor\":\"white\",\"linecolor\":\"white\",\"minorgridcolor\":\"white\",\"startlinecolor\":\"#2a3f5f\"},\"baxis\":{\"endlinecolor\":\"#2a3f5f\",\"gridcolor\":\"white\",\"linecolor\":\"white\",\"minorgridcolor\":\"white\",\"startlinecolor\":\"#2a3f5f\"},\"type\":\"carpet\"}],\"table\":[{\"cells\":{\"fill\":{\"color\":\"#EBF0F8\"},\"line\":{\"color\":\"white\"}},\"header\":{\"fill\":{\"color\":\"#C8D4E3\"},\"line\":{\"color\":\"white\"}},\"type\":\"table\"}],\"barpolar\":[{\"marker\":{\"line\":{\"color\":\"#E5ECF6\",\"width\":0.5},\"pattern\":{\"fillmode\":\"overlay\",\"size\":10,\"solidity\":0.2}},\"type\":\"barpolar\"}],\"pie\":[{\"automargin\":true,\"type\":\"pie\"}]},\"layout\":{\"autotypenumbers\":\"strict\",\"colorway\":[\"#636efa\",\"#EF553B\",\"#00cc96\",\"#ab63fa\",\"#FFA15A\",\"#19d3f3\",\"#FF6692\",\"#B6E880\",\"#FF97FF\",\"#FECB52\"],\"font\":{\"color\":\"#2a3f5f\"},\"hovermode\":\"closest\",\"hoverlabel\":{\"align\":\"left\"},\"paper_bgcolor\":\"white\",\"plot_bgcolor\":\"#E5ECF6\",\"polar\":{\"bgcolor\":\"#E5ECF6\",\"angularaxis\":{\"gridcolor\":\"white\",\"linecolor\":\"white\",\"ticks\":\"\"},\"radialaxis\":{\"gridcolor\":\"white\",\"linecolor\":\"white\",\"ticks\":\"\"}},\"ternary\":{\"bgcolor\":\"#E5ECF6\",\"aaxis\":{\"gridcolor\":\"white\",\"linecolor\":\"white\",\"ticks\":\"\"},\"baxis\":{\"gridcolor\":\"white\",\"linecolor\":\"white\",\"ticks\":\"\"},\"caxis\":{\"gridcolor\":\"white\",\"linecolor\":\"white\",\"ticks\":\"\"}},\"coloraxis\":{\"colorbar\":{\"outlinewidth\":0,\"ticks\":\"\"}},\"colorscale\":{\"sequential\":[[0.0,\"#0d0887\"],[0.1111111111111111,\"#46039f\"],[0.2222222222222222,\"#7201a8\"],[0.3333333333333333,\"#9c179e\"],[0.4444444444444444,\"#bd3786\"],[0.5555555555555556,\"#d8576b\"],[0.6666666666666666,\"#ed7953\"],[0.7777777777777778,\"#fb9f3a\"],[0.8888888888888888,\"#fdca26\"],[1.0,\"#f0f921\"]],\"sequentialminus\":[[0.0,\"#0d0887\"],[0.1111111111111111,\"#46039f\"],[0.2222222222222222,\"#7201a8\"],[0.3333333333333333,\"#9c179e\"],[0.4444444444444444,\"#bd3786\"],[0.5555555555555556,\"#d8576b\"],[0.6666666666666666,\"#ed7953\"],[0.7777777777777778,\"#fb9f3a\"],[0.8888888888888888,\"#fdca26\"],[1.0,\"#f0f921\"]],\"diverging\":[[0,\"#8e0152\"],[0.1,\"#c51b7d\"],[0.2,\"#de77ae\"],[0.3,\"#f1b6da\"],[0.4,\"#fde0ef\"],[0.5,\"#f7f7f7\"],[0.6,\"#e6f5d0\"],[0.7,\"#b8e186\"],[0.8,\"#7fbc41\"],[0.9,\"#4d9221\"],[1,\"#276419\"]]},\"xaxis\":{\"gridcolor\":\"white\",\"linecolor\":\"white\",\"ticks\":\"\",\"title\":{\"standoff\":15},\"zerolinecolor\":\"white\",\"automargin\":true,\"zerolinewidth\":2},\"yaxis\":{\"gridcolor\":\"white\",\"linecolor\":\"white\",\"ticks\":\"\",\"title\":{\"standoff\":15},\"zerolinecolor\":\"white\",\"automargin\":true,\"zerolinewidth\":2},\"scene\":{\"xaxis\":{\"backgroundcolor\":\"#E5ECF6\",\"gridcolor\":\"white\",\"linecolor\":\"white\",\"showbackground\":true,\"ticks\":\"\",\"zerolinecolor\":\"white\",\"gridwidth\":2},\"yaxis\":{\"backgroundcolor\":\"#E5ECF6\",\"gridcolor\":\"white\",\"linecolor\":\"white\",\"showbackground\":true,\"ticks\":\"\",\"zerolinecolor\":\"white\",\"gridwidth\":2},\"zaxis\":{\"backgroundcolor\":\"#E5ECF6\",\"gridcolor\":\"white\",\"linecolor\":\"white\",\"showbackground\":true,\"ticks\":\"\",\"zerolinecolor\":\"white\",\"gridwidth\":2}},\"shapedefaults\":{\"line\":{\"color\":\"#2a3f5f\"}},\"annotationdefaults\":{\"arrowcolor\":\"#2a3f5f\",\"arrowhead\":0,\"arrowwidth\":1},\"geo\":{\"bgcolor\":\"white\",\"landcolor\":\"#E5ECF6\",\"subunitcolor\":\"white\",\"showland\":true,\"showlakes\":true,\"lakecolor\":\"white\"},\"title\":{\"x\":0.05},\"mapbox\":{\"style\":\"light\"}}},\"title\":{\"text\":\"'$ \\\\text{La ecuaci\\u00f3n final de regresi\\u00f3n usando sklearn es: } \\\\\\\\y_{last_sold_price} = -13746597.286 + 7013.621 X_{year_built}$'\"},\"xaxis\":{\"title\":{\"text\":\"year_built\"}},\"yaxis\":{\"title\":{\"text\":\"last_sold_price\"}}},                        {\"responsive\": true}                    ).then(function(){\n",
              "                            \n",
              "var gd = document.getElementById('3dc4d413-12f8-46df-89f2-a2c343b01f08');\n",
              "var x = new MutationObserver(function (mutations, observer) {{\n",
              "        var display = window.getComputedStyle(gd).display;\n",
              "        if (!display || display === 'none') {{\n",
              "            console.log([gd, 'removed!']);\n",
              "            Plotly.purge(gd);\n",
              "            observer.disconnect();\n",
              "        }}\n",
              "}});\n",
              "\n",
              "// Listen for the removal of the full notebook cells\n",
              "var notebookContainer = gd.closest('#notebook-container');\n",
              "if (notebookContainer) {{\n",
              "    x.observe(notebookContainer, {childList: true});\n",
              "}}\n",
              "\n",
              "// Listen for the clearing of the current output cell\n",
              "var outputEl = gd.closest('.output');\n",
              "if (outputEl) {{\n",
              "    x.observe(outputEl, {childList: true});\n",
              "}}\n",
              "\n",
              "                        })                };                            </script>        </div>\n",
              "</body>\n",
              "</html>"
            ]
          },
          "metadata": {}
        }
      ]
    },
    {
      "cell_type": "code",
      "source": [],
      "metadata": {
        "id": "vuxIRe9AOQuV"
      },
      "execution_count": null,
      "outputs": []
    },
    {
      "cell_type": "markdown",
      "source": [
        "# CON POLINOMIO "
      ],
      "metadata": {
        "id": "Id1EuNYSPalo"
      }
    },
    {
      "cell_type": "code",
      "source": [
        "n = data.shape[0] # Número de datos\n",
        "input_variable_name = ['year_built']\n",
        "output_variable_name = ['last_sold_price']\n",
        "X = data[input_variable_name].values\n",
        "Y = data[output_variable_name].values"
      ],
      "metadata": {
        "id": "iT7roAxDPdZ4"
      },
      "execution_count": null,
      "outputs": []
    },
    {
      "cell_type": "code",
      "source": [
        "from sklearn.preprocessing import PolynomialFeatures\n",
        "from sklearn.pipeline import make_pipeline\n",
        "poly = PolynomialFeatures(2)\n",
        "X_ext = poly.fit_transform(X)"
      ],
      "metadata": {
        "id": "j2kcci8oPjOv"
      },
      "execution_count": null,
      "outputs": []
    },
    {
      "cell_type": "code",
      "source": [
        "#model = LinearRegression(fit_intercept=False).fit(X_ext, Y)\n",
        "model = make_pipeline(PolynomialFeatures(4), LinearRegression(fit_intercept=False)).fit(X_ext, Y)"
      ],
      "metadata": {
        "id": "w89YbJVVPmH7"
      },
      "execution_count": null,
      "outputs": []
    },
    {
      "cell_type": "code",
      "source": [
        "ns = 400\n",
        "Xtest_ext = np.c_[np.ones(shape=(ns,1)),\n",
        "              np.linspace(X_ext[:,0].min(), X_ext[:,0].max(), ns).reshape(-1,1),\n",
        "              np.linspace(X_ext[:,1].min(), X_ext[:,1].max(), ns).reshape(-1,1)]\n",
        "Ytest_ext = model.predict(Xtest_ext)"
      ],
      "metadata": {
        "id": "78MeQcnaPqHk"
      },
      "execution_count": null,
      "outputs": []
    },
    {
      "cell_type": "code",
      "source": [
        "Ytest"
      ],
      "metadata": {
        "colab": {
          "base_uri": "https://localhost:8080/"
        },
        "id": "GxgspLukVRfv",
        "outputId": "234f2b4d-7b0a-4fca-8973-761d823238bc"
      },
      "execution_count": null,
      "outputs": [
        {
          "output_type": "execute_result",
          "data": {
            "text/plain": [
              "array([[210509.46405195],\n",
              "       [210691.8182105 ],\n",
              "       [210874.17236905],\n",
              "       ...,\n",
              "       [392498.91428549],\n",
              "       [392681.26844404],\n",
              "       [392863.62260259]])"
            ]
          },
          "metadata": {},
          "execution_count": 55
        }
      ]
    },
    {
      "cell_type": "code",
      "source": [
        "text_title = '$ \\text{' + text1 + ' } \\\\' + text2 + '$'\n",
        "fig = go.Figure()\n",
        "fig.add_trace(go.Scatter3d(z=Y[:,0], x=X_ext[:,1],y=X_ext[:,2],mode='markers', name='Datos originales'))\n",
        "fig.add_trace(go.Scatter3d(z=Ytest_ext[:,0], x=Xtest_ext[:,1], y=Xtest_ext[:,2],line=dict(width=200),mode='lines', name=r'Tendencia del modelo.<br>Datos test'))\n",
        "fig.update_layout(title=f\"{text_title!r}\", xaxis_title=input_variable_name[0], yaxis_title=output_variable_name[0])"
      ],
      "metadata": {
        "id": "4UMppr7nRVQJ"
      },
      "execution_count": null,
      "outputs": []
    },
    {
      "cell_type": "code",
      "source": [],
      "metadata": {
        "id": "lO_nKCD3RZ3G"
      },
      "execution_count": null,
      "outputs": []
    }
  ]
}