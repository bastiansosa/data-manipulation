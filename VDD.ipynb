{
  "nbformat": 4,
  "nbformat_minor": 0,
  "metadata": {
    "colab": {
      "provenance": [],
      "authorship_tag": "ABX9TyMn60O4EtbW0X8bvC0N3QP7",
      "include_colab_link": true
    },
    "kernelspec": {
      "name": "python3",
      "display_name": "Python 3"
    },
    "language_info": {
      "name": "python"
    }
  },
  "cells": [
    {
      "cell_type": "markdown",
      "metadata": {
        "id": "view-in-github",
        "colab_type": "text"
      },
      "source": [
        "<a href=\"https://colab.research.google.com/github/bastiansosa/data-visualization/blob/main/VDD.ipynb\" target=\"_parent\"><img src=\"https://colab.research.google.com/assets/colab-badge.svg\" alt=\"Open In Colab\"/></a>"
      ]
    },
    {
      "cell_type": "code",
      "execution_count": null,
      "metadata": {
        "id": "F_R5XBeywfBB",
        "colab": {
          "base_uri": "https://localhost:8080/"
        },
        "outputId": "c8859a9e-b068-4a45-8970-97ce471c6184"
      },
      "outputs": [
        {
          "output_type": "stream",
          "name": "stdout",
          "text": [
            "Mounted at /content/drive\n"
          ]
        }
      ],
      "source": [
        "import pandas as pd\n",
        "import matplotlib.pyplot as plt\n",
        "from google.colab import drive\n",
        "drive.mount('/content/drive')"
      ]
    },
    {
      "cell_type": "code",
      "source": [
        "import numpy as np "
      ],
      "metadata": {
        "id": "KgjFUQw1-ROU"
      },
      "execution_count": null,
      "outputs": []
    },
    {
      "cell_type": "markdown",
      "source": [
        "Graficos para una variable -> distribucion\n",
        "\n",
        "Graficos para dos variables -> x,y (scatter)->cant,\n",
        "                                   barras -> categorias,\n",
        "                                   \n",
        "Graficos para n-dimensiones -> colores,formas"
      ],
      "metadata": {
        "id": "Ia6WsStay1Qd"
      }
    },
    {
      "cell_type": "code",
      "source": [
        "df = pd.read_csv(\"HousePrices-DS22.csv\")"
      ],
      "metadata": {
        "id": "nkClgGwDwpWi"
      },
      "execution_count": null,
      "outputs": []
    },
    {
      "cell_type": "code",
      "source": [
        "df.info()"
      ],
      "metadata": {
        "colab": {
          "base_uri": "https://localhost:8080/"
        },
        "id": "6ts1tLeJw37Y",
        "outputId": "d8075754-91d8-4e79-c217-54087f1d4476"
      },
      "execution_count": null,
      "outputs": [
        {
          "output_type": "stream",
          "name": "stdout",
          "text": [
            "<class 'pandas.core.frame.DataFrame'>\n",
            "RangeIndex: 120 entries, 0 to 119\n",
            "Data columns (total 10 columns):\n",
            " #   Column               Non-Null Count  Dtype  \n",
            "---  ------               --------------  -----  \n",
            " 0   house_sqft           120 non-null    int64  \n",
            " 1   num_of_bedrooms      120 non-null    int64  \n",
            " 2   num_of_bathrooms     120 non-null    float64\n",
            " 3   year_built           120 non-null    int64  \n",
            " 4   tax_assessed_value   120 non-null    int64  \n",
            " 5   last_sold_price      120 non-null    int64  \n",
            " 6   rate_per_sqfoot      120 non-null    int64  \n",
            " 7   city                 120 non-null    object \n",
            " 8   home_type            120 non-null    object \n",
            " 9   school_rating_1to10  45 non-null     float64\n",
            "dtypes: float64(2), int64(6), object(2)\n",
            "memory usage: 9.5+ KB\n"
          ]
        }
      ]
    },
    {
      "cell_type": "code",
      "source": [
        "df.describe()"
      ],
      "metadata": {
        "colab": {
          "base_uri": "https://localhost:8080/",
          "height": 344
        },
        "id": "FA81untBxEQv",
        "outputId": "2f917c43-fcc9-460c-e712-212c827cacfe"
      },
      "execution_count": null,
      "outputs": [
        {
          "output_type": "execute_result",
          "data": {
            "text/plain": [
              "        house_sqft  num_of_bedrooms  num_of_bathrooms   year_built  \\\n",
              "count   120.000000       120.000000        120.000000   120.000000   \n",
              "mean   2373.116667         4.050000          3.020833  2001.991667   \n",
              "std     648.229796         0.591963          0.507903     8.940039   \n",
              "min    1770.000000         3.000000          2.000000  1990.000000   \n",
              "25%    1985.000000         4.000000          2.500000  1992.000000   \n",
              "50%    2090.000000         4.000000          3.000000  2002.000000   \n",
              "75%    2750.000000         4.000000          3.500000  2012.000000   \n",
              "max    3900.000000         5.000000          4.000000  2016.000000   \n",
              "\n",
              "       tax_assessed_value  last_sold_price  rate_per_sqfoot  \\\n",
              "count        1.200000e+02       120.000000       120.000000   \n",
              "mean         3.993667e+05    294614.475000       126.558333   \n",
              "std          8.890630e+05     71392.526129        22.687795   \n",
              "min          1.950000e+05    196358.000000        89.000000   \n",
              "25%          2.300000e+05    230759.750000       112.000000   \n",
              "50%          3.000000e+05    306384.500000       119.000000   \n",
              "75%          3.300000e+05    333083.250000       153.000000   \n",
              "max          9.100000e+06    450842.000000       161.000000   \n",
              "\n",
              "       school_rating_1to10  \n",
              "count            45.000000  \n",
              "mean              7.933333  \n",
              "std               1.136182  \n",
              "min               6.000000  \n",
              "25%               7.000000  \n",
              "50%               9.000000  \n",
              "75%               9.000000  \n",
              "max               9.000000  "
            ],
            "text/html": [
              "\n",
              "  <div id=\"df-a0e8a9db-c0bb-4824-ba6b-7f56f6e5068a\">\n",
              "    <div class=\"colab-df-container\">\n",
              "      <div>\n",
              "<style scoped>\n",
              "    .dataframe tbody tr th:only-of-type {\n",
              "        vertical-align: middle;\n",
              "    }\n",
              "\n",
              "    .dataframe tbody tr th {\n",
              "        vertical-align: top;\n",
              "    }\n",
              "\n",
              "    .dataframe thead th {\n",
              "        text-align: right;\n",
              "    }\n",
              "</style>\n",
              "<table border=\"1\" class=\"dataframe\">\n",
              "  <thead>\n",
              "    <tr style=\"text-align: right;\">\n",
              "      <th></th>\n",
              "      <th>house_sqft</th>\n",
              "      <th>num_of_bedrooms</th>\n",
              "      <th>num_of_bathrooms</th>\n",
              "      <th>year_built</th>\n",
              "      <th>tax_assessed_value</th>\n",
              "      <th>last_sold_price</th>\n",
              "      <th>rate_per_sqfoot</th>\n",
              "      <th>school_rating_1to10</th>\n",
              "    </tr>\n",
              "  </thead>\n",
              "  <tbody>\n",
              "    <tr>\n",
              "      <th>count</th>\n",
              "      <td>120.000000</td>\n",
              "      <td>120.000000</td>\n",
              "      <td>120.000000</td>\n",
              "      <td>120.000000</td>\n",
              "      <td>1.200000e+02</td>\n",
              "      <td>120.000000</td>\n",
              "      <td>120.000000</td>\n",
              "      <td>45.000000</td>\n",
              "    </tr>\n",
              "    <tr>\n",
              "      <th>mean</th>\n",
              "      <td>2373.116667</td>\n",
              "      <td>4.050000</td>\n",
              "      <td>3.020833</td>\n",
              "      <td>2001.991667</td>\n",
              "      <td>3.993667e+05</td>\n",
              "      <td>294614.475000</td>\n",
              "      <td>126.558333</td>\n",
              "      <td>7.933333</td>\n",
              "    </tr>\n",
              "    <tr>\n",
              "      <th>std</th>\n",
              "      <td>648.229796</td>\n",
              "      <td>0.591963</td>\n",
              "      <td>0.507903</td>\n",
              "      <td>8.940039</td>\n",
              "      <td>8.890630e+05</td>\n",
              "      <td>71392.526129</td>\n",
              "      <td>22.687795</td>\n",
              "      <td>1.136182</td>\n",
              "    </tr>\n",
              "    <tr>\n",
              "      <th>min</th>\n",
              "      <td>1770.000000</td>\n",
              "      <td>3.000000</td>\n",
              "      <td>2.000000</td>\n",
              "      <td>1990.000000</td>\n",
              "      <td>1.950000e+05</td>\n",
              "      <td>196358.000000</td>\n",
              "      <td>89.000000</td>\n",
              "      <td>6.000000</td>\n",
              "    </tr>\n",
              "    <tr>\n",
              "      <th>25%</th>\n",
              "      <td>1985.000000</td>\n",
              "      <td>4.000000</td>\n",
              "      <td>2.500000</td>\n",
              "      <td>1992.000000</td>\n",
              "      <td>2.300000e+05</td>\n",
              "      <td>230759.750000</td>\n",
              "      <td>112.000000</td>\n",
              "      <td>7.000000</td>\n",
              "    </tr>\n",
              "    <tr>\n",
              "      <th>50%</th>\n",
              "      <td>2090.000000</td>\n",
              "      <td>4.000000</td>\n",
              "      <td>3.000000</td>\n",
              "      <td>2002.000000</td>\n",
              "      <td>3.000000e+05</td>\n",
              "      <td>306384.500000</td>\n",
              "      <td>119.000000</td>\n",
              "      <td>9.000000</td>\n",
              "    </tr>\n",
              "    <tr>\n",
              "      <th>75%</th>\n",
              "      <td>2750.000000</td>\n",
              "      <td>4.000000</td>\n",
              "      <td>3.500000</td>\n",
              "      <td>2012.000000</td>\n",
              "      <td>3.300000e+05</td>\n",
              "      <td>333083.250000</td>\n",
              "      <td>153.000000</td>\n",
              "      <td>9.000000</td>\n",
              "    </tr>\n",
              "    <tr>\n",
              "      <th>max</th>\n",
              "      <td>3900.000000</td>\n",
              "      <td>5.000000</td>\n",
              "      <td>4.000000</td>\n",
              "      <td>2016.000000</td>\n",
              "      <td>9.100000e+06</td>\n",
              "      <td>450842.000000</td>\n",
              "      <td>161.000000</td>\n",
              "      <td>9.000000</td>\n",
              "    </tr>\n",
              "  </tbody>\n",
              "</table>\n",
              "</div>\n",
              "      <button class=\"colab-df-convert\" onclick=\"convertToInteractive('df-a0e8a9db-c0bb-4824-ba6b-7f56f6e5068a')\"\n",
              "              title=\"Convert this dataframe to an interactive table.\"\n",
              "              style=\"display:none;\">\n",
              "        \n",
              "  <svg xmlns=\"http://www.w3.org/2000/svg\" height=\"24px\"viewBox=\"0 0 24 24\"\n",
              "       width=\"24px\">\n",
              "    <path d=\"M0 0h24v24H0V0z\" fill=\"none\"/>\n",
              "    <path d=\"M18.56 5.44l.94 2.06.94-2.06 2.06-.94-2.06-.94-.94-2.06-.94 2.06-2.06.94zm-11 1L8.5 8.5l.94-2.06 2.06-.94-2.06-.94L8.5 2.5l-.94 2.06-2.06.94zm10 10l.94 2.06.94-2.06 2.06-.94-2.06-.94-.94-2.06-.94 2.06-2.06.94z\"/><path d=\"M17.41 7.96l-1.37-1.37c-.4-.4-.92-.59-1.43-.59-.52 0-1.04.2-1.43.59L10.3 9.45l-7.72 7.72c-.78.78-.78 2.05 0 2.83L4 21.41c.39.39.9.59 1.41.59.51 0 1.02-.2 1.41-.59l7.78-7.78 2.81-2.81c.8-.78.8-2.07 0-2.86zM5.41 20L4 18.59l7.72-7.72 1.47 1.35L5.41 20z\"/>\n",
              "  </svg>\n",
              "      </button>\n",
              "      \n",
              "  <style>\n",
              "    .colab-df-container {\n",
              "      display:flex;\n",
              "      flex-wrap:wrap;\n",
              "      gap: 12px;\n",
              "    }\n",
              "\n",
              "    .colab-df-convert {\n",
              "      background-color: #E8F0FE;\n",
              "      border: none;\n",
              "      border-radius: 50%;\n",
              "      cursor: pointer;\n",
              "      display: none;\n",
              "      fill: #1967D2;\n",
              "      height: 32px;\n",
              "      padding: 0 0 0 0;\n",
              "      width: 32px;\n",
              "    }\n",
              "\n",
              "    .colab-df-convert:hover {\n",
              "      background-color: #E2EBFA;\n",
              "      box-shadow: 0px 1px 2px rgba(60, 64, 67, 0.3), 0px 1px 3px 1px rgba(60, 64, 67, 0.15);\n",
              "      fill: #174EA6;\n",
              "    }\n",
              "\n",
              "    [theme=dark] .colab-df-convert {\n",
              "      background-color: #3B4455;\n",
              "      fill: #D2E3FC;\n",
              "    }\n",
              "\n",
              "    [theme=dark] .colab-df-convert:hover {\n",
              "      background-color: #434B5C;\n",
              "      box-shadow: 0px 1px 3px 1px rgba(0, 0, 0, 0.15);\n",
              "      filter: drop-shadow(0px 1px 2px rgba(0, 0, 0, 0.3));\n",
              "      fill: #FFFFFF;\n",
              "    }\n",
              "  </style>\n",
              "\n",
              "      <script>\n",
              "        const buttonEl =\n",
              "          document.querySelector('#df-a0e8a9db-c0bb-4824-ba6b-7f56f6e5068a button.colab-df-convert');\n",
              "        buttonEl.style.display =\n",
              "          google.colab.kernel.accessAllowed ? 'block' : 'none';\n",
              "\n",
              "        async function convertToInteractive(key) {\n",
              "          const element = document.querySelector('#df-a0e8a9db-c0bb-4824-ba6b-7f56f6e5068a');\n",
              "          const dataTable =\n",
              "            await google.colab.kernel.invokeFunction('convertToInteractive',\n",
              "                                                     [key], {});\n",
              "          if (!dataTable) return;\n",
              "\n",
              "          const docLinkHtml = 'Like what you see? Visit the ' +\n",
              "            '<a target=\"_blank\" href=https://colab.research.google.com/notebooks/data_table.ipynb>data table notebook</a>'\n",
              "            + ' to learn more about interactive tables.';\n",
              "          element.innerHTML = '';\n",
              "          dataTable['output_type'] = 'display_data';\n",
              "          await google.colab.output.renderOutput(dataTable, element);\n",
              "          const docLink = document.createElement('div');\n",
              "          docLink.innerHTML = docLinkHtml;\n",
              "          element.appendChild(docLink);\n",
              "        }\n",
              "      </script>\n",
              "    </div>\n",
              "  </div>\n",
              "  "
            ]
          },
          "metadata": {},
          "execution_count": 4
        }
      ]
    },
    {
      "cell_type": "code",
      "source": [
        "df.groupby(\"home_type\").mean()"
      ],
      "metadata": {
        "colab": {
          "base_uri": "https://localhost:8080/",
          "height": 239
        },
        "id": "ZwNjNd9qxQqX",
        "outputId": "df01e515-7492-4620-cf4c-4e00ea56eccd"
      },
      "execution_count": null,
      "outputs": [
        {
          "output_type": "execute_result",
          "data": {
            "text/plain": [
              "                house_sqft  num_of_bedrooms  num_of_bathrooms   year_built  \\\n",
              "home_type                                                                    \n",
              "apartment      1770.500000         3.000000          2.000000  1990.000000   \n",
              "single_family  2979.166667         4.500000          3.239583  2006.229167   \n",
              "townhome       1980.764706         3.794118          2.926471  1999.705882   \n",
              "\n",
              "               tax_assessed_value  last_sold_price  rate_per_sqfoot  \\\n",
              "home_type                                                             \n",
              "apartment           196250.000000    197475.000000       111.750000   \n",
              "single_family       430916.666667    350157.479167       121.229167   \n",
              "townhome            389044.117647    261121.735294       131.191176   \n",
              "\n",
              "               school_rating_1to10  \n",
              "home_type                           \n",
              "apartment                      6.0  \n",
              "single_family                  9.0  \n",
              "townhome                       8.1  "
            ],
            "text/html": [
              "\n",
              "  <div id=\"df-8df03008-d84a-4590-b748-3d9ab027502d\">\n",
              "    <div class=\"colab-df-container\">\n",
              "      <div>\n",
              "<style scoped>\n",
              "    .dataframe tbody tr th:only-of-type {\n",
              "        vertical-align: middle;\n",
              "    }\n",
              "\n",
              "    .dataframe tbody tr th {\n",
              "        vertical-align: top;\n",
              "    }\n",
              "\n",
              "    .dataframe thead th {\n",
              "        text-align: right;\n",
              "    }\n",
              "</style>\n",
              "<table border=\"1\" class=\"dataframe\">\n",
              "  <thead>\n",
              "    <tr style=\"text-align: right;\">\n",
              "      <th></th>\n",
              "      <th>house_sqft</th>\n",
              "      <th>num_of_bedrooms</th>\n",
              "      <th>num_of_bathrooms</th>\n",
              "      <th>year_built</th>\n",
              "      <th>tax_assessed_value</th>\n",
              "      <th>last_sold_price</th>\n",
              "      <th>rate_per_sqfoot</th>\n",
              "      <th>school_rating_1to10</th>\n",
              "    </tr>\n",
              "    <tr>\n",
              "      <th>home_type</th>\n",
              "      <th></th>\n",
              "      <th></th>\n",
              "      <th></th>\n",
              "      <th></th>\n",
              "      <th></th>\n",
              "      <th></th>\n",
              "      <th></th>\n",
              "      <th></th>\n",
              "    </tr>\n",
              "  </thead>\n",
              "  <tbody>\n",
              "    <tr>\n",
              "      <th>apartment</th>\n",
              "      <td>1770.500000</td>\n",
              "      <td>3.000000</td>\n",
              "      <td>2.000000</td>\n",
              "      <td>1990.000000</td>\n",
              "      <td>196250.000000</td>\n",
              "      <td>197475.000000</td>\n",
              "      <td>111.750000</td>\n",
              "      <td>6.0</td>\n",
              "    </tr>\n",
              "    <tr>\n",
              "      <th>single_family</th>\n",
              "      <td>2979.166667</td>\n",
              "      <td>4.500000</td>\n",
              "      <td>3.239583</td>\n",
              "      <td>2006.229167</td>\n",
              "      <td>430916.666667</td>\n",
              "      <td>350157.479167</td>\n",
              "      <td>121.229167</td>\n",
              "      <td>9.0</td>\n",
              "    </tr>\n",
              "    <tr>\n",
              "      <th>townhome</th>\n",
              "      <td>1980.764706</td>\n",
              "      <td>3.794118</td>\n",
              "      <td>2.926471</td>\n",
              "      <td>1999.705882</td>\n",
              "      <td>389044.117647</td>\n",
              "      <td>261121.735294</td>\n",
              "      <td>131.191176</td>\n",
              "      <td>8.1</td>\n",
              "    </tr>\n",
              "  </tbody>\n",
              "</table>\n",
              "</div>\n",
              "      <button class=\"colab-df-convert\" onclick=\"convertToInteractive('df-8df03008-d84a-4590-b748-3d9ab027502d')\"\n",
              "              title=\"Convert this dataframe to an interactive table.\"\n",
              "              style=\"display:none;\">\n",
              "        \n",
              "  <svg xmlns=\"http://www.w3.org/2000/svg\" height=\"24px\"viewBox=\"0 0 24 24\"\n",
              "       width=\"24px\">\n",
              "    <path d=\"M0 0h24v24H0V0z\" fill=\"none\"/>\n",
              "    <path d=\"M18.56 5.44l.94 2.06.94-2.06 2.06-.94-2.06-.94-.94-2.06-.94 2.06-2.06.94zm-11 1L8.5 8.5l.94-2.06 2.06-.94-2.06-.94L8.5 2.5l-.94 2.06-2.06.94zm10 10l.94 2.06.94-2.06 2.06-.94-2.06-.94-.94-2.06-.94 2.06-2.06.94z\"/><path d=\"M17.41 7.96l-1.37-1.37c-.4-.4-.92-.59-1.43-.59-.52 0-1.04.2-1.43.59L10.3 9.45l-7.72 7.72c-.78.78-.78 2.05 0 2.83L4 21.41c.39.39.9.59 1.41.59.51 0 1.02-.2 1.41-.59l7.78-7.78 2.81-2.81c.8-.78.8-2.07 0-2.86zM5.41 20L4 18.59l7.72-7.72 1.47 1.35L5.41 20z\"/>\n",
              "  </svg>\n",
              "      </button>\n",
              "      \n",
              "  <style>\n",
              "    .colab-df-container {\n",
              "      display:flex;\n",
              "      flex-wrap:wrap;\n",
              "      gap: 12px;\n",
              "    }\n",
              "\n",
              "    .colab-df-convert {\n",
              "      background-color: #E8F0FE;\n",
              "      border: none;\n",
              "      border-radius: 50%;\n",
              "      cursor: pointer;\n",
              "      display: none;\n",
              "      fill: #1967D2;\n",
              "      height: 32px;\n",
              "      padding: 0 0 0 0;\n",
              "      width: 32px;\n",
              "    }\n",
              "\n",
              "    .colab-df-convert:hover {\n",
              "      background-color: #E2EBFA;\n",
              "      box-shadow: 0px 1px 2px rgba(60, 64, 67, 0.3), 0px 1px 3px 1px rgba(60, 64, 67, 0.15);\n",
              "      fill: #174EA6;\n",
              "    }\n",
              "\n",
              "    [theme=dark] .colab-df-convert {\n",
              "      background-color: #3B4455;\n",
              "      fill: #D2E3FC;\n",
              "    }\n",
              "\n",
              "    [theme=dark] .colab-df-convert:hover {\n",
              "      background-color: #434B5C;\n",
              "      box-shadow: 0px 1px 3px 1px rgba(0, 0, 0, 0.15);\n",
              "      filter: drop-shadow(0px 1px 2px rgba(0, 0, 0, 0.3));\n",
              "      fill: #FFFFFF;\n",
              "    }\n",
              "  </style>\n",
              "\n",
              "      <script>\n",
              "        const buttonEl =\n",
              "          document.querySelector('#df-8df03008-d84a-4590-b748-3d9ab027502d button.colab-df-convert');\n",
              "        buttonEl.style.display =\n",
              "          google.colab.kernel.accessAllowed ? 'block' : 'none';\n",
              "\n",
              "        async function convertToInteractive(key) {\n",
              "          const element = document.querySelector('#df-8df03008-d84a-4590-b748-3d9ab027502d');\n",
              "          const dataTable =\n",
              "            await google.colab.kernel.invokeFunction('convertToInteractive',\n",
              "                                                     [key], {});\n",
              "          if (!dataTable) return;\n",
              "\n",
              "          const docLinkHtml = 'Like what you see? Visit the ' +\n",
              "            '<a target=\"_blank\" href=https://colab.research.google.com/notebooks/data_table.ipynb>data table notebook</a>'\n",
              "            + ' to learn more about interactive tables.';\n",
              "          element.innerHTML = '';\n",
              "          dataTable['output_type'] = 'display_data';\n",
              "          await google.colab.output.renderOutput(dataTable, element);\n",
              "          const docLink = document.createElement('div');\n",
              "          docLink.innerHTML = docLinkHtml;\n",
              "          element.appendChild(docLink);\n",
              "        }\n",
              "      </script>\n",
              "    </div>\n",
              "  </div>\n",
              "  "
            ]
          },
          "metadata": {},
          "execution_count": 5
        }
      ]
    },
    {
      "cell_type": "code",
      "source": [
        "plt.hist(df[\"last_sold_price\"])"
      ],
      "metadata": {
        "colab": {
          "base_uri": "https://localhost:8080/",
          "height": 499
        },
        "id": "s1iS39R1ym_W",
        "outputId": "d7d7ad38-972e-4d32-cc1b-1111b2b08dab"
      },
      "execution_count": null,
      "outputs": [
        {
          "output_type": "execute_result",
          "data": {
            "text/plain": [
              "(array([20., 27.,  4.,  0., 31., 21.,  4.,  0.,  0., 13.]),\n",
              " array([196358. , 221806.4, 247254.8, 272703.2, 298151.6, 323600. ,\n",
              "        349048.4, 374496.8, 399945.2, 425393.6, 450842. ]),\n",
              " <BarContainer object of 10 artists>)"
            ]
          },
          "metadata": {},
          "execution_count": 5
        },
        {
          "output_type": "display_data",
          "data": {
            "text/plain": [
              "<Figure size 640x480 with 1 Axes>"
            ],
            "image/png": "[encoded data removed]"
          },
          "metadata": {}
        }
      ]
    },
    {
      "cell_type": "code",
      "source": [
        "df.boxplot(column=[\"tax_assessed_value\"]) # se puede ver dos outlayers"
      ],
      "metadata": {
        "colab": {
          "base_uri": "https://localhost:8080/",
          "height": 462
        },
        "id": "49ng0e1lzBd8",
        "outputId": "c3697709-db81-4481-b788-264c38ab459e"
      },
      "execution_count": null,
      "outputs": [
        {
          "output_type": "execute_result",
          "data": {
            "text/plain": [
              "<Axes: >"
            ]
          },
          "metadata": {},
          "execution_count": 6
        },
        {
          "output_type": "display_data",
          "data": {
            "text/plain": [
              "<Figure size 640x480 with 1 Axes>"
            ],
            "image/png": "[encoded data removed]"
          },
          "metadata": {}
        }
      ]
    },
    {
      "cell_type": "code",
      "source": [
        "df = df[\"tax_assessed_value\"].sort_values(ascending=True)\n",
        "df"
      ],
      "metadata": {
        "colab": {
          "base_uri": "https://localhost:8080/"
        },
        "id": "-HQYKBtcGgVq",
        "outputId": "716d52af-d357-4ffc-8a47-0f1d31469ef5"
      },
      "execution_count": null,
      "outputs": [
        {
          "output_type": "execute_result",
          "data": {
            "text/plain": [
              "0       195000\n",
              "1       195000\n",
              "2       195000\n",
              "3       200000\n",
              "4       200000\n",
              "        ...   \n",
              "118     445000\n",
              "116     445000\n",
              "117     445000\n",
              "119    4450000\n",
              "72     9100000\n",
              "Name: tax_assessed_value, Length: 120, dtype: int64"
            ]
          },
          "metadata": {},
          "execution_count": 7
        }
      ]
    },
    {
      "cell_type": "code",
      "source": [
        "df_c = df[\"tax_assessed_value\"]<=445000\n",
        "df_c = df.loc[df_c]\n",
        "df_c.boxplot(column=[\"tax_assessed_value\"])"
      ],
      "metadata": {
        "colab": {
          "base_uri": "https://localhost:8080/",
          "height": 447
        },
        "id": "gBme7Tej0PBj",
        "outputId": "8251fec7-6649-4405-f1ab-5fa6342e65f4"
      },
      "execution_count": null,
      "outputs": [
        {
          "output_type": "execute_result",
          "data": {
            "text/plain": [
              "<Axes: >"
            ]
          },
          "metadata": {},
          "execution_count": 12
        },
        {
          "output_type": "display_data",
          "data": {
            "text/plain": [
              "<Figure size 640x480 with 1 Axes>"
            ],
            "image/png": "[encoded data removed]"
          },
          "metadata": {}
        }
      ]
    },
    {
      "cell_type": "code",
      "source": [
        "plt.hist(df[\"tax_assessed_value\"],df[\"last_sold_price\"])"
      ],
      "metadata": {
        "colab": {
          "base_uri": "https://localhost:8080/",
          "height": 933
        },
        "id": "-KZWCErZ0ahp",
        "outputId": "1024b5a3-8503-4d26-aa19-16a3c081354f"
      },
      "execution_count": null,
      "outputs": [
        {
          "output_type": "execute_result",
          "data": {
            "text/plain": [
              "(array([ 0.,  0.,  0.,  3.,  0.,  4.,  0.,  0.,  0.,  0.,  0.,  0.,  0.,\n",
              "         7.,  0.,  2.,  0.,  0.,  0.,  8.,  0.,  0.,  0.,  0.,  0.,  0.,\n",
              "         0.,  0.,  8.,  0.,  0.,  0.,  0.,  0.,  2.,  0.,  0.,  0.,  0.,\n",
              "         0.,  9.,  0.,  0.,  0.,  0.,  4.,  0.,  0.,  0.,  1., 10.,  0.,\n",
              "         0.,  0.,  0.,  0.,  0.,  0.,  0.,  0.,  0.,  0.,  0.,  3.,  0.,\n",
              "         4.,  0.,  0.,  0.,  0.,  6.,  0.,  0.,  0.,  0.,  0.,  7.,  0.,\n",
              "         0.,  0.,  0.,  3.,  0.,  0.,  0.,  0.,  8.,  0.,  0.,  0.,  0.,\n",
              "         0.,  1.,  0.,  0.,  6.,  0.,  0.,  0.,  3.,  0.,  0.,  4.,  0.,\n",
              "         0.,  0.,  3.,  0.,  0.,  1.,  0.,  5.,  0.,  0.,  3.,  0.,  0.,\n",
              "         0.,  0.]),\n",
              " array([196358., 197715., 197816., 198011., 200530., 201805., 206175.,\n",
              "        207027., 207121., 210519., 211099., 211274., 211414., 211740.,\n",
              "        212560., 214814., 215921., 216623., 216971., 218007., 222423.,\n",
              "        222695., 222714., 223143., 224194., 224249., 225504., 229480.,\n",
              "        229695., 230654., 230795., 231101., 232421., 232955., 233065.,\n",
              "        235223., 236792., 238087., 238383., 238582., 239713., 241453.,\n",
              "        241837., 241882., 242863., 244635., 246374., 248234., 248516.,\n",
              "        248578., 251326., 301189., 301417., 302186., 303918., 304146.,\n",
              "        304213., 304620., 305047., 306040., 306729., 307472., 308672.,\n",
              "        308945., 309476., 309798., 312793., 313764., 314040., 314441.,\n",
              "        314658., 315606., 316104., 317252., 317317., 319410., 319915.,\n",
              "        320467., 320592., 320693., 321339., 322249., 325744., 326331.,\n",
              "        328999., 329071., 329959., 330712., 330994., 333035., 333228.,\n",
              "        333677., 333738., 336535., 339344., 340052., 341943., 342580.,\n",
              "        343695., 343851., 346258., 346307., 347003., 353150., 353383.,\n",
              "        356913., 356966., 433084., 433582., 434381., 437899., 438230.,\n",
              "        441080., 442118., 444091., 445040., 447022., 448260., 449066.,\n",
              "        450842.]),\n",
              " <BarContainer object of 119 artists>)"
            ]
          },
          "metadata": {},
          "execution_count": 13
        },
        {
          "output_type": "display_data",
          "data": {
            "text/plain": [
              "<Figure size 640x480 with 1 Axes>"
            ],
            "image/png": "[encoded data removed]"
          },
          "metadata": {}
        }
      ]
    },
    {
      "cell_type": "code",
      "source": [
        "ruta = '/content/drive/MyDrive/coronavirus_2020.csv'\n",
        "df2 = pd.read_csv(ruta)\n"
      ],
      "metadata": {
        "colab": {
          "base_uri": "https://localhost:8080/"
        },
        "id": "RQQFT3kb0-bR",
        "outputId": "62a94476-2212-419f-fdd8-74eac605766e"
      },
      "execution_count": null,
      "outputs": [
        {
          "output_type": "stream",
          "name": "stderr",
          "text": [
            "<ipython-input-2-17ee2e28544a>:2: DtypeWarning: Columns (1) have mixed types. Specify dtype option on import or set low_memory=False.\n",
            "  df2 = pd.read_csv(ruta)\n"
          ]
        }
      ]
    },
    {
      "cell_type": "code",
      "source": [
        "df2.date = pd.to_datetime(df2.date,format=\"%Y-%m-%d\")\n",
        "df2.info()"
      ],
      "metadata": {
        "id": "_e52kkzC7y47",
        "colab": {
          "base_uri": "https://localhost:8080/"
        },
        "outputId": "3163fc71-b460-4876-939a-00f8e9bb0298"
      },
      "execution_count": null,
      "outputs": [
        {
          "output_type": "stream",
          "name": "stdout",
          "text": [
            "<class 'pandas.core.frame.DataFrame'>\n",
            "RangeIndex: 293940 entries, 0 to 293939\n",
            "Data columns (total 15 columns):\n",
            " #   Column          Non-Null Count   Dtype         \n",
            "---  ------          --------------   -----         \n",
            " 0   date            293940 non-null  datetime64[ns]\n",
            " 1   province        88665 non-null   object        \n",
            " 2   country         293940 non-null  object        \n",
            " 3   lat             292215 non-null  float64       \n",
            " 4   long            292215 non-null  float64       \n",
            " 5   type            293940 non-null  object        \n",
            " 6   cases           293940 non-null  int64         \n",
            " 7   uid             282900 non-null  float64       \n",
            " 8   iso2            278760 non-null  object        \n",
            " 9   iso3            279795 non-null  object        \n",
            " 10  code3           279795 non-null  float64       \n",
            " 11  combined_key    282900 non-null  object        \n",
            " 12  population      277380 non-null  float64       \n",
            " 13  continent_name  279795 non-null  object        \n",
            " 14  continent_code  229770 non-null  object        \n",
            "dtypes: datetime64[ns](1), float64(5), int64(1), object(8)\n",
            "memory usage: 33.6+ MB\n"
          ]
        }
      ]
    },
    {
      "cell_type": "code",
      "source": [
        "df2_china = df2[\"country\"]==\"China\"\n",
        "df2_china = df2.loc[df2_china]\n",
        "df2chinaD = df2_china.groupby(pd.Grouper(key=\"date\", axis=0, freq=\"D\")).sum()\n",
        "df2chinaD.reset_index(inplace=True)\n",
        "df2chinaD"
      ],
      "metadata": {
        "colab": {
          "base_uri": "https://localhost:8080/",
          "height": 423
        },
        "id": "uIA8EiTm7-O-",
        "outputId": "81750e36-f953-4a8a-ec60-2ac6f85fe637"
      },
      "execution_count": null,
      "outputs": [
        {
          "output_type": "execute_result",
          "data": {
            "text/plain": [
              "          date        lat        long  cases        uid    code3    population\n",
              "0   2020-01-22  3250.2099  11064.2965    593  1501755.0  17346.0  4.214029e+09\n",
              "1   2020-01-23  3250.2099  11064.2965     98  1501755.0  17346.0  4.214029e+09\n",
              "2   2020-01-24  3250.2099  11064.2965    291  1501755.0  17346.0  4.214029e+09\n",
              "3   2020-01-25  3250.2099  11064.2965    505  1501755.0  17346.0  4.214029e+09\n",
              "4   2020-01-26  3250.2099  11064.2965    693  1501755.0  17346.0  4.214029e+09\n",
              "..         ...        ...         ...    ...        ...      ...           ...\n",
              "340 2020-12-27  3250.2099  11064.2965    201  1501755.0  17346.0  4.214029e+09\n",
              "341 2020-12-28  3250.2099  11064.2965    176  1501755.0  17346.0  4.214029e+09\n",
              "342 2020-12-29  3250.2099  11064.2965    194  1501755.0  17346.0  4.214029e+09\n",
              "343 2020-12-30  3250.2099  11064.2965    211  1501755.0  17346.0  4.214029e+09\n",
              "344 2020-12-31  3250.2099  11064.2965    204  1501755.0  17346.0  4.214029e+09\n",
              "\n",
              "[345 rows x 7 columns]"
            ],
            "text/html": [
              "\n",
              "  <div id=\"df-d08b2011-50da-4de5-b16f-d06c0a3b6ce9\">\n",
              "    <div class=\"colab-df-container\">\n",
              "      <div>\n",
              "<style scoped>\n",
              "    .dataframe tbody tr th:only-of-type {\n",
              "        vertical-align: middle;\n",
              "    }\n",
              "\n",
              "    .dataframe tbody tr th {\n",
              "        vertical-align: top;\n",
              "    }\n",
              "\n",
              "    .dataframe thead th {\n",
              "        text-align: right;\n",
              "    }\n",
              "</style>\n",
              "<table border=\"1\" class=\"dataframe\">\n",
              "  <thead>\n",
              "    <tr style=\"text-align: right;\">\n",
              "      <th></th>\n",
              "      <th>date</th>\n",
              "      <th>lat</th>\n",
              "      <th>long</th>\n",
              "      <th>cases</th>\n",
              "      <th>uid</th>\n",
              "      <th>code3</th>\n",
              "      <th>population</th>\n",
              "    </tr>\n",
              "  </thead>\n",
              "  <tbody>\n",
              "    <tr>\n",
              "      <th>0</th>\n",
              "      <td>2020-01-22</td>\n",
              "      <td>3250.2099</td>\n",
              "      <td>11064.2965</td>\n",
              "      <td>593</td>\n",
              "      <td>1501755.0</td>\n",
              "      <td>17346.0</td>\n",
              "      <td>4.214029e+09</td>\n",
              "    </tr>\n",
              "    <tr>\n",
              "      <th>1</th>\n",
              "      <td>2020-01-23</td>\n",
              "      <td>3250.2099</td>\n",
              "      <td>11064.2965</td>\n",
              "      <td>98</td>\n",
              "      <td>1501755.0</td>\n",
              "      <td>17346.0</td>\n",
              "      <td>4.214029e+09</td>\n",
              "    </tr>\n",
              "    <tr>\n",
              "      <th>2</th>\n",
              "      <td>2020-01-24</td>\n",
              "      <td>3250.2099</td>\n",
              "      <td>11064.2965</td>\n",
              "      <td>291</td>\n",
              "      <td>1501755.0</td>\n",
              "      <td>17346.0</td>\n",
              "      <td>4.214029e+09</td>\n",
              "    </tr>\n",
              "    <tr>\n",
              "      <th>3</th>\n",
              "      <td>2020-01-25</td>\n",
              "      <td>3250.2099</td>\n",
              "      <td>11064.2965</td>\n",
              "      <td>505</td>\n",
              "      <td>1501755.0</td>\n",
              "      <td>17346.0</td>\n",
              "      <td>4.214029e+09</td>\n",
              "    </tr>\n",
              "    <tr>\n",
              "      <th>4</th>\n",
              "      <td>2020-01-26</td>\n",
              "      <td>3250.2099</td>\n",
              "      <td>11064.2965</td>\n",
              "      <td>693</td>\n",
              "      <td>1501755.0</td>\n",
              "      <td>17346.0</td>\n",
              "      <td>4.214029e+09</td>\n",
              "    </tr>\n",
              "    <tr>\n",
              "      <th>...</th>\n",
              "      <td>...</td>\n",
              "      <td>...</td>\n",
              "      <td>...</td>\n",
              "      <td>...</td>\n",
              "      <td>...</td>\n",
              "      <td>...</td>\n",
              "      <td>...</td>\n",
              "    </tr>\n",
              "    <tr>\n",
              "      <th>340</th>\n",
              "      <td>2020-12-27</td>\n",
              "      <td>3250.2099</td>\n",
              "      <td>11064.2965</td>\n",
              "      <td>201</td>\n",
              "      <td>1501755.0</td>\n",
              "      <td>17346.0</td>\n",
              "      <td>4.214029e+09</td>\n",
              "    </tr>\n",
              "    <tr>\n",
              "      <th>341</th>\n",
              "      <td>2020-12-28</td>\n",
              "      <td>3250.2099</td>\n",
              "      <td>11064.2965</td>\n",
              "      <td>176</td>\n",
              "      <td>1501755.0</td>\n",
              "      <td>17346.0</td>\n",
              "      <td>4.214029e+09</td>\n",
              "    </tr>\n",
              "    <tr>\n",
              "      <th>342</th>\n",
              "      <td>2020-12-29</td>\n",
              "      <td>3250.2099</td>\n",
              "      <td>11064.2965</td>\n",
              "      <td>194</td>\n",
              "      <td>1501755.0</td>\n",
              "      <td>17346.0</td>\n",
              "      <td>4.214029e+09</td>\n",
              "    </tr>\n",
              "    <tr>\n",
              "      <th>343</th>\n",
              "      <td>2020-12-30</td>\n",
              "      <td>3250.2099</td>\n",
              "      <td>11064.2965</td>\n",
              "      <td>211</td>\n",
              "      <td>1501755.0</td>\n",
              "      <td>17346.0</td>\n",
              "      <td>4.214029e+09</td>\n",
              "    </tr>\n",
              "    <tr>\n",
              "      <th>344</th>\n",
              "      <td>2020-12-31</td>\n",
              "      <td>3250.2099</td>\n",
              "      <td>11064.2965</td>\n",
              "      <td>204</td>\n",
              "      <td>1501755.0</td>\n",
              "      <td>17346.0</td>\n",
              "      <td>4.214029e+09</td>\n",
              "    </tr>\n",
              "  </tbody>\n",
              "</table>\n",
              "<p>345 rows × 7 columns</p>\n",
              "</div>\n",
              "      <button class=\"colab-df-convert\" onclick=\"convertToInteractive('df-d08b2011-50da-4de5-b16f-d06c0a3b6ce9')\"\n",
              "              title=\"Convert this dataframe to an interactive table.\"\n",
              "              style=\"display:none;\">\n",
              "        \n",
              "  <svg xmlns=\"http://www.w3.org/2000/svg\" height=\"24px\"viewBox=\"0 0 24 24\"\n",
              "       width=\"24px\">\n",
              "    <path d=\"M0 0h24v24H0V0z\" fill=\"none\"/>\n",
              "    <path d=\"M18.56 5.44l.94 2.06.94-2.06 2.06-.94-2.06-.94-.94-2.06-.94 2.06-2.06.94zm-11 1L8.5 8.5l.94-2.06 2.06-.94-2.06-.94L8.5 2.5l-.94 2.06-2.06.94zm10 10l.94 2.06.94-2.06 2.06-.94-2.06-.94-.94-2.06-.94 2.06-2.06.94z\"/><path d=\"M17.41 7.96l-1.37-1.37c-.4-.4-.92-.59-1.43-.59-.52 0-1.04.2-1.43.59L10.3 9.45l-7.72 7.72c-.78.78-.78 2.05 0 2.83L4 21.41c.39.39.9.59 1.41.59.51 0 1.02-.2 1.41-.59l7.78-7.78 2.81-2.81c.8-.78.8-2.07 0-2.86zM5.41 20L4 18.59l7.72-7.72 1.47 1.35L5.41 20z\"/>\n",
              "  </svg>\n",
              "      </button>\n",
              "      \n",
              "  <style>\n",
              "    .colab-df-container {\n",
              "      display:flex;\n",
              "      flex-wrap:wrap;\n",
              "      gap: 12px;\n",
              "    }\n",
              "\n",
              "    .colab-df-convert {\n",
              "      background-color: #E8F0FE;\n",
              "      border: none;\n",
              "      border-radius: 50%;\n",
              "      cursor: pointer;\n",
              "      display: none;\n",
              "      fill: #1967D2;\n",
              "      height: 32px;\n",
              "      padding: 0 0 0 0;\n",
              "      width: 32px;\n",
              "    }\n",
              "\n",
              "    .colab-df-convert:hover {\n",
              "      background-color: #E2EBFA;\n",
              "      box-shadow: 0px 1px 2px rgba(60, 64, 67, 0.3), 0px 1px 3px 1px rgba(60, 64, 67, 0.15);\n",
              "      fill: #174EA6;\n",
              "    }\n",
              "\n",
              "    [theme=dark] .colab-df-convert {\n",
              "      background-color: #3B4455;\n",
              "      fill: #D2E3FC;\n",
              "    }\n",
              "\n",
              "    [theme=dark] .colab-df-convert:hover {\n",
              "      background-color: #434B5C;\n",
              "      box-shadow: 0px 1px 3px 1px rgba(0, 0, 0, 0.15);\n",
              "      filter: drop-shadow(0px 1px 2px rgba(0, 0, 0, 0.3));\n",
              "      fill: #FFFFFF;\n",
              "    }\n",
              "  </style>\n",
              "\n",
              "      <script>\n",
              "        const buttonEl =\n",
              "          document.querySelector('#df-d08b2011-50da-4de5-b16f-d06c0a3b6ce9 button.colab-df-convert');\n",
              "        buttonEl.style.display =\n",
              "          google.colab.kernel.accessAllowed ? 'block' : 'none';\n",
              "\n",
              "        async function convertToInteractive(key) {\n",
              "          const element = document.querySelector('#df-d08b2011-50da-4de5-b16f-d06c0a3b6ce9');\n",
              "          const dataTable =\n",
              "            await google.colab.kernel.invokeFunction('convertToInteractive',\n",
              "                                                     [key], {});\n",
              "          if (!dataTable) return;\n",
              "\n",
              "          const docLinkHtml = 'Like what you see? Visit the ' +\n",
              "            '<a target=\"_blank\" href=https://colab.research.google.com/notebooks/data_table.ipynb>data table notebook</a>'\n",
              "            + ' to learn more about interactive tables.';\n",
              "          element.innerHTML = '';\n",
              "          dataTable['output_type'] = 'display_data';\n",
              "          await google.colab.output.renderOutput(dataTable, element);\n",
              "          const docLink = document.createElement('div');\n",
              "          docLink.innerHTML = docLinkHtml;\n",
              "          element.appendChild(docLink);\n",
              "        }\n",
              "      </script>\n",
              "    </div>\n",
              "  </div>\n",
              "  "
            ]
          },
          "metadata": {},
          "execution_count": 8
        }
      ]
    },
    {
      "cell_type": "code",
      "source": [
        "plt.plot(df2chinaD.date,df2chinaD.cases,label=\"china\")\n",
        "plt.title(\"casos de covid 2020\")\n",
        "plt.xlabel(\"fecha\")\n",
        "plt.ylabel(\"casos\")\n",
        "plt.legend()\n",
        "plt.show()"
      ],
      "metadata": {
        "colab": {
          "base_uri": "https://localhost:8080/",
          "height": 472
        },
        "id": "-Xmq0K4O9gHE",
        "outputId": "0d4d2a5d-10ca-42e9-b233-57608643302b"
      },
      "execution_count": null,
      "outputs": [
        {
          "output_type": "display_data",
          "data": {
            "text/plain": [
              "<Figure size 640x480 with 1 Axes>"
            ],
            "image/png": "[encoded data removed]"
          },
          "metadata": {}
        }
      ]
    },
    {
      "cell_type": "code",
      "source": [
        "df2chinaD = df2chinaD.loc[(df2chinaD.date>=\"2020-01-01\") & (df2chinaD.date<=\"2020-03-31\")]\n",
        "df2chinaD[\"AcumCases\"] = df2chinaD.cases.cumsum()\n",
        "plt.plot(df2chinaD.date,df2chinaD.AcumCases,label=\"china\")\n",
        "plt.title(\"casos de covid 2020\")\n",
        "plt.xlabel(\"fecha\")\n",
        "plt.ylabel(\"casos\")\n",
        "plt.legend()\n",
        "plt.show()"
      ],
      "metadata": {
        "colab": {
          "base_uri": "https://localhost:8080/",
          "height": 576
        },
        "id": "zxf4QZQl-YLi",
        "outputId": "13dacff9-a232-4a58-84f8-e869bb8a43ea"
      },
      "execution_count": null,
      "outputs": [
        {
          "output_type": "stream",
          "name": "stderr",
          "text": [
            "<ipython-input-10-5c62e999bbbb>:2: SettingWithCopyWarning: \n",
            "A value is trying to be set on a copy of a slice from a DataFrame.\n",
            "Try using .loc[row_indexer,col_indexer] = value instead\n",
            "\n",
            "See the caveats in the documentation: https://pandas.pydata.org/pandas-docs/stable/user_guide/indexing.html#returning-a-view-versus-a-copy\n",
            "  df2chinaD[\"AcumCases\"] = df2chinaD.cases.cumsum()\n"
          ]
        },
        {
          "output_type": "display_data",
          "data": {
            "text/plain": [
              "<Figure size 640x480 with 1 Axes>"
            ],
            "image/png": "[encoded data removed]"
          },
          "metadata": {}
        }
      ]
    },
    {
      "cell_type": "code",
      "source": [
        "df2_chile = df2[\"country\"]==\"Chile\"\n",
        "df2_chile = df2.loc[df2_chile]\n",
        "df2chileD = df2_china.groupby(pd.Grouper(key=\"date\", axis=0, freq=\"D\")).sum()\n",
        "df2chinaD.reset_index(inplace=True)\n",
        "df2chileD"
      ],
      "metadata": {
        "id": "KiN71Tsb_-PZ",
        "colab": {
          "base_uri": "https://localhost:8080/",
          "height": 455
        },
        "outputId": "c318db93-0c3f-409c-b3d2-c31e8671d476"
      },
      "execution_count": null,
      "outputs": [
        {
          "output_type": "execute_result",
          "data": {
            "text/plain": [
              "                  lat        long  cases        uid    code3    population\n",
              "date                                                                      \n",
              "2020-01-22  3250.2099  11064.2965    593  1501755.0  17346.0  4.214029e+09\n",
              "2020-01-23  3250.2099  11064.2965     98  1501755.0  17346.0  4.214029e+09\n",
              "2020-01-24  3250.2099  11064.2965    291  1501755.0  17346.0  4.214029e+09\n",
              "2020-01-25  3250.2099  11064.2965    505  1501755.0  17346.0  4.214029e+09\n",
              "2020-01-26  3250.2099  11064.2965    693  1501755.0  17346.0  4.214029e+09\n",
              "...               ...         ...    ...        ...      ...           ...\n",
              "2020-12-27  3250.2099  11064.2965    201  1501755.0  17346.0  4.214029e+09\n",
              "2020-12-28  3250.2099  11064.2965    176  1501755.0  17346.0  4.214029e+09\n",
              "2020-12-29  3250.2099  11064.2965    194  1501755.0  17346.0  4.214029e+09\n",
              "2020-12-30  3250.2099  11064.2965    211  1501755.0  17346.0  4.214029e+09\n",
              "2020-12-31  3250.2099  11064.2965    204  1501755.0  17346.0  4.214029e+09\n",
              "\n",
              "[345 rows x 6 columns]"
            ],
            "text/html": [
              "\n",
              "  <div id=\"df-99634515-cfb4-4be2-b505-fb6db409801f\">\n",
              "    <div class=\"colab-df-container\">\n",
              "      <div>\n",
              "<style scoped>\n",
              "    .dataframe tbody tr th:only-of-type {\n",
              "        vertical-align: middle;\n",
              "    }\n",
              "\n",
              "    .dataframe tbody tr th {\n",
              "        vertical-align: top;\n",
              "    }\n",
              "\n",
              "    .dataframe thead th {\n",
              "        text-align: right;\n",
              "    }\n",
              "</style>\n",
              "<table border=\"1\" class=\"dataframe\">\n",
              "  <thead>\n",
              "    <tr style=\"text-align: right;\">\n",
              "      <th></th>\n",
              "      <th>lat</th>\n",
              "      <th>long</th>\n",
              "      <th>cases</th>\n",
              "      <th>uid</th>\n",
              "      <th>code3</th>\n",
              "      <th>population</th>\n",
              "    </tr>\n",
              "    <tr>\n",
              "      <th>date</th>\n",
              "      <th></th>\n",
              "      <th></th>\n",
              "      <th></th>\n",
              "      <th></th>\n",
              "      <th></th>\n",
              "      <th></th>\n",
              "    </tr>\n",
              "  </thead>\n",
              "  <tbody>\n",
              "    <tr>\n",
              "      <th>2020-01-22</th>\n",
              "      <td>3250.2099</td>\n",
              "      <td>11064.2965</td>\n",
              "      <td>593</td>\n",
              "      <td>1501755.0</td>\n",
              "      <td>17346.0</td>\n",
              "      <td>4.214029e+09</td>\n",
              "    </tr>\n",
              "    <tr>\n",
              "      <th>2020-01-23</th>\n",
              "      <td>3250.2099</td>\n",
              "      <td>11064.2965</td>\n",
              "      <td>98</td>\n",
              "      <td>1501755.0</td>\n",
              "      <td>17346.0</td>\n",
              "      <td>4.214029e+09</td>\n",
              "    </tr>\n",
              "    <tr>\n",
              "      <th>2020-01-24</th>\n",
              "      <td>3250.2099</td>\n",
              "      <td>11064.2965</td>\n",
              "      <td>291</td>\n",
              "      <td>1501755.0</td>\n",
              "      <td>17346.0</td>\n",
              "      <td>4.214029e+09</td>\n",
              "    </tr>\n",
              "    <tr>\n",
              "      <th>2020-01-25</th>\n",
              "      <td>3250.2099</td>\n",
              "      <td>11064.2965</td>\n",
              "      <td>505</td>\n",
              "      <td>1501755.0</td>\n",
              "      <td>17346.0</td>\n",
              "      <td>4.214029e+09</td>\n",
              "    </tr>\n",
              "    <tr>\n",
              "      <th>2020-01-26</th>\n",
              "      <td>3250.2099</td>\n",
              "      <td>11064.2965</td>\n",
              "      <td>693</td>\n",
              "      <td>1501755.0</td>\n",
              "      <td>17346.0</td>\n",
              "      <td>4.214029e+09</td>\n",
              "    </tr>\n",
              "    <tr>\n",
              "      <th>...</th>\n",
              "      <td>...</td>\n",
              "      <td>...</td>\n",
              "      <td>...</td>\n",
              "      <td>...</td>\n",
              "      <td>...</td>\n",
              "      <td>...</td>\n",
              "    </tr>\n",
              "    <tr>\n",
              "      <th>2020-12-27</th>\n",
              "      <td>3250.2099</td>\n",
              "      <td>11064.2965</td>\n",
              "      <td>201</td>\n",
              "      <td>1501755.0</td>\n",
              "      <td>17346.0</td>\n",
              "      <td>4.214029e+09</td>\n",
              "    </tr>\n",
              "    <tr>\n",
              "      <th>2020-12-28</th>\n",
              "      <td>3250.2099</td>\n",
              "      <td>11064.2965</td>\n",
              "      <td>176</td>\n",
              "      <td>1501755.0</td>\n",
              "      <td>17346.0</td>\n",
              "      <td>4.214029e+09</td>\n",
              "    </tr>\n",
              "    <tr>\n",
              "      <th>2020-12-29</th>\n",
              "      <td>3250.2099</td>\n",
              "      <td>11064.2965</td>\n",
              "      <td>194</td>\n",
              "      <td>1501755.0</td>\n",
              "      <td>17346.0</td>\n",
              "      <td>4.214029e+09</td>\n",
              "    </tr>\n",
              "    <tr>\n",
              "      <th>2020-12-30</th>\n",
              "      <td>3250.2099</td>\n",
              "      <td>11064.2965</td>\n",
              "      <td>211</td>\n",
              "      <td>1501755.0</td>\n",
              "      <td>17346.0</td>\n",
              "      <td>4.214029e+09</td>\n",
              "    </tr>\n",
              "    <tr>\n",
              "      <th>2020-12-31</th>\n",
              "      <td>3250.2099</td>\n",
              "      <td>11064.2965</td>\n",
              "      <td>204</td>\n",
              "      <td>1501755.0</td>\n",
              "      <td>17346.0</td>\n",
              "      <td>4.214029e+09</td>\n",
              "    </tr>\n",
              "  </tbody>\n",
              "</table>\n",
              "<p>345 rows × 6 columns</p>\n",
              "</div>\n",
              "      <button class=\"colab-df-convert\" onclick=\"convertToInteractive('df-99634515-cfb4-4be2-b505-fb6db409801f')\"\n",
              "              title=\"Convert this dataframe to an interactive table.\"\n",
              "              style=\"display:none;\">\n",
              "        \n",
              "  <svg xmlns=\"http://www.w3.org/2000/svg\" height=\"24px\"viewBox=\"0 0 24 24\"\n",
              "       width=\"24px\">\n",
              "    <path d=\"M0 0h24v24H0V0z\" fill=\"none\"/>\n",
              "    <path d=\"M18.56 5.44l.94 2.06.94-2.06 2.06-.94-2.06-.94-.94-2.06-.94 2.06-2.06.94zm-11 1L8.5 8.5l.94-2.06 2.06-.94-2.06-.94L8.5 2.5l-.94 2.06-2.06.94zm10 10l.94 2.06.94-2.06 2.06-.94-2.06-.94-.94-2.06-.94 2.06-2.06.94z\"/><path d=\"M17.41 7.96l-1.37-1.37c-.4-.4-.92-.59-1.43-.59-.52 0-1.04.2-1.43.59L10.3 9.45l-7.72 7.72c-.78.78-.78 2.05 0 2.83L4 21.41c.39.39.9.59 1.41.59.51 0 1.02-.2 1.41-.59l7.78-7.78 2.81-2.81c.8-.78.8-2.07 0-2.86zM5.41 20L4 18.59l7.72-7.72 1.47 1.35L5.41 20z\"/>\n",
              "  </svg>\n",
              "      </button>\n",
              "      \n",
              "  <style>\n",
              "    .colab-df-container {\n",
              "      display:flex;\n",
              "      flex-wrap:wrap;\n",
              "      gap: 12px;\n",
              "    }\n",
              "\n",
              "    .colab-df-convert {\n",
              "      background-color: #E8F0FE;\n",
              "      border: none;\n",
              "      border-radius: 50%;\n",
              "      cursor: pointer;\n",
              "      display: none;\n",
              "      fill: #1967D2;\n",
              "      height: 32px;\n",
              "      padding: 0 0 0 0;\n",
              "      width: 32px;\n",
              "    }\n",
              "\n",
              "    .colab-df-convert:hover {\n",
              "      background-color: #E2EBFA;\n",
              "      box-shadow: 0px 1px 2px rgba(60, 64, 67, 0.3), 0px 1px 3px 1px rgba(60, 64, 67, 0.15);\n",
              "      fill: #174EA6;\n",
              "    }\n",
              "\n",
              "    [theme=dark] .colab-df-convert {\n",
              "      background-color: #3B4455;\n",
              "      fill: #D2E3FC;\n",
              "    }\n",
              "\n",
              "    [theme=dark] .colab-df-convert:hover {\n",
              "      background-color: #434B5C;\n",
              "      box-shadow: 0px 1px 3px 1px rgba(0, 0, 0, 0.15);\n",
              "      filter: drop-shadow(0px 1px 2px rgba(0, 0, 0, 0.3));\n",
              "      fill: #FFFFFF;\n",
              "    }\n",
              "  </style>\n",
              "\n",
              "      <script>\n",
              "        const buttonEl =\n",
              "          document.querySelector('#df-99634515-cfb4-4be2-b505-fb6db409801f button.colab-df-convert');\n",
              "        buttonEl.style.display =\n",
              "          google.colab.kernel.accessAllowed ? 'block' : 'none';\n",
              "\n",
              "        async function convertToInteractive(key) {\n",
              "          const element = document.querySelector('#df-99634515-cfb4-4be2-b505-fb6db409801f');\n",
              "          const dataTable =\n",
              "            await google.colab.kernel.invokeFunction('convertToInteractive',\n",
              "                                                     [key], {});\n",
              "          if (!dataTable) return;\n",
              "\n",
              "          const docLinkHtml = 'Like what you see? Visit the ' +\n",
              "            '<a target=\"_blank\" href=https://colab.research.google.com/notebooks/data_table.ipynb>data table notebook</a>'\n",
              "            + ' to learn more about interactive tables.';\n",
              "          element.innerHTML = '';\n",
              "          dataTable['output_type'] = 'display_data';\n",
              "          await google.colab.output.renderOutput(dataTable, element);\n",
              "          const docLink = document.createElement('div');\n",
              "          docLink.innerHTML = docLinkHtml;\n",
              "          element.appendChild(docLink);\n",
              "        }\n",
              "      </script>\n",
              "    </div>\n",
              "  </div>\n",
              "  "
            ]
          },
          "metadata": {},
          "execution_count": 11
        }
      ]
    },
    {
      "cell_type": "code",
      "source": [
        "dff = pd.read_csv(ruta,parse_dates=[\"date\"],index_col=\"date\") # otra forma  \n",
        "dff_other = dff[\"country\"] != \"China\"\n",
        "dff_other = dff.loc[dff_other]\n",
        "dff_other = dff_other.groupby(\"date\").sum()\n",
        "dff_other = dff_other[\"2020-01-01\" : \"2020-03-31\"]\n",
        "dff_other.acumCases = dff_other.cases.cumsum()\n",
        "fig,ax = plt.subplots()\n",
        "ax.plot(dff_other.index,dff_other.acumCases,label=\"otro\")\n",
        "ax.plot(df2chinaD.date, df2chinaD.AcumCases,label=\"china\")\n",
        "plt.xlabel(\"fecha\")\n",
        "plt.ylabel(\"casos\")\n",
        "plt.ylim(0,200000)\n",
        "plt.title(\"casos de covid 2020\")\n",
        "plt.legend()"
      ],
      "metadata": {
        "colab": {
          "base_uri": "https://localhost:8080/",
          "height": 579
        },
        "id": "AfMJAmJqTO3d",
        "outputId": "5e02600e-b4a7-4a18-c4c6-b0fb7a34ff46"
      },
      "execution_count": null,
      "outputs": [
        {
          "output_type": "stream",
          "name": "stderr",
          "text": [
            "<ipython-input-13-039be35de86a>:1: DtypeWarning: Columns (1) have mixed types. Specify dtype option on import or set low_memory=False.\n",
            "  dff = pd.read_csv(ruta,parse_dates=[\"date\"],index_col=\"date\") # otra forma\n",
            "<ipython-input-13-039be35de86a>:6: UserWarning: Pandas doesn't allow columns to be created via a new attribute name - see https://pandas.pydata.org/pandas-docs/stable/indexing.html#attribute-access\n",
            "  dff_other.acumCases = dff_other.cases.cumsum()\n"
          ]
        },
        {
          "output_type": "execute_result",
          "data": {
            "text/plain": [
              "<matplotlib.legend.Legend at 0x7fc1243478b0>"
            ]
          },
          "metadata": {},
          "execution_count": 13
        },
        {
          "output_type": "display_data",
          "data": {
            "text/plain": [
              "<Figure size 640x480 with 1 Axes>"
            ],
            "image/png": "[encoded data removed]"
          },
          "metadata": {}
        }
      ]
    },
    {
      "cell_type": "markdown",
      "source": [
        "una forma de graficar bien los datos "
      ],
      "metadata": {
        "id": "VQH1iWFw3Iw4"
      }
    },
    {
      "cell_type": "code",
      "source": [
        "df3=pd.read_csv(\"Medal-Country.csv\",index_col=0)\n",
        "fig, ax=plt.subplots()\n",
        "ax.bar(df3.index,df3.Gold, label=\"Gold\")\n",
        "ax.bar(df3.index,df3.Silver,bottom=df3.Gold, label=\"Silver\")\n",
        "ax.bar(df3.index,df3.Bronze,bottom=df3.Gold+df3.Silver, label=\"Bronze\")\n",
        "\n",
        "ax.set_xticklabels(df3.index,rotation=90)\n",
        "ax.set_ylabel(\"Numero de Medallas\")\n",
        "ax.set_xlabel(\"Paises\")\n",
        "ax.legend()\n",
        "plt.show()"
      ],
      "metadata": {
        "id": "BCtIElqWUY0w",
        "colab": {
          "base_uri": "https://localhost:8080/",
          "height": 564
        },
        "outputId": "d3da98d5-44be-4f53-85e5-eb932bd78349"
      },
      "execution_count": null,
      "outputs": [
        {
          "output_type": "stream",
          "name": "stderr",
          "text": [
            "<ipython-input-15-00ac8e3767a0>:7: UserWarning: FixedFormatter should only be used together with FixedLocator\n",
            "  ax.set_xticklabels(df3.index,rotation=90)\n"
          ]
        },
        {
          "output_type": "display_data",
          "data": {
            "text/plain": [
              "<Figure size 640x480 with 1 Axes>"
            ],
            "image/png": "[encoded data removed]"
          },
          "metadata": {}
        }
      ]
    },
    {
      "cell_type": "markdown",
      "source": [
        "Trabaje con los datos de covid. Grafique y compare los conatagios acumulados de chile vs alemania entre el 1 de enero y 1 de mayo \n",
        "\n",
        "- diferencia por colores y formas ambos graficos\n",
        "\n",
        "- demuestre si china tiene una tendencia logaritmico "
      ],
      "metadata": {
        "id": "sbbOZ7yCzgGq"
      }
    },
    {
      "cell_type": "code",
      "source": [
        "ruta = '/content/drive/MyDrive/coronavirus_2020.csv'\n",
        "df2 = pd.read_csv(ruta)"
      ],
      "metadata": {
        "colab": {
          "base_uri": "https://localhost:8080/"
        },
        "id": "iNi6clai2nJH",
        "outputId": "2841012e-e7fa-444a-a71e-4dbbe7277669"
      },
      "execution_count": null,
      "outputs": [
        {
          "output_type": "stream",
          "name": "stderr",
          "text": [
            "<ipython-input-27-17ee2e28544a>:2: DtypeWarning: Columns (1) have mixed types. Specify dtype option on import or set low_memory=False.\n",
            "  df2 = pd.read_csv(ruta)\n"
          ]
        }
      ]
    },
    {
      "cell_type": "code",
      "source": [
        "df2"
      ],
      "metadata": {
        "id": "21sRBk194bp8"
      },
      "execution_count": null,
      "outputs": []
    },
    {
      "cell_type": "code",
      "source": [
        "df2.date=pd.to_datetime(df2.date,format=\"%Y-%m-%d\")\n",
        "df2.info()"
      ],
      "metadata": {
        "id": "zQAK_t-521zr"
      },
      "execution_count": null,
      "outputs": []
    },
    {
      "cell_type": "code",
      "source": [
        "df2_china = df2[\"country\"]==\"China\"\n",
        "df2_china = df2.loc[df2_china]\n",
        "df2chinaD = df2_china.groupby(pd.Grouper(key=\"date\", axis=0, freq=\"D\")).sum()\n",
        "df2chinaD.reset_index(inplace=True)\n",
        "df2chinaD = df2chinaD.loc[(df2chinaD.date>=\"2020-01-01\") & (df2chinaD.date<=\"2020-05-01\")]\n",
        "df2chinaD[\"AcumCases\"] = df2chinaD.cases.cumsum()\n"
      ],
      "metadata": {
        "id": "gzQsNS582CNU"
      },
      "execution_count": null,
      "outputs": []
    },
    {
      "cell_type": "code",
      "source": [
        "df2_alemania = df2[\"country\"]==\"Germany\"\n",
        "df2_alemania = df2.loc[df2_alemania]\n",
        "df2_alemania = df2_alemania.groupby(pd.Grouper(key=\"date\", axis=0, freq=\"D\")).sum()\n",
        "df2_alemania.reset_index(inplace=True)\n",
        "df2_alemania=df2_alemania.loc[(df2_alemania.date>=\"2020-01-01\") & (df2_alemania.date<=\"2020-05-01\")]\n",
        "df2_alemania[\"AcumCases\"]=df2_alemania.cases.cumsum()\n"
      ],
      "metadata": {
        "id": "Hck_gpIv34Zm"
      },
      "execution_count": null,
      "outputs": []
    },
    {
      "cell_type": "code",
      "source": [
        "plt.plot(df2_alemania.date,df2_alemania.AcumCases,label=\"alemania\")\n",
        "plt.plot(df2chinaD.date,df2chinaD.AcumCases,label=\"china\")\n",
        "\n",
        "plt.xlabel(\"fecha\")\n",
        "plt.ylabel(\"contagios\")\n",
        "plt.legend()"
      ],
      "metadata": {
        "colab": {
          "base_uri": "https://localhost:8080/",
          "height": 466
        },
        "id": "AcsCsXmS4Yh8",
        "outputId": "4f245c2c-a6bc-4a50-8a2b-dcc55ba51c3c"
      },
      "execution_count": null,
      "outputs": [
        {
          "output_type": "execute_result",
          "data": {
            "text/plain": [
              "<matplotlib.legend.Legend at 0x7facc53082e0>"
            ]
          },
          "metadata": {},
          "execution_count": 45
        },
        {
          "output_type": "display_data",
          "data": {
            "text/plain": [
              "<Figure size 640x480 with 1 Axes>"
            ],
            "image/png": "[encoded data removed]"
          },
          "metadata": {}
        }
      ]
    },
    {
      "cell_type": "code",
      "source": [
        "df2_alemania[\"acumLogCases\"] = np.log(df2_alemania.AcumCases)\n",
        "df2chinaD[\"acumLogCases\"] = np.log(df2chinaD.AcumCases)\n"
      ],
      "metadata": {
        "colab": {
          "base_uri": "https://localhost:8080/",
          "height": 189
        },
        "id": "hZeniMCK7GaL",
        "outputId": "af2d3cbd-c40b-48d5-a006-1d46c458e591"
      },
      "execution_count": null,
      "outputs": [
        {
          "output_type": "stream",
          "name": "stderr",
          "text": [
            "/usr/local/lib/python3.9/dist-packages/pandas/core/arraylike.py:397: RuntimeWarning: divide by zero encountered in log\n",
            "  result = getattr(ufunc, method)(*inputs, **kwargs)\n"
          ]
        },
        {
          "output_type": "execute_result",
          "data": {
            "text/plain": [
              "[<matplotlib.lines.Line2D at 0x7facc4b8a220>]"
            ]
          },
          "metadata": {},
          "execution_count": 51
        },
        {
          "output_type": "display_data",
          "data": {
            "text/plain": [
              "<Figure size 400x100 with 1 Axes>"
            ],
            "image/png": "[encoded data removed]"
          },
          "metadata": {}
        }
      ]
    },
    {
      "cell_type": "code",
      "source": [
        "plt.hist"
      ],
      "metadata": {
        "id": "94mFMOdU-mCs"
      },
      "execution_count": null,
      "outputs": []
    }
  ]
}