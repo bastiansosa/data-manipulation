{
  "nbformat": 4,
  "nbformat_minor": 5,
  "metadata": {
    "kernelspec": {
      "display_name": "Python 3",
      "language": "python",
      "name": "python3"
    },
    "language_info": {
      "codemirror_mode": {
        "name": "ipython",
        "version": 3
      },
      "file_extension": ".py",
      "mimetype": "text/x-python",
      "name": "python",
      "nbconvert_exporter": "python",
      "pygments_lexer": "ipython3",
      "version": "3.8.5"
    },
    "colab": {
      "provenance": [],
      "include_colab_link": true
    }
  },
  "cells": [
    {
      "cell_type": "markdown",
      "metadata": {
        "id": "view-in-github",
        "colab_type": "text"
      },
      "source": [
        "<a href=\"https://colab.research.google.com/github/bastiansosa/data-visualization/blob/main/PreProcesamiento.ipynb\" target=\"_parent\"><img src=\"https://colab.research.google.com/assets/colab-badge.svg\" alt=\"Open In Colab\"/></a>"
      ]
    },
    {
      "cell_type": "markdown",
      "metadata": {
        "id": "ae8b1fe8-ba2b-4f19-a5c0-c06e0fc41f5b"
      },
      "source": [
        "# Pre Procesamiento de datos"
      ],
      "id": "ae8b1fe8-ba2b-4f19-a5c0-c06e0fc41f5b"
    },
    {
      "cell_type": "markdown",
      "metadata": {
        "id": "51c3c229-133c-4a02-8564-8198edd8f33d"
      },
      "source": [
        "Este Notebook contiene algunos ejemplos mediante código de algunas técnicas de pre proccesamiento  con Pandas"
      ],
      "id": "51c3c229-133c-4a02-8564-8198edd8f33d"
    },
    {
      "cell_type": "code",
      "metadata": {
        "colab": {
          "base_uri": "https://localhost:8080/",
          "height": 297
        },
        "id": "c78706e7-a208-4d08-b1dc-777f39279584",
        "outputId": "78b9921e-cc04-413c-c7c6-5ac469d5a061"
      },
      "source": [
        "import numpy as np\n",
        "import pandas as pd\n",
        "from sklearn.model_selection import train_test_split\n",
        "from sklearn.metrics import mean_squared_error, r2_score\n",
        "from sklearn import linear_model\n",
        "import matplotlib.pyplot as plt\n",
        "import pylab as pl\n",
        "from pandas import ExcelWriter\n",
        "from pandas import ExcelFile\n",
        "import scipy.optimize as opt\n",
        "from sklearn import preprocessing\n",
        "%matplotlib inline \n",
        "import os\n",
        "\n",
        "#Primero se cargan los datos desde un excel\n",
        "df = pd.read_excel('prototiposSoloID1.xlsx')\n",
        "df.describe()"
      ],
      "id": "c78706e7-a208-4d08-b1dc-777f39279584",
      "execution_count": null,
      "outputs": [
        {
          "output_type": "execute_result",
          "data": {
            "text/html": [
              "<div>\n",
              "<style scoped>\n",
              "    .dataframe tbody tr th:only-of-type {\n",
              "        vertical-align: middle;\n",
              "    }\n",
              "\n",
              "    .dataframe tbody tr th {\n",
              "        vertical-align: top;\n",
              "    }\n",
              "\n",
              "    .dataframe thead th {\n",
              "        text-align: right;\n",
              "    }\n",
              "</style>\n",
              "<table border=\"1\" class=\"dataframe\">\n",
              "  <thead>\n",
              "    <tr style=\"text-align: right;\">\n",
              "      <th></th>\n",
              "      <th>UV</th>\n",
              "      <th>TA</th>\n",
              "      <th>HA</th>\n",
              "      <th>V</th>\n",
              "      <th>DV</th>\n",
              "      <th>HS</th>\n",
              "    </tr>\n",
              "  </thead>\n",
              "  <tbody>\n",
              "    <tr>\n",
              "      <th>count</th>\n",
              "      <td>53962.000000</td>\n",
              "      <td>53962.00000</td>\n",
              "      <td>53962.000000</td>\n",
              "      <td>53962.000000</td>\n",
              "      <td>53962.000000</td>\n",
              "      <td>53962.000000</td>\n",
              "    </tr>\n",
              "    <tr>\n",
              "      <th>mean</th>\n",
              "      <td>1.063405</td>\n",
              "      <td>18.57555</td>\n",
              "      <td>68.295156</td>\n",
              "      <td>0.123641</td>\n",
              "      <td>123.828120</td>\n",
              "      <td>31.188040</td>\n",
              "    </tr>\n",
              "    <tr>\n",
              "      <th>std</th>\n",
              "      <td>2.865885</td>\n",
              "      <td>8.34668</td>\n",
              "      <td>23.925741</td>\n",
              "      <td>0.627468</td>\n",
              "      <td>115.963636</td>\n",
              "      <td>8.599704</td>\n",
              "    </tr>\n",
              "    <tr>\n",
              "      <th>min</th>\n",
              "      <td>0.000000</td>\n",
              "      <td>-0.34000</td>\n",
              "      <td>0.000000</td>\n",
              "      <td>0.000000</td>\n",
              "      <td>-1.000000</td>\n",
              "      <td>0.000000</td>\n",
              "    </tr>\n",
              "    <tr>\n",
              "      <th>25%</th>\n",
              "      <td>0.340000</td>\n",
              "      <td>12.11000</td>\n",
              "      <td>46.300000</td>\n",
              "      <td>0.000000</td>\n",
              "      <td>45.000000</td>\n",
              "      <td>26.000000</td>\n",
              "    </tr>\n",
              "    <tr>\n",
              "      <th>50%</th>\n",
              "      <td>0.370000</td>\n",
              "      <td>16.59000</td>\n",
              "      <td>72.320000</td>\n",
              "      <td>0.000000</td>\n",
              "      <td>90.000000</td>\n",
              "      <td>31.000000</td>\n",
              "    </tr>\n",
              "    <tr>\n",
              "      <th>75%</th>\n",
              "      <td>0.410000</td>\n",
              "      <td>25.36000</td>\n",
              "      <td>91.010000</td>\n",
              "      <td>0.000000</td>\n",
              "      <td>225.000000</td>\n",
              "      <td>36.000000</td>\n",
              "    </tr>\n",
              "    <tr>\n",
              "      <th>max</th>\n",
              "      <td>16.530000</td>\n",
              "      <td>38.90000</td>\n",
              "      <td>104.230000</td>\n",
              "      <td>8.900000</td>\n",
              "      <td>338.000000</td>\n",
              "      <td>100.000000</td>\n",
              "    </tr>\n",
              "  </tbody>\n",
              "</table>\n",
              "</div>"
            ],
            "text/plain": [
              "                 UV           TA  ...            DV            HS\n",
              "count  53962.000000  53962.00000  ...  53962.000000  53962.000000\n",
              "mean       1.063405     18.57555  ...    123.828120     31.188040\n",
              "std        2.865885      8.34668  ...    115.963636      8.599704\n",
              "min        0.000000     -0.34000  ...     -1.000000      0.000000\n",
              "25%        0.340000     12.11000  ...     45.000000     26.000000\n",
              "50%        0.370000     16.59000  ...     90.000000     31.000000\n",
              "75%        0.410000     25.36000  ...    225.000000     36.000000\n",
              "max       16.530000     38.90000  ...    338.000000    100.000000\n",
              "\n",
              "[8 rows x 6 columns]"
            ]
          },
          "metadata": {
            "tags": []
          },
          "execution_count": 1
        }
      ]
    },
    {
      "cell_type": "code",
      "metadata": {
        "colab": {
          "base_uri": "https://localhost:8080/"
        },
        "id": "fae3ce1e-87a8-4d16-a81d-fea8ee427fc9",
        "outputId": "304b2b15-eb95-41e1-f54c-340368611d45"
      },
      "source": [
        "#Vamos a observar cuantos datos hay de entrada junto con el tipo de dato\n",
        "#Poner atención que se identificó una columna tipo datetime\n",
        "df.info()"
      ],
      "id": "fae3ce1e-87a8-4d16-a81d-fea8ee427fc9",
      "execution_count": null,
      "outputs": [
        {
          "output_type": "stream",
          "text": [
            "<class 'pandas.core.frame.DataFrame'>\n",
            "RangeIndex: 53962 entries, 0 to 53961\n",
            "Data columns (total 7 columns):\n",
            " #   Column      Non-Null Count  Dtype         \n",
            "---  ------      --------------  -----         \n",
            " 0   created_at  53962 non-null  datetime64[ns]\n",
            " 1   UV          53962 non-null  float64       \n",
            " 2   TA          53962 non-null  float64       \n",
            " 3   HA          53962 non-null  float64       \n",
            " 4   V           53962 non-null  float64       \n",
            " 5   DV          53962 non-null  int64         \n",
            " 6   HS          53962 non-null  int64         \n",
            "dtypes: datetime64[ns](1), float64(4), int64(2)\n",
            "memory usage: 2.9 MB\n"
          ],
          "name": "stdout"
        }
      ]
    },
    {
      "cell_type": "markdown",
      "metadata": {
        "id": "aad6f9b4-bade-4550-8e9b-bbb1fb124566"
      },
      "source": [
        "# Visualización Inicial\n",
        "\n",
        "Primero vamos a plotear alguna de las variables a lo largo del tiempo. En este caso HS es humedad del suelo"
      ],
      "id": "aad6f9b4-bade-4550-8e9b-bbb1fb124566"
    },
    {
      "cell_type": "code",
      "metadata": {
        "colab": {
          "base_uri": "https://localhost:8080/",
          "height": 279
        },
        "id": "1bae0357-7af6-4b15-8d68-e20dc63a717f",
        "outputId": "be41c486-1732-49ee-8c1b-59efe92eda07"
      },
      "source": [
        "\n",
        "import matplotlib.pyplot as plt\n",
        "plt.scatter(df.created_at, df.HS)\n",
        "plt.xlabel(\"Fecha\")\n",
        "plt.ylabel(\"HS\")\n",
        "plt.show()"
      ],
      "id": "1bae0357-7af6-4b15-8d68-e20dc63a717f",
      "execution_count": null,
      "outputs": [
        {
          "output_type": "display_data",
          "data": {
            "image/png": "[encoded data removed]",
            "text/plain": [
              "<Figure size 432x288 with 1 Axes>"
            ]
          },
          "metadata": {
            "tags": [],
            "needs_background": "light"
          }
        }
      ]
    },
    {
      "cell_type": "markdown",
      "metadata": {
        "id": "d62e6b87-b071-4022-af67-1a4b20d68c67"
      },
      "source": [
        "# Agregación\n",
        "La agregación permite tener agrupar elementos por alguna variable. Pandas tiene la versatilidad de groupby para generar crear datos agrupados por alguna función como media (mean) o desviación estándar (std). La nomenclatura es:\n",
        "<ul>\n",
        "    <li>dataframe.groupby(Criterio o columna de agrupamiento).funciondeagrupamient() </li>\n",
        "</ul>\n",
        "En este caso la fecha es un factor de agrupamiento que puede ser utilizado. A continuación se agrupará la fecha por semana y por día.<br>\n",
        "La sentencia <b>df.created_at.dt.isocalendar().week</b> permite extraer por semana las semanas del dato tipo fecha. Idealmente, se debe extraer el criterio de agrupamiento. <br>\n",
        "Por otro lado, <b>df.created_at.dt.day</b> permite extraer cada día presente en la columna created_at."
      ],
      "id": "d62e6b87-b071-4022-af67-1a4b20d68c67"
    },
    {
      "cell_type": "code",
      "metadata": {
        "colab": {
          "base_uri": "https://localhost:8080/",
          "height": 979
        },
        "id": "eef64c6e-14fd-475d-ac70-a1d410e80f9d",
        "outputId": "b6a22011-5542-469e-9bf7-8f6387e42622"
      },
      "source": [
        "#En este caso se obtiene la media por semana de todos los datos.\n",
        "df.groupby(df.created_at.dt.isocalendar().week).mean()"
      ],
      "id": "eef64c6e-14fd-475d-ac70-a1d410e80f9d",
      "execution_count": null,
      "outputs": [
        {
          "output_type": "execute_result",
          "data": {
            "text/html": [
              "<div>\n",
              "<style scoped>\n",
              "    .dataframe tbody tr th:only-of-type {\n",
              "        vertical-align: middle;\n",
              "    }\n",
              "\n",
              "    .dataframe tbody tr th {\n",
              "        vertical-align: top;\n",
              "    }\n",
              "\n",
              "    .dataframe thead th {\n",
              "        text-align: right;\n",
              "    }\n",
              "</style>\n",
              "<table border=\"1\" class=\"dataframe\">\n",
              "  <thead>\n",
              "    <tr style=\"text-align: right;\">\n",
              "      <th></th>\n",
              "      <th>UV</th>\n",
              "      <th>TA</th>\n",
              "      <th>HA</th>\n",
              "      <th>V</th>\n",
              "      <th>DV</th>\n",
              "      <th>HS</th>\n",
              "    </tr>\n",
              "    <tr>\n",
              "      <th>week</th>\n",
              "      <th></th>\n",
              "      <th></th>\n",
              "      <th></th>\n",
              "      <th></th>\n",
              "      <th></th>\n",
              "      <th></th>\n",
              "    </tr>\n",
              "  </thead>\n",
              "  <tbody>\n",
              "    <tr>\n",
              "      <th>1</th>\n",
              "      <td>0.630288</td>\n",
              "      <td>20.032183</td>\n",
              "      <td>71.811838</td>\n",
              "      <td>0.009372</td>\n",
              "      <td>110.065396</td>\n",
              "      <td>31.685376</td>\n",
              "    </tr>\n",
              "    <tr>\n",
              "      <th>2</th>\n",
              "      <td>1.704312</td>\n",
              "      <td>20.883696</td>\n",
              "      <td>62.265411</td>\n",
              "      <td>0.000000</td>\n",
              "      <td>133.186345</td>\n",
              "      <td>29.941992</td>\n",
              "    </tr>\n",
              "    <tr>\n",
              "      <th>3</th>\n",
              "      <td>1.796083</td>\n",
              "      <td>21.916232</td>\n",
              "      <td>65.195303</td>\n",
              "      <td>0.000000</td>\n",
              "      <td>100.559548</td>\n",
              "      <td>28.487680</td>\n",
              "    </tr>\n",
              "    <tr>\n",
              "      <th>4</th>\n",
              "      <td>0.926146</td>\n",
              "      <td>22.371678</td>\n",
              "      <td>71.061398</td>\n",
              "      <td>0.000000</td>\n",
              "      <td>99.803600</td>\n",
              "      <td>27.483854</td>\n",
              "    </tr>\n",
              "    <tr>\n",
              "      <th>5</th>\n",
              "      <td>1.419722</td>\n",
              "      <td>21.934341</td>\n",
              "      <td>71.350191</td>\n",
              "      <td>0.000000</td>\n",
              "      <td>102.383625</td>\n",
              "      <td>26.558702</td>\n",
              "    </tr>\n",
              "    <tr>\n",
              "      <th>6</th>\n",
              "      <td>4.436543</td>\n",
              "      <td>20.747033</td>\n",
              "      <td>61.517719</td>\n",
              "      <td>0.000000</td>\n",
              "      <td>119.381837</td>\n",
              "      <td>23.700722</td>\n",
              "    </tr>\n",
              "    <tr>\n",
              "      <th>7</th>\n",
              "      <td>1.233079</td>\n",
              "      <td>21.130072</td>\n",
              "      <td>66.125175</td>\n",
              "      <td>0.000000</td>\n",
              "      <td>99.468589</td>\n",
              "      <td>21.144696</td>\n",
              "    </tr>\n",
              "    <tr>\n",
              "      <th>8</th>\n",
              "      <td>2.486480</td>\n",
              "      <td>20.150534</td>\n",
              "      <td>68.649080</td>\n",
              "      <td>0.000000</td>\n",
              "      <td>119.241521</td>\n",
              "      <td>19.492806</td>\n",
              "    </tr>\n",
              "    <tr>\n",
              "      <th>9</th>\n",
              "      <td>1.677610</td>\n",
              "      <td>19.636672</td>\n",
              "      <td>73.886738</td>\n",
              "      <td>0.000000</td>\n",
              "      <td>104.411795</td>\n",
              "      <td>19.057949</td>\n",
              "    </tr>\n",
              "    <tr>\n",
              "      <th>10</th>\n",
              "      <td>1.904509</td>\n",
              "      <td>20.257290</td>\n",
              "      <td>75.572936</td>\n",
              "      <td>0.000000</td>\n",
              "      <td>100.575321</td>\n",
              "      <td>18.422108</td>\n",
              "    </tr>\n",
              "    <tr>\n",
              "      <th>11</th>\n",
              "      <td>2.620916</td>\n",
              "      <td>19.537931</td>\n",
              "      <td>76.876365</td>\n",
              "      <td>0.000000</td>\n",
              "      <td>86.242365</td>\n",
              "      <td>18.130049</td>\n",
              "    </tr>\n",
              "    <tr>\n",
              "      <th>35</th>\n",
              "      <td>0.432588</td>\n",
              "      <td>14.554029</td>\n",
              "      <td>65.093206</td>\n",
              "      <td>0.000000</td>\n",
              "      <td>183.905882</td>\n",
              "      <td>69.702941</td>\n",
              "    </tr>\n",
              "    <tr>\n",
              "      <th>36</th>\n",
              "      <td>0.392594</td>\n",
              "      <td>12.274844</td>\n",
              "      <td>75.889683</td>\n",
              "      <td>0.000000</td>\n",
              "      <td>145.163109</td>\n",
              "      <td>50.459223</td>\n",
              "    </tr>\n",
              "    <tr>\n",
              "      <th>37</th>\n",
              "      <td>0.406257</td>\n",
              "      <td>12.607154</td>\n",
              "      <td>75.805937</td>\n",
              "      <td>0.000000</td>\n",
              "      <td>166.673004</td>\n",
              "      <td>40.758827</td>\n",
              "    </tr>\n",
              "    <tr>\n",
              "      <th>38</th>\n",
              "      <td>0.427281</td>\n",
              "      <td>12.602100</td>\n",
              "      <td>73.996299</td>\n",
              "      <td>0.000000</td>\n",
              "      <td>163.402412</td>\n",
              "      <td>36.788377</td>\n",
              "    </tr>\n",
              "    <tr>\n",
              "      <th>39</th>\n",
              "      <td>0.415324</td>\n",
              "      <td>13.221090</td>\n",
              "      <td>82.438085</td>\n",
              "      <td>0.042449</td>\n",
              "      <td>132.103560</td>\n",
              "      <td>35.024811</td>\n",
              "    </tr>\n",
              "    <tr>\n",
              "      <th>40</th>\n",
              "      <td>0.405973</td>\n",
              "      <td>12.987315</td>\n",
              "      <td>69.885826</td>\n",
              "      <td>0.456991</td>\n",
              "      <td>121.158055</td>\n",
              "      <td>34.434650</td>\n",
              "    </tr>\n",
              "    <tr>\n",
              "      <th>41</th>\n",
              "      <td>0.379034</td>\n",
              "      <td>19.220849</td>\n",
              "      <td>60.758130</td>\n",
              "      <td>1.031955</td>\n",
              "      <td>138.962697</td>\n",
              "      <td>33.279551</td>\n",
              "    </tr>\n",
              "    <tr>\n",
              "      <th>42</th>\n",
              "      <td>0.383097</td>\n",
              "      <td>14.440750</td>\n",
              "      <td>77.020858</td>\n",
              "      <td>0.000000</td>\n",
              "      <td>135.889060</td>\n",
              "      <td>31.791988</td>\n",
              "    </tr>\n",
              "    <tr>\n",
              "      <th>43</th>\n",
              "      <td>0.379602</td>\n",
              "      <td>16.101759</td>\n",
              "      <td>71.287703</td>\n",
              "      <td>0.000000</td>\n",
              "      <td>126.912571</td>\n",
              "      <td>29.574754</td>\n",
              "    </tr>\n",
              "    <tr>\n",
              "      <th>44</th>\n",
              "      <td>0.376629</td>\n",
              "      <td>15.912286</td>\n",
              "      <td>67.494255</td>\n",
              "      <td>0.000000</td>\n",
              "      <td>109.747532</td>\n",
              "      <td>33.283117</td>\n",
              "    </tr>\n",
              "    <tr>\n",
              "      <th>45</th>\n",
              "      <td>0.369567</td>\n",
              "      <td>18.258551</td>\n",
              "      <td>68.967313</td>\n",
              "      <td>0.040536</td>\n",
              "      <td>138.719443</td>\n",
              "      <td>36.624549</td>\n",
              "    </tr>\n",
              "    <tr>\n",
              "      <th>46</th>\n",
              "      <td>0.363555</td>\n",
              "      <td>19.865711</td>\n",
              "      <td>69.625768</td>\n",
              "      <td>0.000000</td>\n",
              "      <td>124.078084</td>\n",
              "      <td>33.545549</td>\n",
              "    </tr>\n",
              "    <tr>\n",
              "      <th>47</th>\n",
              "      <td>0.450102</td>\n",
              "      <td>19.909472</td>\n",
              "      <td>65.488206</td>\n",
              "      <td>0.129980</td>\n",
              "      <td>116.271341</td>\n",
              "      <td>36.066565</td>\n",
              "    </tr>\n",
              "    <tr>\n",
              "      <th>48</th>\n",
              "      <td>0.931441</td>\n",
              "      <td>19.434601</td>\n",
              "      <td>57.956241</td>\n",
              "      <td>0.255135</td>\n",
              "      <td>135.106181</td>\n",
              "      <td>36.278166</td>\n",
              "    </tr>\n",
              "    <tr>\n",
              "      <th>49</th>\n",
              "      <td>1.241991</td>\n",
              "      <td>18.969123</td>\n",
              "      <td>69.538188</td>\n",
              "      <td>0.000000</td>\n",
              "      <td>118.017332</td>\n",
              "      <td>34.400735</td>\n",
              "    </tr>\n",
              "    <tr>\n",
              "      <th>50</th>\n",
              "      <td>0.612720</td>\n",
              "      <td>19.676451</td>\n",
              "      <td>62.933642</td>\n",
              "      <td>0.000000</td>\n",
              "      <td>112.012953</td>\n",
              "      <td>33.734715</td>\n",
              "    </tr>\n",
              "    <tr>\n",
              "      <th>51</th>\n",
              "      <td>0.944405</td>\n",
              "      <td>22.503610</td>\n",
              "      <td>53.758038</td>\n",
              "      <td>0.643381</td>\n",
              "      <td>158.391429</td>\n",
              "      <td>31.440952</td>\n",
              "    </tr>\n",
              "    <tr>\n",
              "      <th>52</th>\n",
              "      <td>1.265374</td>\n",
              "      <td>22.782835</td>\n",
              "      <td>55.320305</td>\n",
              "      <td>0.561934</td>\n",
              "      <td>121.238209</td>\n",
              "      <td>30.411625</td>\n",
              "    </tr>\n",
              "  </tbody>\n",
              "</table>\n",
              "</div>"
            ],
            "text/plain": [
              "            UV         TA         HA         V          DV         HS\n",
              "week                                                                 \n",
              "1     0.630288  20.032183  71.811838  0.009372  110.065396  31.685376\n",
              "2     1.704312  20.883696  62.265411  0.000000  133.186345  29.941992\n",
              "3     1.796083  21.916232  65.195303  0.000000  100.559548  28.487680\n",
              "4     0.926146  22.371678  71.061398  0.000000   99.803600  27.483854\n",
              "5     1.419722  21.934341  71.350191  0.000000  102.383625  26.558702\n",
              "6     4.436543  20.747033  61.517719  0.000000  119.381837  23.700722\n",
              "7     1.233079  21.130072  66.125175  0.000000   99.468589  21.144696\n",
              "8     2.486480  20.150534  68.649080  0.000000  119.241521  19.492806\n",
              "9     1.677610  19.636672  73.886738  0.000000  104.411795  19.057949\n",
              "10    1.904509  20.257290  75.572936  0.000000  100.575321  18.422108\n",
              "11    2.620916  19.537931  76.876365  0.000000   86.242365  18.130049\n",
              "35    0.432588  14.554029  65.093206  0.000000  183.905882  69.702941\n",
              "36    0.392594  12.274844  75.889683  0.000000  145.163109  50.459223\n",
              "37    0.406257  12.607154  75.805937  0.000000  166.673004  40.758827\n",
              "38    0.427281  12.602100  73.996299  0.000000  163.402412  36.788377\n",
              "39    0.415324  13.221090  82.438085  0.042449  132.103560  35.024811\n",
              "40    0.405973  12.987315  69.885826  0.456991  121.158055  34.434650\n",
              "41    0.379034  19.220849  60.758130  1.031955  138.962697  33.279551\n",
              "42    0.383097  14.440750  77.020858  0.000000  135.889060  31.791988\n",
              "43    0.379602  16.101759  71.287703  0.000000  126.912571  29.574754\n",
              "44    0.376629  15.912286  67.494255  0.000000  109.747532  33.283117\n",
              "45    0.369567  18.258551  68.967313  0.040536  138.719443  36.624549\n",
              "46    0.363555  19.865711  69.625768  0.000000  124.078084  33.545549\n",
              "47    0.450102  19.909472  65.488206  0.129980  116.271341  36.066565\n",
              "48    0.931441  19.434601  57.956241  0.255135  135.106181  36.278166\n",
              "49    1.241991  18.969123  69.538188  0.000000  118.017332  34.400735\n",
              "50    0.612720  19.676451  62.933642  0.000000  112.012953  33.734715\n",
              "51    0.944405  22.503610  53.758038  0.643381  158.391429  31.440952\n",
              "52    1.265374  22.782835  55.320305  0.561934  121.238209  30.411625"
            ]
          },
          "metadata": {
            "tags": []
          },
          "execution_count": 4
        }
      ]
    },
    {
      "cell_type": "code",
      "metadata": {
        "id": "31f3c32b-13f0-4598-9303-8e289bc0b896",
        "outputId": "d3442f94-3981-48d8-ade6-d69bbb0ceb6d"
      },
      "source": [
        "df.groupby(df.created_at.dt.day).std()"
      ],
      "id": "31f3c32b-13f0-4598-9303-8e289bc0b896",
      "execution_count": null,
      "outputs": [
        {
          "output_type": "execute_result",
          "data": {
            "text/html": [
              "<div>\n",
              "<style scoped>\n",
              "    .dataframe tbody tr th:only-of-type {\n",
              "        vertical-align: middle;\n",
              "    }\n",
              "\n",
              "    .dataframe tbody tr th {\n",
              "        vertical-align: top;\n",
              "    }\n",
              "\n",
              "    .dataframe thead th {\n",
              "        text-align: right;\n",
              "    }\n",
              "</style>\n",
              "<table border=\"1\" class=\"dataframe\">\n",
              "  <thead>\n",
              "    <tr style=\"text-align: right;\">\n",
              "      <th></th>\n",
              "      <th>UV</th>\n",
              "      <th>TA</th>\n",
              "      <th>HA</th>\n",
              "      <th>V</th>\n",
              "      <th>DV</th>\n",
              "      <th>HS</th>\n",
              "    </tr>\n",
              "    <tr>\n",
              "      <th>created_at</th>\n",
              "      <th></th>\n",
              "      <th></th>\n",
              "      <th></th>\n",
              "      <th></th>\n",
              "      <th></th>\n",
              "      <th></th>\n",
              "    </tr>\n",
              "  </thead>\n",
              "  <tbody>\n",
              "    <tr>\n",
              "      <th>1</th>\n",
              "      <td>1.520949</td>\n",
              "      <td>7.467310</td>\n",
              "      <td>22.229067</td>\n",
              "      <td>0.543538</td>\n",
              "      <td>109.584638</td>\n",
              "      <td>15.447117</td>\n",
              "    </tr>\n",
              "    <tr>\n",
              "      <th>2</th>\n",
              "      <td>0.752875</td>\n",
              "      <td>8.164339</td>\n",
              "      <td>23.258371</td>\n",
              "      <td>0.420443</td>\n",
              "      <td>103.572473</td>\n",
              "      <td>13.263287</td>\n",
              "    </tr>\n",
              "    <tr>\n",
              "      <th>3</th>\n",
              "      <td>3.040138</td>\n",
              "      <td>8.534627</td>\n",
              "      <td>24.090511</td>\n",
              "      <td>0.000000</td>\n",
              "      <td>110.104493</td>\n",
              "      <td>10.654464</td>\n",
              "    </tr>\n",
              "    <tr>\n",
              "      <th>4</th>\n",
              "      <td>3.926018</td>\n",
              "      <td>8.365361</td>\n",
              "      <td>22.258394</td>\n",
              "      <td>0.000000</td>\n",
              "      <td>118.199264</td>\n",
              "      <td>9.835959</td>\n",
              "    </tr>\n",
              "    <tr>\n",
              "      <th>5</th>\n",
              "      <td>4.430816</td>\n",
              "      <td>8.232580</td>\n",
              "      <td>22.610346</td>\n",
              "      <td>0.102832</td>\n",
              "      <td>123.901705</td>\n",
              "      <td>9.535373</td>\n",
              "    </tr>\n",
              "    <tr>\n",
              "      <th>6</th>\n",
              "      <td>3.131948</td>\n",
              "      <td>8.246986</td>\n",
              "      <td>24.986101</td>\n",
              "      <td>0.866370</td>\n",
              "      <td>123.576650</td>\n",
              "      <td>9.470478</td>\n",
              "    </tr>\n",
              "    <tr>\n",
              "      <th>7</th>\n",
              "      <td>3.821761</td>\n",
              "      <td>8.584374</td>\n",
              "      <td>24.575588</td>\n",
              "      <td>1.152244</td>\n",
              "      <td>108.179570</td>\n",
              "      <td>9.063878</td>\n",
              "    </tr>\n",
              "    <tr>\n",
              "      <th>8</th>\n",
              "      <td>3.741736</td>\n",
              "      <td>8.179879</td>\n",
              "      <td>23.584134</td>\n",
              "      <td>0.747177</td>\n",
              "      <td>117.009441</td>\n",
              "      <td>8.725162</td>\n",
              "    </tr>\n",
              "    <tr>\n",
              "      <th>9</th>\n",
              "      <td>3.460777</td>\n",
              "      <td>8.287789</td>\n",
              "      <td>25.305253</td>\n",
              "      <td>0.889651</td>\n",
              "      <td>120.853554</td>\n",
              "      <td>8.465201</td>\n",
              "    </tr>\n",
              "    <tr>\n",
              "      <th>10</th>\n",
              "      <td>2.904553</td>\n",
              "      <td>8.042526</td>\n",
              "      <td>23.821981</td>\n",
              "      <td>0.825696</td>\n",
              "      <td>120.321356</td>\n",
              "      <td>8.225986</td>\n",
              "    </tr>\n",
              "    <tr>\n",
              "      <th>11</th>\n",
              "      <td>2.895991</td>\n",
              "      <td>7.432948</td>\n",
              "      <td>22.612430</td>\n",
              "      <td>0.685558</td>\n",
              "      <td>104.339428</td>\n",
              "      <td>8.015930</td>\n",
              "    </tr>\n",
              "    <tr>\n",
              "      <th>12</th>\n",
              "      <td>1.702841</td>\n",
              "      <td>8.025102</td>\n",
              "      <td>25.101208</td>\n",
              "      <td>0.114372</td>\n",
              "      <td>117.511854</td>\n",
              "      <td>7.463468</td>\n",
              "    </tr>\n",
              "    <tr>\n",
              "      <th>13</th>\n",
              "      <td>2.815138</td>\n",
              "      <td>7.681274</td>\n",
              "      <td>22.596023</td>\n",
              "      <td>0.000000</td>\n",
              "      <td>115.460594</td>\n",
              "      <td>6.621222</td>\n",
              "    </tr>\n",
              "    <tr>\n",
              "      <th>14</th>\n",
              "      <td>2.521049</td>\n",
              "      <td>7.567447</td>\n",
              "      <td>22.685157</td>\n",
              "      <td>0.000000</td>\n",
              "      <td>114.602485</td>\n",
              "      <td>6.651932</td>\n",
              "    </tr>\n",
              "    <tr>\n",
              "      <th>15</th>\n",
              "      <td>2.915017</td>\n",
              "      <td>8.925971</td>\n",
              "      <td>23.407713</td>\n",
              "      <td>0.000000</td>\n",
              "      <td>121.179022</td>\n",
              "      <td>6.524908</td>\n",
              "    </tr>\n",
              "    <tr>\n",
              "      <th>16</th>\n",
              "      <td>2.266422</td>\n",
              "      <td>8.178364</td>\n",
              "      <td>21.655128</td>\n",
              "      <td>0.000000</td>\n",
              "      <td>124.438267</td>\n",
              "      <td>6.474250</td>\n",
              "    </tr>\n",
              "    <tr>\n",
              "      <th>17</th>\n",
              "      <td>2.880529</td>\n",
              "      <td>8.445668</td>\n",
              "      <td>22.790830</td>\n",
              "      <td>0.508423</td>\n",
              "      <td>116.222081</td>\n",
              "      <td>6.578003</td>\n",
              "    </tr>\n",
              "    <tr>\n",
              "      <th>18</th>\n",
              "      <td>3.409311</td>\n",
              "      <td>10.115723</td>\n",
              "      <td>25.464413</td>\n",
              "      <td>0.922778</td>\n",
              "      <td>120.303478</td>\n",
              "      <td>6.214693</td>\n",
              "    </tr>\n",
              "    <tr>\n",
              "      <th>19</th>\n",
              "      <td>2.771457</td>\n",
              "      <td>7.572318</td>\n",
              "      <td>21.111216</td>\n",
              "      <td>0.449741</td>\n",
              "      <td>107.455915</td>\n",
              "      <td>6.716257</td>\n",
              "    </tr>\n",
              "    <tr>\n",
              "      <th>20</th>\n",
              "      <td>2.757407</td>\n",
              "      <td>8.408407</td>\n",
              "      <td>24.335940</td>\n",
              "      <td>0.000000</td>\n",
              "      <td>104.904814</td>\n",
              "      <td>6.574286</td>\n",
              "    </tr>\n",
              "    <tr>\n",
              "      <th>21</th>\n",
              "      <td>1.100382</td>\n",
              "      <td>8.813942</td>\n",
              "      <td>25.948563</td>\n",
              "      <td>0.711064</td>\n",
              "      <td>124.144336</td>\n",
              "      <td>6.603805</td>\n",
              "    </tr>\n",
              "    <tr>\n",
              "      <th>22</th>\n",
              "      <td>2.112776</td>\n",
              "      <td>8.964405</td>\n",
              "      <td>25.245101</td>\n",
              "      <td>1.006631</td>\n",
              "      <td>123.130862</td>\n",
              "      <td>6.609625</td>\n",
              "    </tr>\n",
              "    <tr>\n",
              "      <th>23</th>\n",
              "      <td>0.943548</td>\n",
              "      <td>8.517015</td>\n",
              "      <td>23.501919</td>\n",
              "      <td>1.064401</td>\n",
              "      <td>106.576618</td>\n",
              "      <td>6.603841</td>\n",
              "    </tr>\n",
              "    <tr>\n",
              "      <th>24</th>\n",
              "      <td>1.698168</td>\n",
              "      <td>7.774544</td>\n",
              "      <td>21.819945</td>\n",
              "      <td>0.509242</td>\n",
              "      <td>104.716694</td>\n",
              "      <td>6.726420</td>\n",
              "    </tr>\n",
              "    <tr>\n",
              "      <th>25</th>\n",
              "      <td>2.706805</td>\n",
              "      <td>8.486680</td>\n",
              "      <td>24.797541</td>\n",
              "      <td>0.000000</td>\n",
              "      <td>116.301982</td>\n",
              "      <td>6.798804</td>\n",
              "    </tr>\n",
              "    <tr>\n",
              "      <th>26</th>\n",
              "      <td>3.803739</td>\n",
              "      <td>8.511073</td>\n",
              "      <td>23.735576</td>\n",
              "      <td>0.139374</td>\n",
              "      <td>115.583254</td>\n",
              "      <td>7.262015</td>\n",
              "    </tr>\n",
              "    <tr>\n",
              "      <th>27</th>\n",
              "      <td>3.006775</td>\n",
              "      <td>7.881749</td>\n",
              "      <td>24.458978</td>\n",
              "      <td>0.000000</td>\n",
              "      <td>115.254963</td>\n",
              "      <td>7.463376</td>\n",
              "    </tr>\n",
              "    <tr>\n",
              "      <th>28</th>\n",
              "      <td>2.233817</td>\n",
              "      <td>9.093879</td>\n",
              "      <td>25.028211</td>\n",
              "      <td>0.763931</td>\n",
              "      <td>122.209531</td>\n",
              "      <td>6.991279</td>\n",
              "    </tr>\n",
              "    <tr>\n",
              "      <th>29</th>\n",
              "      <td>1.818174</td>\n",
              "      <td>8.073170</td>\n",
              "      <td>23.832700</td>\n",
              "      <td>0.673318</td>\n",
              "      <td>113.802723</td>\n",
              "      <td>6.418810</td>\n",
              "    </tr>\n",
              "    <tr>\n",
              "      <th>30</th>\n",
              "      <td>3.423919</td>\n",
              "      <td>8.994314</td>\n",
              "      <td>25.361723</td>\n",
              "      <td>0.987826</td>\n",
              "      <td>117.042684</td>\n",
              "      <td>4.358290</td>\n",
              "    </tr>\n",
              "    <tr>\n",
              "      <th>31</th>\n",
              "      <td>2.568214</td>\n",
              "      <td>7.698843</td>\n",
              "      <td>22.435082</td>\n",
              "      <td>0.205269</td>\n",
              "      <td>94.681679</td>\n",
              "      <td>14.276765</td>\n",
              "    </tr>\n",
              "  </tbody>\n",
              "</table>\n",
              "</div>"
            ],
            "text/plain": [
              "                  UV         TA         HA         V          DV         HS\n",
              "created_at                                                                 \n",
              "1           1.520949   7.467310  22.229067  0.543538  109.584638  15.447117\n",
              "2           0.752875   8.164339  23.258371  0.420443  103.572473  13.263287\n",
              "3           3.040138   8.534627  24.090511  0.000000  110.104493  10.654464\n",
              "4           3.926018   8.365361  22.258394  0.000000  118.199264   9.835959\n",
              "5           4.430816   8.232580  22.610346  0.102832  123.901705   9.535373\n",
              "6           3.131948   8.246986  24.986101  0.866370  123.576650   9.470478\n",
              "7           3.821761   8.584374  24.575588  1.152244  108.179570   9.063878\n",
              "8           3.741736   8.179879  23.584134  0.747177  117.009441   8.725162\n",
              "9           3.460777   8.287789  25.305253  0.889651  120.853554   8.465201\n",
              "10          2.904553   8.042526  23.821981  0.825696  120.321356   8.225986\n",
              "11          2.895991   7.432948  22.612430  0.685558  104.339428   8.015930\n",
              "12          1.702841   8.025102  25.101208  0.114372  117.511854   7.463468\n",
              "13          2.815138   7.681274  22.596023  0.000000  115.460594   6.621222\n",
              "14          2.521049   7.567447  22.685157  0.000000  114.602485   6.651932\n",
              "15          2.915017   8.925971  23.407713  0.000000  121.179022   6.524908\n",
              "16          2.266422   8.178364  21.655128  0.000000  124.438267   6.474250\n",
              "17          2.880529   8.445668  22.790830  0.508423  116.222081   6.578003\n",
              "18          3.409311  10.115723  25.464413  0.922778  120.303478   6.214693\n",
              "19          2.771457   7.572318  21.111216  0.449741  107.455915   6.716257\n",
              "20          2.757407   8.408407  24.335940  0.000000  104.904814   6.574286\n",
              "21          1.100382   8.813942  25.948563  0.711064  124.144336   6.603805\n",
              "22          2.112776   8.964405  25.245101  1.006631  123.130862   6.609625\n",
              "23          0.943548   8.517015  23.501919  1.064401  106.576618   6.603841\n",
              "24          1.698168   7.774544  21.819945  0.509242  104.716694   6.726420\n",
              "25          2.706805   8.486680  24.797541  0.000000  116.301982   6.798804\n",
              "26          3.803739   8.511073  23.735576  0.139374  115.583254   7.262015\n",
              "27          3.006775   7.881749  24.458978  0.000000  115.254963   7.463376\n",
              "28          2.233817   9.093879  25.028211  0.763931  122.209531   6.991279\n",
              "29          1.818174   8.073170  23.832700  0.673318  113.802723   6.418810\n",
              "30          3.423919   8.994314  25.361723  0.987826  117.042684   4.358290\n",
              "31          2.568214   7.698843  22.435082  0.205269   94.681679  14.276765"
            ]
          },
          "metadata": {
            "tags": []
          },
          "execution_count": 8
        }
      ]
    },
    {
      "cell_type": "code",
      "metadata": {
        "colab": {
          "base_uri": "https://localhost:8080/",
          "height": 265
        },
        "id": "e671129f-7c1d-4a55-b123-a6f8b56b596b",
        "outputId": "d5c09cd3-0a92-4c66-d803-3a102e74e089"
      },
      "source": [
        "#Vamos a revisar la variabilidad de la variable HS para observar que efecto tuvo agrupar por semana vs por día\n",
        "plt.hist(df.groupby(df.created_at.dt.isocalendar().week)[\"HS\"].std(),bins=50, color=\"blue\",label=\"Week\");\n",
        "plt.hist(df.groupby(df.created_at.dt.day)[\"HS\"].std(),bins=50,color=\"orange\", label=\"Day\");\n",
        "plt.legend();"
      ],
      "id": "e671129f-7c1d-4a55-b123-a6f8b56b596b",
      "execution_count": null,
      "outputs": [
        {
          "output_type": "display_data",
          "data": {
            "image/png": "[encoded data removed]",
            "text/plain": [
              "<Figure size 432x288 with 1 Axes>"
            ]
          },
          "metadata": {
            "tags": [],
            "needs_background": "light"
          }
        }
      ]
    },
    {
      "cell_type": "markdown",
      "metadata": {
        "id": "88c41588-2135-4639-874a-c59ed27087e4"
      },
      "source": [
        "# Muestreo o Sample\n",
        "Python tiene la función sample para poder generar un muestreo. Algunos ejemplos.\n",
        "<ul>\n",
        "    <li><b>dataframe.sample(n=4)</b>: Permite obtener 4 filas aleatoreas</li>\n",
        "    <li><b>dataframe.sample(frac=0.5, replace=True)</b>: Permite obtener el 50\\% de las filas aleatoreas con posibilidad de reemplazo</li>\n",
        "</ul>\n",
        "No existe una forma estratificada por defecto, hay que construir una."
      ],
      "id": "88c41588-2135-4639-874a-c59ed27087e4"
    },
    {
      "cell_type": "code",
      "metadata": {
        "colab": {
          "base_uri": "https://localhost:8080/"
        },
        "id": "d42bd15f-df49-4c27-98ec-2e3dcd963add",
        "outputId": "1fb2509f-5833-478f-d309-9a5c6183f9f1"
      },
      "source": [
        "df1=df.sample(frac=0.5, replace=False)\n",
        "df1.info()"
      ],
      "id": "d42bd15f-df49-4c27-98ec-2e3dcd963add",
      "execution_count": null,
      "outputs": [
        {
          "output_type": "stream",
          "text": [
            "<class 'pandas.core.frame.DataFrame'>\n",
            "Int64Index: 26981 entries, 36787 to 40665\n",
            "Data columns (total 7 columns):\n",
            " #   Column      Non-Null Count  Dtype         \n",
            "---  ------      --------------  -----         \n",
            " 0   created_at  26981 non-null  datetime64[ns]\n",
            " 1   UV          26981 non-null  float64       \n",
            " 2   TA          26981 non-null  float64       \n",
            " 3   HA          26981 non-null  float64       \n",
            " 4   V           26981 non-null  float64       \n",
            " 5   DV          26981 non-null  int64         \n",
            " 6   HS          26981 non-null  int64         \n",
            "dtypes: datetime64[ns](1), float64(4), int64(2)\n",
            "memory usage: 1.6 MB\n"
          ],
          "name": "stdout"
        }
      ]
    },
    {
      "cell_type": "code",
      "metadata": {
        "id": "cf0ef2ba-6024-4f7f-8a1b-05becf168c2c",
        "outputId": "7e89d38d-84ab-4c4a-d9cb-1cd45c9d44b5"
      },
      "source": [
        "import matplotlib.pyplot as plt\n",
        "plt.scatter(df1.created_at, df1.HS)\n",
        "plt.xlabel(\"Fecha\")\n",
        "plt.ylabel(\"HS\")\n",
        "plt.show()"
      ],
      "id": "cf0ef2ba-6024-4f7f-8a1b-05becf168c2c",
      "execution_count": null,
      "outputs": [
        {
          "output_type": "display_data",
          "data": {
            "image/png": "[encoded data removed]",
            "text/plain": [
              "<Figure size 432x288 with 1 Axes>"
            ]
          },
          "metadata": {
            "tags": [],
            "needs_background": "light"
          }
        }
      ]
    },
    {
      "cell_type": "markdown",
      "metadata": {
        "id": "47e00d5d-c67d-469e-9e18-29bec6f9cbeb"
      },
      "source": [
        "# Discretización\n",
        "Pandas permite discritizar utilizando bins. Le método cut permite etiquetar utilizando la variable de entrada, el número de bins y las etiquetas.\n",
        "<ul>\n",
        "    <li><b>pd.cut(dataFrame[Columna],nroBins,Etiquetas)</b>: Genera una nueva columna con las etiquetas definidas en el numero de bins</li>\n",
        "    <li><b>pd.cut(df['HS'],3,labels=['Bajo',\"Medio\",'Alto'])</b>:Genera una columna con 3 valores</li>\n",
        "</ul>"
      ],
      "id": "47e00d5d-c67d-469e-9e18-29bec6f9cbeb"
    },
    {
      "cell_type": "code",
      "metadata": {
        "id": "146a04bf-61c5-4b7c-9c28-e14aebcee41a"
      },
      "source": [
        "df['HS_Ordinal_3']=pd.cut(df['HS'],3,labels=['Bajo',\"Medio\",'Alto'])\n",
        "df['HS_Ordinal_5']=pd.cut(df['HS'],5,labels=['Bajo',\"Medio Bajo\",\"Neutro\",'Medio','Alto'])\n",
        "\n"
      ],
      "id": "146a04bf-61c5-4b7c-9c28-e14aebcee41a",
      "execution_count": null,
      "outputs": []
    },
    {
      "cell_type": "code",
      "metadata": {
        "id": "143466a2-2229-47fb-92d5-629546f47d52",
        "outputId": "4902cad6-0b9d-4fd0-8754-8128736dd2b5"
      },
      "source": [
        "df.head()"
      ],
      "id": "143466a2-2229-47fb-92d5-629546f47d52",
      "execution_count": null,
      "outputs": [
        {
          "output_type": "execute_result",
          "data": {
            "text/html": [
              "<div>\n",
              "<style scoped>\n",
              "    .dataframe tbody tr th:only-of-type {\n",
              "        vertical-align: middle;\n",
              "    }\n",
              "\n",
              "    .dataframe tbody tr th {\n",
              "        vertical-align: top;\n",
              "    }\n",
              "\n",
              "    .dataframe thead th {\n",
              "        text-align: right;\n",
              "    }\n",
              "</style>\n",
              "<table border=\"1\" class=\"dataframe\">\n",
              "  <thead>\n",
              "    <tr style=\"text-align: right;\">\n",
              "      <th></th>\n",
              "      <th>created_at</th>\n",
              "      <th>UV</th>\n",
              "      <th>TA</th>\n",
              "      <th>HA</th>\n",
              "      <th>V</th>\n",
              "      <th>DV</th>\n",
              "      <th>HS</th>\n",
              "      <th>HS_Ordinal_3</th>\n",
              "      <th>HS_Ordinal_5</th>\n",
              "    </tr>\n",
              "  </thead>\n",
              "  <tbody>\n",
              "    <tr>\n",
              "      <th>0</th>\n",
              "      <td>2019-08-31 17:33:43</td>\n",
              "      <td>0.42</td>\n",
              "      <td>24.85</td>\n",
              "      <td>33.16</td>\n",
              "      <td>0.0</td>\n",
              "      <td>45</td>\n",
              "      <td>0</td>\n",
              "      <td>Bajo</td>\n",
              "      <td>Bajo</td>\n",
              "    </tr>\n",
              "    <tr>\n",
              "      <th>1</th>\n",
              "      <td>2019-08-31 17:34:07</td>\n",
              "      <td>0.42</td>\n",
              "      <td>24.84</td>\n",
              "      <td>35.54</td>\n",
              "      <td>0.0</td>\n",
              "      <td>45</td>\n",
              "      <td>0</td>\n",
              "      <td>Bajo</td>\n",
              "      <td>Bajo</td>\n",
              "    </tr>\n",
              "    <tr>\n",
              "      <th>2</th>\n",
              "      <td>2019-08-31 17:34:30</td>\n",
              "      <td>0.43</td>\n",
              "      <td>24.83</td>\n",
              "      <td>33.87</td>\n",
              "      <td>0.0</td>\n",
              "      <td>0</td>\n",
              "      <td>0</td>\n",
              "      <td>Bajo</td>\n",
              "      <td>Bajo</td>\n",
              "    </tr>\n",
              "    <tr>\n",
              "      <th>3</th>\n",
              "      <td>2019-08-31 17:34:54</td>\n",
              "      <td>0.43</td>\n",
              "      <td>24.85</td>\n",
              "      <td>34.47</td>\n",
              "      <td>0.0</td>\n",
              "      <td>113</td>\n",
              "      <td>0</td>\n",
              "      <td>Bajo</td>\n",
              "      <td>Bajo</td>\n",
              "    </tr>\n",
              "    <tr>\n",
              "      <th>4</th>\n",
              "      <td>2019-08-31 17:35:17</td>\n",
              "      <td>0.43</td>\n",
              "      <td>24.86</td>\n",
              "      <td>33.80</td>\n",
              "      <td>0.0</td>\n",
              "      <td>158</td>\n",
              "      <td>0</td>\n",
              "      <td>Bajo</td>\n",
              "      <td>Bajo</td>\n",
              "    </tr>\n",
              "  </tbody>\n",
              "</table>\n",
              "</div>"
            ],
            "text/plain": [
              "           created_at    UV     TA     HA    V   DV  HS HS_Ordinal_3  \\\n",
              "0 2019-08-31 17:33:43  0.42  24.85  33.16  0.0   45   0         Bajo   \n",
              "1 2019-08-31 17:34:07  0.42  24.84  35.54  0.0   45   0         Bajo   \n",
              "2 2019-08-31 17:34:30  0.43  24.83  33.87  0.0    0   0         Bajo   \n",
              "3 2019-08-31 17:34:54  0.43  24.85  34.47  0.0  113   0         Bajo   \n",
              "4 2019-08-31 17:35:17  0.43  24.86  33.80  0.0  158   0         Bajo   \n",
              "\n",
              "  HS_Ordinal_5  \n",
              "0         Bajo  \n",
              "1         Bajo  \n",
              "2         Bajo  \n",
              "3         Bajo  \n",
              "4         Bajo  "
            ]
          },
          "metadata": {
            "tags": []
          },
          "execution_count": 65
        }
      ]
    },
    {
      "cell_type": "code",
      "metadata": {
        "id": "53d1f76a-31bb-4317-8bd6-7f2a79c85979",
        "outputId": "338c9d5a-7350-48cf-a642-03c869362ee0"
      },
      "source": [
        "plt.hist(df[\"HS\"],bins=5);"
      ],
      "id": "53d1f76a-31bb-4317-8bd6-7f2a79c85979",
      "execution_count": null,
      "outputs": [
        {
          "output_type": "display_data",
          "data": {
            "image/png": "[encoded data removed]",
            "text/plain": [
              "<Figure size 432x288 with 1 Axes>"
            ]
          },
          "metadata": {
            "tags": [],
            "needs_background": "light"
          }
        }
      ]
    },
    {
      "cell_type": "code",
      "metadata": {
        "colab": {
          "base_uri": "https://localhost:8080/",
          "height": 280
        },
        "id": "77669ec3-d774-4b46-bb05-3ae1d36edb08",
        "outputId": "7a091b81-08de-4a4b-8184-17bf57ed87ca"
      },
      "source": [
        "import seaborn as sb\n",
        "\n",
        "sb.boxplot(x=\"HS_Ordinal_3\", y=\"HS\", data=df);\n",
        "\n"
      ],
      "id": "77669ec3-d774-4b46-bb05-3ae1d36edb08",
      "execution_count": null,
      "outputs": [
        {
          "output_type": "display_data",
          "data": {
            "image/png": "[encoded data removed]",
            "text/plain": [
              "<Figure size 432x288 with 1 Axes>"
            ]
          },
          "metadata": {
            "tags": [],
            "needs_background": "light"
          }
        }
      ]
    },
    {
      "cell_type": "code",
      "metadata": {
        "id": "27bc7e73-3606-42a7-87c3-5266b5c0c2a1",
        "outputId": "918a61b6-a865-4026-8b95-ad4c0893e2f2"
      },
      "source": [
        "sb.boxplot(x=\"HS_Ordinal_5\", y=\"HS\", data=df);"
      ],
      "id": "27bc7e73-3606-42a7-87c3-5266b5c0c2a1",
      "execution_count": null,
      "outputs": [
        {
          "output_type": "display_data",
          "data": {
            "image/png": "[encoded data removed]",
            "text/plain": [
              "<Figure size 432x288 with 1 Axes>"
            ]
          },
          "metadata": {
            "tags": [],
            "needs_background": "light"
          }
        }
      ]
    },
    {
      "cell_type": "markdown",
      "metadata": {
        "id": "5d7c6182-d269-403e-966d-7fc09cc0dd66"
      },
      "source": [
        "# ¿Será posible discretizar mejor?\n",
        "Existen dos funciones interesantes qcut y KBinsDiscretizer:\n",
        "<ul>\n",
        "    <li><b>qcut</b>: Funciona similar a cut pero utilizando quantiles</li>\n",
        "    <li><b>KBinsDiscretizer</b>:Método no supervisado que busca particiones uniformes, quantiles o con kmedio</li>\n",
        "</ul>"
      ],
      "id": "5d7c6182-d269-403e-966d-7fc09cc0dd66"
    },
    {
      "cell_type": "code",
      "metadata": {
        "colab": {
          "base_uri": "https://localhost:8080/",
          "height": 280
        },
        "id": "e0b1d745-c21f-45da-a7f3-d3f6e372126a",
        "outputId": "aa352acc-1aab-45a1-f182-34a5e1ba8884"
      },
      "source": [
        "df['HS_Ordinal_5Q']=pd.qcut(df['HS'],5,labels=False)\n",
        "\n",
        "sb.boxplot(x=\"HS_Ordinal_5Q\", y=\"HS\", data=df);"
      ],
      "id": "e0b1d745-c21f-45da-a7f3-d3f6e372126a",
      "execution_count": null,
      "outputs": [
        {
          "output_type": "display_data",
          "data": {
            "image/png": "[encoded data removed]",
            "text/plain": [
              "<Figure size 432x288 with 1 Axes>"
            ]
          },
          "metadata": {
            "tags": [],
            "needs_background": "light"
          }
        }
      ]
    },
    {
      "cell_type": "code",
      "metadata": {
        "colab": {
          "base_uri": "https://localhost:8080/",
          "height": 204
        },
        "id": "62aead7b-fba7-4e9b-be82-8f8f97bc6aaa",
        "outputId": "79d8216c-7f30-452f-9f77-3b3fb3216baa"
      },
      "source": [
        "from sklearn.preprocessing import KBinsDiscretizer\n",
        "kbins = KBinsDiscretizer(n_bins=5, encode='ordinal', strategy='kmeans')\n",
        "df['HS_KB_5'] = kbins.fit_transform(df[['HS']])\n",
        "df.head()"
      ],
      "id": "62aead7b-fba7-4e9b-be82-8f8f97bc6aaa",
      "execution_count": null,
      "outputs": [
        {
          "output_type": "execute_result",
          "data": {
            "text/html": [
              "<div>\n",
              "<style scoped>\n",
              "    .dataframe tbody tr th:only-of-type {\n",
              "        vertical-align: middle;\n",
              "    }\n",
              "\n",
              "    .dataframe tbody tr th {\n",
              "        vertical-align: top;\n",
              "    }\n",
              "\n",
              "    .dataframe thead th {\n",
              "        text-align: right;\n",
              "    }\n",
              "</style>\n",
              "<table border=\"1\" class=\"dataframe\">\n",
              "  <thead>\n",
              "    <tr style=\"text-align: right;\">\n",
              "      <th></th>\n",
              "      <th>created_at</th>\n",
              "      <th>UV</th>\n",
              "      <th>TA</th>\n",
              "      <th>HA</th>\n",
              "      <th>V</th>\n",
              "      <th>DV</th>\n",
              "      <th>HS</th>\n",
              "      <th>HS_Ordinal_3</th>\n",
              "      <th>HS_Ordinal_5</th>\n",
              "      <th>HS_KB_5</th>\n",
              "      <th>HS_Ordinal_5Q</th>\n",
              "    </tr>\n",
              "  </thead>\n",
              "  <tbody>\n",
              "    <tr>\n",
              "      <th>0</th>\n",
              "      <td>2019-08-31 17:33:43</td>\n",
              "      <td>0.42</td>\n",
              "      <td>24.85</td>\n",
              "      <td>33.16</td>\n",
              "      <td>0.0</td>\n",
              "      <td>45</td>\n",
              "      <td>0</td>\n",
              "      <td>Bajo</td>\n",
              "      <td>Bajo</td>\n",
              "      <td>0.0</td>\n",
              "      <td>0</td>\n",
              "    </tr>\n",
              "    <tr>\n",
              "      <th>1</th>\n",
              "      <td>2019-08-31 17:34:07</td>\n",
              "      <td>0.42</td>\n",
              "      <td>24.84</td>\n",
              "      <td>35.54</td>\n",
              "      <td>0.0</td>\n",
              "      <td>45</td>\n",
              "      <td>0</td>\n",
              "      <td>Bajo</td>\n",
              "      <td>Bajo</td>\n",
              "      <td>0.0</td>\n",
              "      <td>0</td>\n",
              "    </tr>\n",
              "    <tr>\n",
              "      <th>2</th>\n",
              "      <td>2019-08-31 17:34:30</td>\n",
              "      <td>0.43</td>\n",
              "      <td>24.83</td>\n",
              "      <td>33.87</td>\n",
              "      <td>0.0</td>\n",
              "      <td>0</td>\n",
              "      <td>0</td>\n",
              "      <td>Bajo</td>\n",
              "      <td>Bajo</td>\n",
              "      <td>0.0</td>\n",
              "      <td>0</td>\n",
              "    </tr>\n",
              "    <tr>\n",
              "      <th>3</th>\n",
              "      <td>2019-08-31 17:34:54</td>\n",
              "      <td>0.43</td>\n",
              "      <td>24.85</td>\n",
              "      <td>34.47</td>\n",
              "      <td>0.0</td>\n",
              "      <td>113</td>\n",
              "      <td>0</td>\n",
              "      <td>Bajo</td>\n",
              "      <td>Bajo</td>\n",
              "      <td>0.0</td>\n",
              "      <td>0</td>\n",
              "    </tr>\n",
              "    <tr>\n",
              "      <th>4</th>\n",
              "      <td>2019-08-31 17:35:17</td>\n",
              "      <td>0.43</td>\n",
              "      <td>24.86</td>\n",
              "      <td>33.80</td>\n",
              "      <td>0.0</td>\n",
              "      <td>158</td>\n",
              "      <td>0</td>\n",
              "      <td>Bajo</td>\n",
              "      <td>Bajo</td>\n",
              "      <td>0.0</td>\n",
              "      <td>0</td>\n",
              "    </tr>\n",
              "  </tbody>\n",
              "</table>\n",
              "</div>"
            ],
            "text/plain": [
              "           created_at    UV     TA  ...  HS_Ordinal_5  HS_KB_5  HS_Ordinal_5Q\n",
              "0 2019-08-31 17:33:43  0.42  24.85  ...          Bajo      0.0              0\n",
              "1 2019-08-31 17:34:07  0.42  24.84  ...          Bajo      0.0              0\n",
              "2 2019-08-31 17:34:30  0.43  24.83  ...          Bajo      0.0              0\n",
              "3 2019-08-31 17:34:54  0.43  24.85  ...          Bajo      0.0              0\n",
              "4 2019-08-31 17:35:17  0.43  24.86  ...          Bajo      0.0              0\n",
              "\n",
              "[5 rows x 11 columns]"
            ]
          },
          "metadata": {
            "tags": []
          },
          "execution_count": 12
        }
      ]
    },
    {
      "cell_type": "code",
      "metadata": {
        "colab": {
          "base_uri": "https://localhost:8080/",
          "height": 280
        },
        "id": "9cdfd6c9-4eb9-42db-a6f6-d07896f80ffc",
        "outputId": "7d148c82-0bf0-4aed-ba14-a799ca9c6e19"
      },
      "source": [
        "sb.boxplot(x=\"HS_KB_5\", y=\"HS\", data=df);"
      ],
      "id": "9cdfd6c9-4eb9-42db-a6f6-d07896f80ffc",
      "execution_count": null,
      "outputs": [
        {
          "output_type": "display_data",
          "data": {
            "image/png": "[encoded data removed]",
            "text/plain": [
              "<Figure size 432x288 with 1 Axes>"
            ]
          },
          "metadata": {
            "tags": [],
            "needs_background": "light"
          }
        }
      ]
    },
    {
      "cell_type": "markdown",
      "metadata": {
        "id": "94820829-8ec3-43f1-bc2c-46125a77c886"
      },
      "source": [
        "# Normalización y Transformación\n",
        "Una transformación de atributos es una función que asigna todo el conjunto de valores de un atributo determinado a un nuevo conjunto de valores de sustitución, de forma que cada valor antiguo pueda identificarse con uno de los nuevos valores. \n"
      ],
      "id": "94820829-8ec3-43f1-bc2c-46125a77c886"
    },
    {
      "cell_type": "code",
      "metadata": {
        "id": "025e8ccd-3a3d-4dfb-9633-6290d8ec06a0",
        "outputId": "dd07e09b-4c93-4854-aeb6-4b1690383cfa"
      },
      "source": [
        "plt.hist(df[\"HS\"],bins=100);"
      ],
      "id": "025e8ccd-3a3d-4dfb-9633-6290d8ec06a0",
      "execution_count": null,
      "outputs": [
        {
          "output_type": "display_data",
          "data": {
            "image/png": "[encoded data removed]",
            "text/plain": [
              "<Figure size 432x288 with 1 Axes>"
            ]
          },
          "metadata": {
            "tags": [],
            "needs_background": "light"
          }
        }
      ]
    },
    {
      "cell_type": "code",
      "metadata": {
        "id": "67bbe4f7-a340-45b9-b524-b676505f9a8b"
      },
      "source": [
        "df[\"HS_Log\"]=np.log10(df[\"HS\"]+0.01)"
      ],
      "id": "67bbe4f7-a340-45b9-b524-b676505f9a8b",
      "execution_count": null,
      "outputs": []
    },
    {
      "cell_type": "code",
      "metadata": {
        "id": "dc58054a-861b-4c84-8828-3e98af43e82a",
        "outputId": "c3da5d4f-4788-4b02-cc31-e9cac504163d"
      },
      "source": [
        "plt.hist(df[\"HS_Log\"],bins=100);"
      ],
      "id": "dc58054a-861b-4c84-8828-3e98af43e82a",
      "execution_count": null,
      "outputs": [
        {
          "output_type": "display_data",
          "data": {
            "image/png": "[encoded data removed]",
            "text/plain": [
              "<Figure size 432x288 with 1 Axes>"
            ]
          },
          "metadata": {
            "tags": [],
            "needs_background": "light"
          }
        }
      ]
    },
    {
      "cell_type": "code",
      "metadata": {
        "id": "e38eeafc-e6c9-4053-9209-4ea598671c4e"
      },
      "source": [
        "from scipy import stats\n",
        "df[\"HS_Z\"]=stats.zscore(df[\"HS\"])"
      ],
      "id": "e38eeafc-e6c9-4053-9209-4ea598671c4e",
      "execution_count": null,
      "outputs": []
    },
    {
      "cell_type": "code",
      "metadata": {
        "id": "f642233a-810a-4258-b372-bb916c049254",
        "outputId": "0bb9e759-9468-48e4-b682-6047d25bcf95"
      },
      "source": [
        "plt.hist(df[\"HS_Z\"],bins=100);"
      ],
      "id": "f642233a-810a-4258-b372-bb916c049254",
      "execution_count": null,
      "outputs": [
        {
          "output_type": "display_data",
          "data": {
            "image/png": "[encoded data removed]",
            "text/plain": [
              "<Figure size 432x288 with 1 Axes>"
            ]
          },
          "metadata": {
            "tags": [],
            "needs_background": "light"
          }
        }
      ]
    },
    {
      "cell_type": "code",
      "metadata": {
        "id": "dcfdcddc-a93d-43bd-a02b-1f130103b9b1"
      },
      "source": [],
      "id": "dcfdcddc-a93d-43bd-a02b-1f130103b9b1",
      "execution_count": null,
      "outputs": []
    }
  ]
}